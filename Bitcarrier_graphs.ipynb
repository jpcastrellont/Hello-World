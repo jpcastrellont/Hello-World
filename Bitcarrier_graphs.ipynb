{
  "nbformat": 4,
  "nbformat_minor": 0,
  "metadata": {
    "colab": {
      "name": "Bitcarrier_graphs.ipynb",
      "provenance": [],
      "collapsed_sections": [],
      "include_colab_link": true
    },
    "kernelspec": {
      "display_name": "Python 3",
      "name": "python3"
    }
  },
  "cells": [
    {
      "cell_type": "markdown",
      "metadata": {
        "id": "view-in-github",
        "colab_type": "text"
      },
      "source": [
        "<a href=\"https://colab.research.google.com/github/jpcastrellont/Hello-World/blob/master/Bitcarrier_graphs.ipynb\" target=\"_parent\"><img src=\"https://colab.research.google.com/assets/colab-badge.svg\" alt=\"Open In Colab\"/></a>"
      ]
    },
    {
      "cell_type": "code",
      "metadata": {
        "id": "V8mt6yIMFPMa",
        "outputId": "df7cc9da-db38-4845-f7c9-719573f9669b",
        "colab": {
          "base_uri": "https://localhost:8080/",
          "height": 71
        }
      },
      "source": [
        "import requests\n",
        "import json\n",
        "import numpy as np\n",
        "import pandas as pd\n",
        "from unicodedata import normalize\n",
        "from sqlalchemy import create_engine\n",
        "import os\n",
        "import psycopg2\n",
        "import io\n",
        "import matplotlib.pyplot as plt\n",
        "import warnings\n",
        "import folium\n",
        "import plotly.express as px\n",
        "import plotly.graph_objects as go\n",
        "import seaborn as sns"
      ],
      "execution_count": 5,
      "outputs": [
        {
          "output_type": "stream",
          "text": [
            "/usr/local/lib/python3.6/dist-packages/psycopg2/__init__.py:144: UserWarning: The psycopg2 wheel package will be renamed from release 2.8; in order to keep installing from binary please use \"pip install psycopg2-binary\" instead. For details see: <http://initd.org/psycopg/docs/install.html#binary-install-from-pypi>.\n",
            "  \"\"\")\n"
          ],
          "name": "stderr"
        }
      ]
    },
    {
      "cell_type": "code",
      "metadata": {
        "id": "GB4k1SQ8F09M"
      },
      "source": [
        "#Conexión con la base de datos\n",
        "host = 'team73test.c4xr0dadx0gz.us-east-2.rds.amazonaws.com'\n",
        "port = 5432\n",
        "user = 'postgres'\n",
        "password = 'ds4a_t73'\n",
        "database = 'postgres'"
      ],
      "execution_count": 6,
      "outputs": []
    },
    {
      "cell_type": "code",
      "metadata": {
        "id": "LUyNGMdwF6UL"
      },
      "source": [
        "connDB = create_engine(f'postgresql://{user}:{password}@{host}:{port}/{database}')\n",
        "conn = connDB.raw_connection()\n",
        "cur = conn.cursor()"
      ],
      "execution_count": 7,
      "outputs": []
    },
    {
      "cell_type": "code",
      "metadata": {
        "id": "5AXHLbA1GBGJ",
        "outputId": "4b7f7c01-4671-478f-8da7-a6d1fb5abf98",
        "colab": {
          "base_uri": "https://localhost:8080/",
          "height": 35
        }
      },
      "source": [
        "%load_ext sql\n",
        "%sql postgresql://{user}:{password}@{host}/{database}"
      ],
      "execution_count": 8,
      "outputs": [
        {
          "output_type": "execute_result",
          "data": {
            "application/vnd.google.colaboratory.intrinsic+json": {
              "type": "string"
            },
            "text/plain": [
              "'Connected: postgres@postgres'"
            ]
          },
          "metadata": {
            "tags": []
          },
          "execution_count": 8
        }
      ]
    },
    {
      "cell_type": "code",
      "metadata": {
        "id": "3g2pQIX8GHWC"
      },
      "source": [
        "#Loading Bitcarrier\n",
        "df = pd.read_sql(''' SELECT * FROM carguebogota.bitcarr ''', conn)"
      ],
      "execution_count": null,
      "outputs": []
    },
    {
      "cell_type": "code",
      "metadata": {
        "id": "xIvpHQqxLiBD"
      },
      "source": [
        "#Data cleaning\n",
        "df['name_from'] = df['name_from'].replace('KR50,CL13', 'CL13')\n",
        "df['name_from'] = df['name_from'].replace('CL13,KR50', 'CL13')\n",
        "\n",
        "df['name_to'] = df['name_to'].replace('CL5A;KR47', 'KR50;KR47')\n",
        "df['name_to'] = df['name_to'].replace('CL17;KR56', 'KR50;KR56')\n",
        "df['name_to'] = df['name_to'].replace('KR62;CL5A', 'KR62;KR50')"
      ],
      "execution_count": null,
      "outputs": []
    },
    {
      "cell_type": "code",
      "metadata": {
        "id": "JIKwUSkCRET0"
      },
      "source": [
        "#Defining direction\n",
        "West_East = ['KR97;KR90', 'KR123;KR106', 'CL17;KR129', 'KR106;KR97','KR128;KR123','KR128;AV.CARACAS','KR27;KR22','KR22;AV.CARACAS',\n",
        "              'KR39;KR33','KR33;KR27','KR47;KR39','KR56;KR47','KR65;KR56','KR68;KR65','KR68D;KR68','KR90;KR68D','KR62;KR50','KR50;KR47','KR119;AV.CARACAS',\n",
        "              'KR24;CARACAS', 'KR69H;KR58','KR76;KR71','KR81;KR76','KR89A;KR81', 'KR58;KR24', 'KR112A;KR102','KR119;KR112A','KR71;KR69H;',\n",
        "              'KR102;KR96','KR96;KR89A','KR90;KR68','KR128;KR106']\n",
        "East_West = ['KR90;KR97','KR97;KR106','KR106;KR123','KR129;CL17','KR123;KR128','AV.CARACAS;KR128','KR50;KR56','KR22;KR27','AV.CARACAS;KR22',\n",
        "              'KR33;KR39','KR39;KR47','KR27;KR33','KR47;KR56','KR56;KR65','KR65;KR68','KR68;KR68D','KR68D;KR90','AV.CARACAS;KR119','CARACAS;KR24',\n",
        "              'KR69H;KR71','KR76;KR81','KR81;KR89A','KR24;KR58','KR58;KR69H','KR112A;KR119','KR71;KR76' ,'KR102;KR112A''KR96;KR102','KR89A;KR96',\n",
        "              'KR68;KR90','KR106;KR128']\n",
        "df['orientation'] = 'west_east'\n",
        "df['orientation'] = df['orientation'].where(df['name_to'].isin(West_East), 'east_west')"
      ],
      "execution_count": null,
      "outputs": []
    },
    {
      "cell_type": "code",
      "metadata": {
        "id": "V3kKxL7mHogZ"
      },
      "source": [
        "#Defining coordenates \n",
        "coordenadas1 = {'KR97;KR90': ([-74.14853144099999, 4.666731241846797],\n",
        "  [-74.13958359200001, 4.66322384184687]),\n",
        " 'KR90;KR97': ([-74.13959365, 4.663407966846895],\n",
        "  [-74.14852004199997, 4.6669153668467676]),\n",
        " 'KR123;KR106': ([-74.15966864400002, 4.686716340846148],\n",
        "  [-74.152940322, 4.673972885846544]),\n",
        "\n",
        " #'CL17;KR129': ([[-74.13959365, 4.663407966846895],\n",
        " #  [-74.16347621800003, 4.690046288846024]]),\n",
        " \n",
        " 'KR106;KR97': ([-74.15295172200001, 4.67388500184656],\n",
        "  [-74.14872456, 4.666804757846783]),\n",
        " 'KR97;KR106': ([-74.148692374, 4.666987879846787],\n",
        "  [-74.15278006, 4.6739705468465464]),\n",
        " 'KR106;KR123': ([-74.15278006, 4.674109557846537],\n",
        "  [-74.159474854, 4.686962612846106]),\n",
        "\n",
        " #'KR129;CL17': ([[-74.16369079499998, 4.689864509846029],\n",
        " # [-74.13958359200001, 4.66322384184687]]),\n",
        "\n",
        " 'KR128;KR123': ([-74.16369079499998, 4.689864509846029],\n",
        "  [-74.15974258300002, 4.686870486846144]),\n",
        " 'KR123;KR128': ([-74.15954946400001, 4.6870308808461125],\n",
        "  [-74.16347621800003, 4.690046288846024]),\n",
        "\n",
        "# 'AV.CARACAS;KR128': ([[-74.07990931400002, 4.603861481848834],\n",
        "#   [-74.16347621800003, 4.690046288846024]]),\n",
        "# 'KR128;AV.CARACAS': ([[-74.16369079499998, 4.689864509846029],\n",
        "#   [-74.079995145, 4.603668985848824]]),\n",
        "# 'CL17;KR56': ([-74.10533665600002, 4.629727653847998],\n",
        "#  [-74.11004661499999, 4.630438792847955]),\n",
        "\n",
        " 'KR27;KR22': ([-74.089361419, 4.6118393248485665],\n",
        "  [-74.08700107499999, 4.609711195848607]),\n",
        " 'KR22;KR27': ([-74.08688305800001, 4.610010631848636],\n",
        "  [-74.08914684199999, 4.612010430848545]),\n",
        " 'AV.CARACAS;KR22': ([-74.07990931400002, 4.603861481848834],\n",
        "  [-74.08670066799999, 4.609860913848646]),\n",
        " 'KR22;AV.CARACAS': ([-74.08690451500001, 4.609721889848635],\n",
        "  [-74.079995145, 4.603668985848824]),\n",
        " 'KR33;KR27': ([-74.09449516699999, 4.616376281848395],\n",
        "  [-74.08945261399998, 4.611906162848576]),\n",
        " 'KR33;KR39': ([-74.09424840399998, 4.616611550848413],\n",
        "  [-74.09915148200002, 4.620974700848282]),\n",
        " 'KR39;KR33': ([-74.09959136399999, 4.620857066848242],\n",
        "  [-74.09456490399998, 4.616403016848387]),\n",
        " 'KR39;KR47': ([-74.09923194800001, 4.621022822848241],\n",
        "  [-74.104105522, 4.625377924848134]),\n",
        " 'KR47;KR39': ([-74.10428254800001, 4.625107904848125],\n",
        "  [-74.09968524099997, 4.620937271848254]),\n",
        " 'KR27;KR33': ([-74.08931313900001, 4.612173515848538],\n",
        "  [-74.094216217, 4.616568774848427]),\n",
        " 'KR56;KR47': ([-74.11038725499998, 4.630064508847984],\n",
        "  [-74.104368378, 4.62517206784811]),\n",
        " 'KR47;KR56': ([-74.104135026, 4.625396639848137],\n",
        "  [-74.11012976299997, 4.630337201847981]),\n",
        " 'KR56;KR65': ([-74.11014652699998, 4.630466195847943],\n",
        "  [-74.114566808, 4.634631425847818]),\n",
        " 'KR65;KR56': ([-74.11476730300001, 4.634342025847845],\n",
        "  [-74.11041139500003, 4.630289079847973]),\n",
        " 'KR65;KR68': ([-74.11475657400001, 4.634737694847827],\n",
        "  [-74.11796449600001, 4.637304190847732]),\n",
        " 'KR68;KR65': ([-74.118191142, 4.637183886847728],\n",
        "  [-74.11501004299998, 4.63459065584782]),\n",
        " 'KR68;KR68D': ([-74.118313183, 4.637643716847724],\n",
        "  [-74.12185369899998, 4.640146039847636]),\n",
        " 'KR68D;KR68': ([-74.12215410599998, 4.639846616847637],\n",
        "  [-74.11861359, 4.637344292847741]),\n",
        " 'KR68D;KR90': ([-74.12217556399997, 4.640381300847623],\n",
        "  [-74.13942753200001, 4.663313498846907]),\n",
        " 'KR90;KR68D': ([-74.139486541, 4.663121018846908],\n",
        "  [-74.12230967400001, 4.640007022847652]),\n",
        "\n",
        "# 'KR62;CL5A': ([-74.11781429199999, 4.6281529858480095],\n",
        "#  [-74.11165593999999, 4.620763494848274]),\n",
        "# 'CL5A;KR47': ([-74.11148427900002, 4.620592390848272],\n",
        "#  [-74.10448907799997, 4.625212169848124]),\n",
        "# 'AV.CARACAS;KR119': ([[-74.06101013400001, 4.666237280846801],\n",
        "#   [-74.12464319600002, 4.726235508844826]]),\n",
        "# 'KR119;AV.CARACAS': ([[-74.12494360400001, 4.7259788918448455],\n",
        "#   [-74.06105874899998, 4.665849147846814]]),\n",
        "\n",
        " 'CARACAS;KR24': ([-74.06101013400001, 4.666237280846801],\n",
        "  [-74.06341121399998, 4.669238909846679]),\n",
        " 'KR24;CARACAS': ([-74.06340534700001, 4.668773753846683],\n",
        "  [-74.06105874899998, 4.665849147846814]),\n",
        " 'KR69H;KR58': ([-74.08261298100001, 4.688132254846106],\n",
        "  [-74.07448052299998, 4.678401610846421]),\n",
        " 'KR69H;KR71': ([-74.08237426400001, 4.6885385868460485],\n",
        "  [-74.087202241, 4.694376904845891]),\n",
        " 'KR76;KR71': ([-74.09331767700002, 4.697349509845761],\n",
        "  [-74.087717225, 4.694291361845883]),\n",
        " 'KR76;KR81': ([-74.09317015599999, 4.697841377845783],\n",
        "  [-74.09722565599998, 4.700300715845692]),\n",
        " 'KR81;KR76': ([-74.09735440200001, 4.699915776845694],\n",
        "  [-74.09355639400002, 4.697477822845764]),\n",
        " 'KR81;KR89A': ([-74.09729002900002, 4.700364872845687],\n",
        "  [-74.103298177, 4.70438533584552]),\n",
        " 'KR89A;KR81': ([-74.103577127, 4.704064554845563],\n",
        "  [-74.09754752100002, 4.700001318845711]),\n",
        " 'KR24;KR58': ([-74.063365449, 4.669312425846669],\n",
        "  [-74.07400845500001, 4.678487155846406]),\n",
        " 'KR58;KR24': ([-74.07428740400002, 4.678230521846378],\n",
        "  [-74.06358002600001, 4.668948855846692]),\n",
        " 'KR58;KR69H': ([-74.07422303099997, 4.678658244846394],\n",
        "  [-74.082398404, 4.688431657846084]),\n",
        " 'KR119;KR112A': ([-74.12494360400001, 4.7259788918448455],\n",
        "  [-74.11968647399999, 4.719392366845072]),\n",
        " 'KR102;KR112A': ([-74.11365150400002, 4.711634943845336],\n",
        "  [-74.11929487200001, 4.719419098845057]),\n",
        " 'KR112A;KR102': ([-74.11955236400001, 4.719280096845088],\n",
        "  [-74.11384462299998, 4.7113890138453405]),\n",
        " 'KR112A;KR119': ([-74.11932705800001, 4.719568792845059],\n",
        "  [-74.12464319600002, 4.726235508844826]),\n",
        " 'KR71;KR69H;': ([-74.08748119, 4.694077504845876],\n",
        "  [-74.08278195999998, 4.688367499846097]),\n",
        " 'KR71;KR76': ([-74.08737390200002, 4.694633532845872],\n",
        "  [-74.092845608, 4.69767029284575]),\n",
        " 'KR96;KR102': ([-74.10937069800002, 4.707550365845468],\n",
        "  [-74.11338328300002, 4.711421091845338]),\n",
        " 'KR102;KR96': ([-74.113748063, 4.711185854845323],\n",
        "  [-74.10967110600001, 4.707186815845446]),\n",
        " 'KR89A;KR96': ([-74.10340546499998, 4.704492262845564],\n",
        "  [-74.10924195199999, 4.707400668845434]),\n",
        " 'KR96;KR89A': ([-74.10947798699999, 4.707079888845457],\n",
        "  [-74.10368441499998, 4.704064554845563]),\n",
        " 'KR90;KR68': ([-74.139486541, 4.663121018846908],\n",
        "  [-74.12230967400001, 4.640007022847652]),\n",
        " 'KR68;KR90': ([-74.12217556399997, 4.640381300847623],\n",
        "  [-74.13942753200001, 4.663313498846907])}\n"
      ],
      "execution_count": null,
      "outputs": []
    },
    {
      "cell_type": "code",
      "metadata": {
        "id": "vxtiiNx5H-FV"
      },
      "source": [
        "#Add coordinates as new column to db\n",
        "coordenadas = {}\n",
        "for i in coordenadas1.keys():\n",
        "  np.flip(coordenadas1[i][0])\n",
        "  coordenadas.update( {i: (np.flip(coordenadas1[i][0]) , np.flip(coordenadas1[i][1]))})\n",
        "df['coordinates']= df['name_to'].map(coordenadas)"
      ],
      "execution_count": null,
      "outputs": []
    },
    {
      "cell_type": "code",
      "metadata": {
        "id": "tRClOtDTAylu"
      },
      "source": [
        "#Split df into CL13 and CL80\n",
        "df_CL13 = df[df['name_from'].isin(['DIAG16', 'CL17', 'CL13'])]\n",
        "df_CL80 = df[df['name_from'] == 'CL80']"
      ],
      "execution_count": null,
      "outputs": []
    },
    {
      "cell_type": "markdown",
      "metadata": {
        "id": "FcpnDqcCSCVW"
      },
      "source": [
        "#**CALLE 13**\n"
      ]
    },
    {
      "cell_type": "markdown",
      "metadata": {
        "id": "J5TUMW1cexYF"
      },
      "source": [
        "### *Average speed per weekday*"
      ]
    },
    {
      "cell_type": "code",
      "metadata": {
        "id": "5ZXSnqHMOapA",
        "outputId": "8611fd2f-c748-4435-c52a-3cb5f3621f88",
        "colab": {
          "base_uri": "https://localhost:8080/",
          "height": 542
        }
      },
      "source": [
        "df_CL13_ew = df_CL13[df_CL13['orientation'] == 'east_west']\n",
        "df_CL13_we = df_CL13[df_CL13['orientation'] == 'west_east']\n",
        "\n",
        "avg_velocity_per_weekday_CL13 = df_CL13[['month','average_speed','weekday']].groupby(['month','weekday']).mean().reset_index()\n",
        "avg_velocity_per_weekday_CL13 = df_CL13[['month','average_speed','weekday']].groupby(['month','weekday']).mean().reset_index()\n",
        "\n",
        "fig = px.bar(avg_velocity_per_weekday_CL13, x=\"weekday\", y=\"average_speed\", animation_frame=\"month\", animation_group=\"weekday\",color=\"average_speed\",color_continuous_scale=px.colors.sequential.RdBu)\n",
        "fig[\"layout\"].pop(\"updatemenus\") # optional, drop animation buttons\n",
        "fig.show()"
      ],
      "execution_count": null,
      "outputs": [
        {
          "output_type": "display_data",
          "data": {
            "text/html": [
              "<html>\n",
              "<head><meta charset=\"utf-8\" /></head>\n",
              "<body>\n",
              "    <div>\n",
              "            <script src=\"https://cdnjs.cloudflare.com/ajax/libs/mathjax/2.7.5/MathJax.js?config=TeX-AMS-MML_SVG\"></script><script type=\"text/javascript\">if (window.MathJax) {MathJax.Hub.Config({SVG: {font: \"STIX-Web\"}});}</script>\n",
              "                <script type=\"text/javascript\">window.PlotlyConfig = {MathJaxConfig: 'local'};</script>\n",
              "        <script src=\"https://cdn.plot.ly/plotly-latest.min.js\"></script>    \n",
              "            <div id=\"06357c07-66cc-4596-9a46-141ad332b163\" class=\"plotly-graph-div\" style=\"height:525px; width:100%;\"></div>\n",
              "            <script type=\"text/javascript\">\n",
              "                \n",
              "                    window.PLOTLYENV=window.PLOTLYENV || {};\n",
              "                    \n",
              "                if (document.getElementById(\"06357c07-66cc-4596-9a46-141ad332b163\")) {\n",
              "                    Plotly.newPlot(\n",
              "                        '06357c07-66cc-4596-9a46-141ad332b163',\n",
              "                        [{\"alignmentgroup\": \"True\", \"hoverlabel\": {\"namelength\": 0}, \"hovertemplate\": \"month=1<br>weekday=%{x}<br>average_speed=%{marker.color}\", \"ids\": [\"Domingo\", \"Jueves\", \"Lunes\", \"Martes\", \"Miercoles\", \"Sabado\", \"Viernes\"], \"legendgroup\": \"\", \"marker\": {\"color\": [37.0336668825311, 31.21893606336176, 33.39423790333528, 32.36275682895539, 31.85428596265233, 33.16941825667206, 31.010957946145606], \"coloraxis\": \"coloraxis\"}, \"name\": \"\", \"offsetgroup\": \"\", \"orientation\": \"v\", \"showlegend\": false, \"textposition\": \"auto\", \"type\": \"bar\", \"x\": [\"Domingo\", \"Jueves\", \"Lunes\", \"Martes\", \"Miercoles\", \"Sabado\", \"Viernes\"], \"xaxis\": \"x\", \"y\": [37.0336668825311, 31.21893606336176, 33.39423790333528, 32.36275682895539, 31.85428596265233, 33.16941825667206, 31.010957946145606], \"yaxis\": \"y\"}],\n",
              "                        {\"barmode\": \"relative\", \"coloraxis\": {\"colorbar\": {\"title\": {\"text\": \"average_speed\"}}, \"colorscale\": [[0.0, \"rgb(103,0,31)\"], [0.1, \"rgb(178,24,43)\"], [0.2, \"rgb(214,96,77)\"], [0.3, \"rgb(244,165,130)\"], [0.4, \"rgb(253,219,199)\"], [0.5, \"rgb(247,247,247)\"], [0.6, \"rgb(209,229,240)\"], [0.7, \"rgb(146,197,222)\"], [0.8, \"rgb(67,147,195)\"], [0.9, \"rgb(33,102,172)\"], [1.0, \"rgb(5,48,97)\"]]}, \"legend\": {\"tracegroupgap\": 0}, \"margin\": {\"t\": 60}, \"sliders\": [{\"active\": 0, \"currentvalue\": {\"prefix\": \"month=\"}, \"len\": 0.9, \"pad\": {\"b\": 10, \"t\": 60}, \"steps\": [{\"args\": [[\"1\"], {\"frame\": {\"duration\": 0, \"redraw\": true}, \"fromcurrent\": true, \"mode\": \"immediate\", \"transition\": {\"duration\": 0, \"easing\": \"linear\"}}], \"label\": \"1\", \"method\": \"animate\"}, {\"args\": [[\"2\"], {\"frame\": {\"duration\": 0, \"redraw\": true}, \"fromcurrent\": true, \"mode\": \"immediate\", \"transition\": {\"duration\": 0, \"easing\": \"linear\"}}], \"label\": \"2\", \"method\": \"animate\"}, {\"args\": [[\"3\"], {\"frame\": {\"duration\": 0, \"redraw\": true}, \"fromcurrent\": true, \"mode\": \"immediate\", \"transition\": {\"duration\": 0, \"easing\": \"linear\"}}], \"label\": \"3\", \"method\": \"animate\"}, {\"args\": [[\"4\"], {\"frame\": {\"duration\": 0, \"redraw\": true}, \"fromcurrent\": true, \"mode\": \"immediate\", \"transition\": {\"duration\": 0, \"easing\": \"linear\"}}], \"label\": \"4\", \"method\": \"animate\"}, {\"args\": [[\"5\"], {\"frame\": {\"duration\": 0, \"redraw\": true}, \"fromcurrent\": true, \"mode\": \"immediate\", \"transition\": {\"duration\": 0, \"easing\": \"linear\"}}], \"label\": \"5\", \"method\": \"animate\"}, {\"args\": [[\"6\"], {\"frame\": {\"duration\": 0, \"redraw\": true}, \"fromcurrent\": true, \"mode\": \"immediate\", \"transition\": {\"duration\": 0, \"easing\": \"linear\"}}], \"label\": \"6\", \"method\": \"animate\"}, {\"args\": [[\"7\"], {\"frame\": {\"duration\": 0, \"redraw\": true}, \"fromcurrent\": true, \"mode\": \"immediate\", \"transition\": {\"duration\": 0, \"easing\": \"linear\"}}], \"label\": \"7\", \"method\": \"animate\"}, {\"args\": [[\"8\"], {\"frame\": {\"duration\": 0, \"redraw\": true}, \"fromcurrent\": true, \"mode\": \"immediate\", \"transition\": {\"duration\": 0, \"easing\": \"linear\"}}], \"label\": \"8\", \"method\": \"animate\"}, {\"args\": [[\"9\"], {\"frame\": {\"duration\": 0, \"redraw\": true}, \"fromcurrent\": true, \"mode\": \"immediate\", \"transition\": {\"duration\": 0, \"easing\": \"linear\"}}], \"label\": \"9\", \"method\": \"animate\"}, {\"args\": [[\"10\"], {\"frame\": {\"duration\": 0, \"redraw\": true}, \"fromcurrent\": true, \"mode\": \"immediate\", \"transition\": {\"duration\": 0, \"easing\": \"linear\"}}], \"label\": \"10\", \"method\": \"animate\"}, {\"args\": [[\"11\"], {\"frame\": {\"duration\": 0, \"redraw\": true}, \"fromcurrent\": true, \"mode\": \"immediate\", \"transition\": {\"duration\": 0, \"easing\": \"linear\"}}], \"label\": \"11\", \"method\": \"animate\"}, {\"args\": [[\"12\"], {\"frame\": {\"duration\": 0, \"redraw\": true}, \"fromcurrent\": true, \"mode\": \"immediate\", \"transition\": {\"duration\": 0, \"easing\": \"linear\"}}], \"label\": \"12\", \"method\": \"animate\"}], \"x\": 0.1, \"xanchor\": \"left\", \"y\": 0, \"yanchor\": \"top\"}], \"template\": {\"data\": {\"bar\": [{\"error_x\": {\"color\": \"#2a3f5f\"}, \"error_y\": {\"color\": \"#2a3f5f\"}, \"marker\": {\"line\": {\"color\": \"#E5ECF6\", \"width\": 0.5}}, \"type\": \"bar\"}], \"barpolar\": [{\"marker\": {\"line\": {\"color\": \"#E5ECF6\", \"width\": 0.5}}, \"type\": \"barpolar\"}], \"carpet\": [{\"aaxis\": {\"endlinecolor\": \"#2a3f5f\", \"gridcolor\": \"white\", \"linecolor\": \"white\", \"minorgridcolor\": \"white\", \"startlinecolor\": \"#2a3f5f\"}, \"baxis\": {\"endlinecolor\": \"#2a3f5f\", \"gridcolor\": \"white\", \"linecolor\": \"white\", \"minorgridcolor\": \"white\", \"startlinecolor\": \"#2a3f5f\"}, \"type\": \"carpet\"}], \"choropleth\": [{\"colorbar\": {\"outlinewidth\": 0, \"ticks\": \"\"}, \"type\": \"choropleth\"}], \"contour\": [{\"colorbar\": {\"outlinewidth\": 0, \"ticks\": \"\"}, \"colorscale\": [[0.0, \"#0d0887\"], [0.1111111111111111, \"#46039f\"], [0.2222222222222222, \"#7201a8\"], [0.3333333333333333, \"#9c179e\"], [0.4444444444444444, \"#bd3786\"], [0.5555555555555556, \"#d8576b\"], [0.6666666666666666, \"#ed7953\"], [0.7777777777777778, \"#fb9f3a\"], [0.8888888888888888, \"#fdca26\"], [1.0, \"#f0f921\"]], \"type\": \"contour\"}], \"contourcarpet\": [{\"colorbar\": {\"outlinewidth\": 0, \"ticks\": \"\"}, \"type\": \"contourcarpet\"}], \"heatmap\": [{\"colorbar\": {\"outlinewidth\": 0, \"ticks\": \"\"}, \"colorscale\": [[0.0, \"#0d0887\"], [0.1111111111111111, \"#46039f\"], [0.2222222222222222, \"#7201a8\"], [0.3333333333333333, \"#9c179e\"], [0.4444444444444444, \"#bd3786\"], [0.5555555555555556, \"#d8576b\"], [0.6666666666666666, \"#ed7953\"], [0.7777777777777778, \"#fb9f3a\"], [0.8888888888888888, \"#fdca26\"], [1.0, \"#f0f921\"]], \"type\": \"heatmap\"}], \"heatmapgl\": [{\"colorbar\": {\"outlinewidth\": 0, \"ticks\": \"\"}, \"colorscale\": [[0.0, \"#0d0887\"], [0.1111111111111111, \"#46039f\"], [0.2222222222222222, \"#7201a8\"], [0.3333333333333333, \"#9c179e\"], [0.4444444444444444, \"#bd3786\"], [0.5555555555555556, \"#d8576b\"], [0.6666666666666666, \"#ed7953\"], [0.7777777777777778, \"#fb9f3a\"], [0.8888888888888888, \"#fdca26\"], [1.0, \"#f0f921\"]], \"type\": \"heatmapgl\"}], \"histogram\": [{\"marker\": {\"colorbar\": {\"outlinewidth\": 0, \"ticks\": \"\"}}, \"type\": \"histogram\"}], \"histogram2d\": [{\"colorbar\": {\"outlinewidth\": 0, \"ticks\": \"\"}, \"colorscale\": [[0.0, \"#0d0887\"], [0.1111111111111111, \"#46039f\"], [0.2222222222222222, \"#7201a8\"], [0.3333333333333333, \"#9c179e\"], [0.4444444444444444, \"#bd3786\"], [0.5555555555555556, \"#d8576b\"], [0.6666666666666666, \"#ed7953\"], [0.7777777777777778, \"#fb9f3a\"], [0.8888888888888888, \"#fdca26\"], [1.0, \"#f0f921\"]], \"type\": \"histogram2d\"}], \"histogram2dcontour\": [{\"colorbar\": {\"outlinewidth\": 0, \"ticks\": \"\"}, \"colorscale\": [[0.0, \"#0d0887\"], [0.1111111111111111, \"#46039f\"], [0.2222222222222222, \"#7201a8\"], [0.3333333333333333, \"#9c179e\"], [0.4444444444444444, \"#bd3786\"], [0.5555555555555556, \"#d8576b\"], [0.6666666666666666, \"#ed7953\"], [0.7777777777777778, \"#fb9f3a\"], [0.8888888888888888, \"#fdca26\"], [1.0, \"#f0f921\"]], \"type\": \"histogram2dcontour\"}], \"mesh3d\": [{\"colorbar\": {\"outlinewidth\": 0, \"ticks\": \"\"}, \"type\": \"mesh3d\"}], \"parcoords\": [{\"line\": {\"colorbar\": {\"outlinewidth\": 0, \"ticks\": \"\"}}, \"type\": \"parcoords\"}], \"pie\": [{\"automargin\": true, \"type\": \"pie\"}], \"scatter\": [{\"marker\": {\"colorbar\": {\"outlinewidth\": 0, \"ticks\": \"\"}}, \"type\": \"scatter\"}], \"scatter3d\": [{\"line\": {\"colorbar\": {\"outlinewidth\": 0, \"ticks\": \"\"}}, \"marker\": {\"colorbar\": {\"outlinewidth\": 0, \"ticks\": \"\"}}, \"type\": \"scatter3d\"}], \"scattercarpet\": [{\"marker\": {\"colorbar\": {\"outlinewidth\": 0, \"ticks\": \"\"}}, \"type\": \"scattercarpet\"}], \"scattergeo\": [{\"marker\": {\"colorbar\": {\"outlinewidth\": 0, \"ticks\": \"\"}}, \"type\": \"scattergeo\"}], \"scattergl\": [{\"marker\": {\"colorbar\": {\"outlinewidth\": 0, \"ticks\": \"\"}}, \"type\": \"scattergl\"}], \"scattermapbox\": [{\"marker\": {\"colorbar\": {\"outlinewidth\": 0, \"ticks\": \"\"}}, \"type\": \"scattermapbox\"}], \"scatterpolar\": [{\"marker\": {\"colorbar\": {\"outlinewidth\": 0, \"ticks\": \"\"}}, \"type\": \"scatterpolar\"}], \"scatterpolargl\": [{\"marker\": {\"colorbar\": {\"outlinewidth\": 0, \"ticks\": \"\"}}, \"type\": \"scatterpolargl\"}], \"scatterternary\": [{\"marker\": {\"colorbar\": {\"outlinewidth\": 0, \"ticks\": \"\"}}, \"type\": \"scatterternary\"}], \"surface\": [{\"colorbar\": {\"outlinewidth\": 0, \"ticks\": \"\"}, \"colorscale\": [[0.0, \"#0d0887\"], [0.1111111111111111, \"#46039f\"], [0.2222222222222222, \"#7201a8\"], [0.3333333333333333, \"#9c179e\"], [0.4444444444444444, \"#bd3786\"], [0.5555555555555556, \"#d8576b\"], [0.6666666666666666, \"#ed7953\"], [0.7777777777777778, \"#fb9f3a\"], [0.8888888888888888, \"#fdca26\"], [1.0, \"#f0f921\"]], \"type\": \"surface\"}], \"table\": [{\"cells\": {\"fill\": {\"color\": \"#EBF0F8\"}, \"line\": {\"color\": \"white\"}}, \"header\": {\"fill\": {\"color\": \"#C8D4E3\"}, \"line\": {\"color\": \"white\"}}, \"type\": \"table\"}]}, \"layout\": {\"annotationdefaults\": {\"arrowcolor\": \"#2a3f5f\", \"arrowhead\": 0, \"arrowwidth\": 1}, \"coloraxis\": {\"colorbar\": {\"outlinewidth\": 0, \"ticks\": \"\"}}, \"colorscale\": {\"diverging\": [[0, \"#8e0152\"], [0.1, \"#c51b7d\"], [0.2, \"#de77ae\"], [0.3, \"#f1b6da\"], [0.4, \"#fde0ef\"], [0.5, \"#f7f7f7\"], [0.6, \"#e6f5d0\"], [0.7, \"#b8e186\"], [0.8, \"#7fbc41\"], [0.9, \"#4d9221\"], [1, \"#276419\"]], \"sequential\": [[0.0, \"#0d0887\"], [0.1111111111111111, \"#46039f\"], [0.2222222222222222, \"#7201a8\"], [0.3333333333333333, \"#9c179e\"], [0.4444444444444444, \"#bd3786\"], [0.5555555555555556, \"#d8576b\"], [0.6666666666666666, \"#ed7953\"], [0.7777777777777778, \"#fb9f3a\"], [0.8888888888888888, \"#fdca26\"], [1.0, \"#f0f921\"]], \"sequentialminus\": [[0.0, \"#0d0887\"], [0.1111111111111111, \"#46039f\"], [0.2222222222222222, \"#7201a8\"], [0.3333333333333333, \"#9c179e\"], [0.4444444444444444, \"#bd3786\"], [0.5555555555555556, \"#d8576b\"], [0.6666666666666666, \"#ed7953\"], [0.7777777777777778, \"#fb9f3a\"], [0.8888888888888888, \"#fdca26\"], [1.0, \"#f0f921\"]]}, \"colorway\": [\"#636efa\", \"#EF553B\", \"#00cc96\", \"#ab63fa\", \"#FFA15A\", \"#19d3f3\", \"#FF6692\", \"#B6E880\", \"#FF97FF\", \"#FECB52\"], \"font\": {\"color\": \"#2a3f5f\"}, \"geo\": {\"bgcolor\": \"white\", \"lakecolor\": \"white\", \"landcolor\": \"#E5ECF6\", \"showlakes\": true, \"showland\": true, \"subunitcolor\": \"white\"}, \"hoverlabel\": {\"align\": \"left\"}, \"hovermode\": \"closest\", \"mapbox\": {\"style\": \"light\"}, \"paper_bgcolor\": \"white\", \"plot_bgcolor\": \"#E5ECF6\", \"polar\": {\"angularaxis\": {\"gridcolor\": \"white\", \"linecolor\": \"white\", \"ticks\": \"\"}, \"bgcolor\": \"#E5ECF6\", \"radialaxis\": {\"gridcolor\": \"white\", \"linecolor\": \"white\", \"ticks\": \"\"}}, \"scene\": {\"xaxis\": {\"backgroundcolor\": \"#E5ECF6\", \"gridcolor\": \"white\", \"gridwidth\": 2, \"linecolor\": \"white\", \"showbackground\": true, \"ticks\": \"\", \"zerolinecolor\": \"white\"}, \"yaxis\": {\"backgroundcolor\": \"#E5ECF6\", \"gridcolor\": \"white\", \"gridwidth\": 2, \"linecolor\": \"white\", \"showbackground\": true, \"ticks\": \"\", \"zerolinecolor\": \"white\"}, \"zaxis\": {\"backgroundcolor\": \"#E5ECF6\", \"gridcolor\": \"white\", \"gridwidth\": 2, \"linecolor\": \"white\", \"showbackground\": true, \"ticks\": \"\", \"zerolinecolor\": \"white\"}}, \"shapedefaults\": {\"line\": {\"color\": \"#2a3f5f\"}}, \"ternary\": {\"aaxis\": {\"gridcolor\": \"white\", \"linecolor\": \"white\", \"ticks\": \"\"}, \"baxis\": {\"gridcolor\": \"white\", \"linecolor\": \"white\", \"ticks\": \"\"}, \"bgcolor\": \"#E5ECF6\", \"caxis\": {\"gridcolor\": \"white\", \"linecolor\": \"white\", \"ticks\": \"\"}}, \"title\": {\"x\": 0.05}, \"xaxis\": {\"automargin\": true, \"gridcolor\": \"white\", \"linecolor\": \"white\", \"ticks\": \"\", \"title\": {\"standoff\": 15}, \"zerolinecolor\": \"white\", \"zerolinewidth\": 2}, \"yaxis\": {\"automargin\": true, \"gridcolor\": \"white\", \"linecolor\": \"white\", \"ticks\": \"\", \"title\": {\"standoff\": 15}, \"zerolinecolor\": \"white\", \"zerolinewidth\": 2}}}, \"xaxis\": {\"anchor\": \"y\", \"domain\": [0.0, 1.0], \"title\": {\"text\": \"weekday\"}}, \"yaxis\": {\"anchor\": \"x\", \"domain\": [0.0, 1.0], \"title\": {\"text\": \"average_speed\"}}},\n",
              "                        {\"responsive\": true}\n",
              "                    ).then(function(){\n",
              "                            Plotly.addFrames('06357c07-66cc-4596-9a46-141ad332b163', [{\"data\": [{\"alignmentgroup\": \"True\", \"hoverlabel\": {\"namelength\": 0}, \"hovertemplate\": \"month=1<br>weekday=%{x}<br>average_speed=%{marker.color}\", \"ids\": [\"Domingo\", \"Jueves\", \"Lunes\", \"Martes\", \"Miercoles\", \"Sabado\", \"Viernes\"], \"legendgroup\": \"\", \"marker\": {\"color\": [37.0336668825311, 31.21893606336176, 33.39423790333528, 32.36275682895539, 31.85428596265233, 33.16941825667206, 31.010957946145606], \"coloraxis\": \"coloraxis\"}, \"name\": \"\", \"offsetgroup\": \"\", \"orientation\": \"v\", \"showlegend\": false, \"textposition\": \"auto\", \"x\": [\"Domingo\", \"Jueves\", \"Lunes\", \"Martes\", \"Miercoles\", \"Sabado\", \"Viernes\"], \"xaxis\": \"x\", \"y\": [37.0336668825311, 31.21893606336176, 33.39423790333528, 32.36275682895539, 31.85428596265233, 33.16941825667206, 31.010957946145606], \"yaxis\": \"y\", \"type\": \"bar\"}], \"name\": \"1\"}, {\"data\": [{\"alignmentgroup\": \"True\", \"hoverlabel\": {\"namelength\": 0}, \"hovertemplate\": \"month=2<br>weekday=%{x}<br>average_speed=%{marker.color}\", \"ids\": [\"Domingo\", \"Jueves\", \"Lunes\", \"Martes\", \"Miercoles\", \"Sabado\", \"Viernes\"], \"legendgroup\": \"\", \"marker\": {\"color\": [35.629250854255396, 31.00152487358688, 30.40384596565727, 30.793282933538922, 30.98954623308758, 32.12891219480943, 30.15119395787712], \"coloraxis\": \"coloraxis\"}, \"name\": \"\", \"offsetgroup\": \"\", \"orientation\": \"v\", \"showlegend\": false, \"textposition\": \"auto\", \"x\": [\"Domingo\", \"Jueves\", \"Lunes\", \"Martes\", \"Miercoles\", \"Sabado\", \"Viernes\"], \"xaxis\": \"x\", \"y\": [35.629250854255396, 31.00152487358688, 30.40384596565727, 30.793282933538922, 30.98954623308758, 32.12891219480943, 30.15119395787712], \"yaxis\": \"y\", \"type\": \"bar\"}], \"name\": \"2\"}, {\"data\": [{\"alignmentgroup\": \"True\", \"hoverlabel\": {\"namelength\": 0}, \"hovertemplate\": \"month=3<br>weekday=%{x}<br>average_speed=%{marker.color}\", \"ids\": [\"Domingo\", \"Jueves\", \"Lunes\", \"Martes\", \"Miercoles\", \"Sabado\", \"Viernes\"], \"legendgroup\": \"\", \"marker\": {\"color\": [36.13985478276602, 31.71561526752443, 32.18026583921583, 30.062602271500428, 30.600937403482398, 32.33898820992083, 30.858094117413614], \"coloraxis\": \"coloraxis\"}, \"name\": \"\", \"offsetgroup\": \"\", \"orientation\": \"v\", \"showlegend\": false, \"textposition\": \"auto\", \"x\": [\"Domingo\", \"Jueves\", \"Lunes\", \"Martes\", \"Miercoles\", \"Sabado\", \"Viernes\"], \"xaxis\": \"x\", \"y\": [36.13985478276602, 31.71561526752443, 32.18026583921583, 30.062602271500428, 30.600937403482398, 32.33898820992083, 30.858094117413614], \"yaxis\": \"y\", \"type\": \"bar\"}], \"name\": \"3\"}, {\"data\": [{\"alignmentgroup\": \"True\", \"hoverlabel\": {\"namelength\": 0}, \"hovertemplate\": \"month=4<br>weekday=%{x}<br>average_speed=%{marker.color}\", \"ids\": [\"Domingo\", \"Jueves\", \"Lunes\", \"Martes\", \"Miercoles\", \"Sabado\", \"Viernes\"], \"legendgroup\": \"\", \"marker\": {\"color\": [35.83400399310292, 29.9542167492734, 30.16159317799551, 29.54825769734465, 30.17199955256573, 31.271305407404682, 29.97112214551569], \"coloraxis\": \"coloraxis\"}, \"name\": \"\", \"offsetgroup\": \"\", \"orientation\": \"v\", \"showlegend\": false, \"textposition\": \"auto\", \"x\": [\"Domingo\", \"Jueves\", \"Lunes\", \"Martes\", \"Miercoles\", \"Sabado\", \"Viernes\"], \"xaxis\": \"x\", \"y\": [35.83400399310292, 29.9542167492734, 30.16159317799551, 29.54825769734465, 30.17199955256573, 31.271305407404682, 29.97112214551569], \"yaxis\": \"y\", \"type\": \"bar\"}], \"name\": \"4\"}, {\"data\": [{\"alignmentgroup\": \"True\", \"hoverlabel\": {\"namelength\": 0}, \"hovertemplate\": \"month=5<br>weekday=%{x}<br>average_speed=%{marker.color}\", \"ids\": [\"Domingo\", \"Jueves\", \"Lunes\", \"Martes\", \"Miercoles\", \"Sabado\", \"Viernes\"], \"legendgroup\": \"\", \"marker\": {\"color\": [35.33376023235138, 29.805762260312743, 31.39879467078397, 29.985836750877183, 30.93239042238504, 31.410014302364303, 29.424677848971374], \"coloraxis\": \"coloraxis\"}, \"name\": \"\", \"offsetgroup\": \"\", \"orientation\": \"v\", \"showlegend\": false, \"textposition\": \"auto\", \"x\": [\"Domingo\", \"Jueves\", \"Lunes\", \"Martes\", \"Miercoles\", \"Sabado\", \"Viernes\"], \"xaxis\": \"x\", \"y\": [35.33376023235138, 29.805762260312743, 31.39879467078397, 29.985836750877183, 30.93239042238504, 31.410014302364303, 29.424677848971374], \"yaxis\": \"y\", \"type\": \"bar\"}], \"name\": \"5\"}, {\"data\": [{\"alignmentgroup\": \"True\", \"hoverlabel\": {\"namelength\": 0}, \"hovertemplate\": \"month=6<br>weekday=%{x}<br>average_speed=%{marker.color}\", \"ids\": [\"Domingo\", \"Jueves\", \"Lunes\", \"Martes\", \"Miercoles\", \"Sabado\", \"Viernes\"], \"legendgroup\": \"\", \"marker\": {\"color\": [35.62651425315096, 29.71819799089566, 33.071745620803064, 29.367701159448476, 29.6643867071007, 30.7960074421215, 29.373823472986373], \"coloraxis\": \"coloraxis\"}, \"name\": \"\", \"offsetgroup\": \"\", \"orientation\": \"v\", \"showlegend\": false, \"textposition\": \"auto\", \"x\": [\"Domingo\", \"Jueves\", \"Lunes\", \"Martes\", \"Miercoles\", \"Sabado\", \"Viernes\"], \"xaxis\": \"x\", \"y\": [35.62651425315096, 29.71819799089566, 33.071745620803064, 29.367701159448476, 29.6643867071007, 30.7960074421215, 29.373823472986373], \"yaxis\": \"y\", \"type\": \"bar\"}], \"name\": \"6\"}, {\"data\": [{\"alignmentgroup\": \"True\", \"hoverlabel\": {\"namelength\": 0}, \"hovertemplate\": \"month=7<br>weekday=%{x}<br>average_speed=%{marker.color}\", \"ids\": [\"Domingo\", \"Jueves\", \"Lunes\", \"Martes\", \"Miercoles\", \"Sabado\", \"Viernes\"], \"legendgroup\": \"\", \"marker\": {\"color\": [35.893934679160516, 29.84942192457106, 32.771709329125216, 30.3421256503173, 30.042310039969795, 31.87483137033799, 31.109389923153984], \"coloraxis\": \"coloraxis\"}, \"name\": \"\", \"offsetgroup\": \"\", \"orientation\": \"v\", \"showlegend\": false, \"textposition\": \"auto\", \"x\": [\"Domingo\", \"Jueves\", \"Lunes\", \"Martes\", \"Miercoles\", \"Sabado\", \"Viernes\"], \"xaxis\": \"x\", \"y\": [35.893934679160516, 29.84942192457106, 32.771709329125216, 30.3421256503173, 30.042310039969795, 31.87483137033799, 31.109389923153984], \"yaxis\": \"y\", \"type\": \"bar\"}], \"name\": \"7\"}, {\"data\": [{\"alignmentgroup\": \"True\", \"hoverlabel\": {\"namelength\": 0}, \"hovertemplate\": \"month=8<br>weekday=%{x}<br>average_speed=%{marker.color}\", \"ids\": [\"Domingo\", \"Jueves\", \"Lunes\", \"Martes\", \"Miercoles\", \"Sabado\", \"Viernes\"], \"legendgroup\": \"\", \"marker\": {\"color\": [35.874434988415565, 29.88732494207164, 31.709415878013697, 30.178096283527914, 30.825321752969778, 31.06717231572212, 29.7345452035751], \"coloraxis\": \"coloraxis\"}, \"name\": \"\", \"offsetgroup\": \"\", \"orientation\": \"v\", \"showlegend\": false, \"textposition\": \"auto\", \"x\": [\"Domingo\", \"Jueves\", \"Lunes\", \"Martes\", \"Miercoles\", \"Sabado\", \"Viernes\"], \"xaxis\": \"x\", \"y\": [35.874434988415565, 29.88732494207164, 31.709415878013697, 30.178096283527914, 30.825321752969778, 31.06717231572212, 29.7345452035751], \"yaxis\": \"y\", \"type\": \"bar\"}], \"name\": \"8\"}, {\"data\": [{\"alignmentgroup\": \"True\", \"hoverlabel\": {\"namelength\": 0}, \"hovertemplate\": \"month=9<br>weekday=%{x}<br>average_speed=%{marker.color}\", \"ids\": [\"Domingo\", \"Jueves\", \"Lunes\", \"Martes\", \"Miercoles\", \"Sabado\", \"Viernes\"], \"legendgroup\": \"\", \"marker\": {\"color\": [34.94643793953893, 29.68286431228718, 30.386141067980894, 30.13389338478396, 29.917936867702167, 31.023661620322315, 29.06817956458629], \"coloraxis\": \"coloraxis\"}, \"name\": \"\", \"offsetgroup\": \"\", \"orientation\": \"v\", \"showlegend\": false, \"textposition\": \"auto\", \"x\": [\"Domingo\", \"Jueves\", \"Lunes\", \"Martes\", \"Miercoles\", \"Sabado\", \"Viernes\"], \"xaxis\": \"x\", \"y\": [34.94643793953893, 29.68286431228718, 30.386141067980894, 30.13389338478396, 29.917936867702167, 31.023661620322315, 29.06817956458629], \"yaxis\": \"y\", \"type\": \"bar\"}], \"name\": \"9\"}, {\"data\": [{\"alignmentgroup\": \"True\", \"hoverlabel\": {\"namelength\": 0}, \"hovertemplate\": \"month=10<br>weekday=%{x}<br>average_speed=%{marker.color}\", \"ids\": [\"Domingo\", \"Jueves\", \"Lunes\", \"Martes\", \"Miercoles\", \"Sabado\", \"Viernes\"], \"legendgroup\": \"\", \"marker\": {\"color\": [35.255021044898896, 29.348768651356952, 31.0143977196395, 29.448926605446243, 29.745020158857724, 31.26456003842943, 29.52322381302121], \"coloraxis\": \"coloraxis\"}, \"name\": \"\", \"offsetgroup\": \"\", \"orientation\": \"v\", \"showlegend\": false, \"textposition\": \"auto\", \"x\": [\"Domingo\", \"Jueves\", \"Lunes\", \"Martes\", \"Miercoles\", \"Sabado\", \"Viernes\"], \"xaxis\": \"x\", \"y\": [35.255021044898896, 29.348768651356952, 31.0143977196395, 29.448926605446243, 29.745020158857724, 31.26456003842943, 29.52322381302121], \"yaxis\": \"y\", \"type\": \"bar\"}], \"name\": \"10\"}, {\"data\": [{\"alignmentgroup\": \"True\", \"hoverlabel\": {\"namelength\": 0}, \"hovertemplate\": \"month=11<br>weekday=%{x}<br>average_speed=%{marker.color}\", \"ids\": [\"Domingo\", \"Jueves\", \"Lunes\", \"Martes\", \"Miercoles\", \"Sabado\", \"Viernes\"], \"legendgroup\": \"\", \"marker\": {\"color\": [33.702768184099774, 29.55936572150481, 30.30623286758728, 28.359128879519282, 29.077268873300422, 29.44035096669201, 28.16978281867533], \"coloraxis\": \"coloraxis\"}, \"name\": \"\", \"offsetgroup\": \"\", \"orientation\": \"v\", \"showlegend\": false, \"textposition\": \"auto\", \"x\": [\"Domingo\", \"Jueves\", \"Lunes\", \"Martes\", \"Miercoles\", \"Sabado\", \"Viernes\"], \"xaxis\": \"x\", \"y\": [33.702768184099774, 29.55936572150481, 30.30623286758728, 28.359128879519282, 29.077268873300422, 29.44035096669201, 28.16978281867533], \"yaxis\": \"y\", \"type\": \"bar\"}], \"name\": \"11\"}, {\"data\": [{\"alignmentgroup\": \"True\", \"hoverlabel\": {\"namelength\": 0}, \"hovertemplate\": \"month=12<br>weekday=%{x}<br>average_speed=%{marker.color}\", \"ids\": [\"Domingo\", \"Jueves\", \"Lunes\", \"Martes\", \"Miercoles\", \"Sabado\", \"Viernes\"], \"legendgroup\": \"\", \"marker\": {\"color\": [32.820933337670006, 28.11125375059357, 29.51731939145965, 30.450748379061785, 29.551798173883277, 30.004094938182522, 27.80401110431401], \"coloraxis\": \"coloraxis\"}, \"name\": \"\", \"offsetgroup\": \"\", \"orientation\": \"v\", \"showlegend\": false, \"textposition\": \"auto\", \"x\": [\"Domingo\", \"Jueves\", \"Lunes\", \"Martes\", \"Miercoles\", \"Sabado\", \"Viernes\"], \"xaxis\": \"x\", \"y\": [32.820933337670006, 28.11125375059357, 29.51731939145965, 30.450748379061785, 29.551798173883277, 30.004094938182522, 27.80401110431401], \"yaxis\": \"y\", \"type\": \"bar\"}], \"name\": \"12\"}]);\n",
              "                        }).then(function(){\n",
              "                            \n",
              "var gd = document.getElementById('06357c07-66cc-4596-9a46-141ad332b163');\n",
              "var x = new MutationObserver(function (mutations, observer) {{\n",
              "        var display = window.getComputedStyle(gd).display;\n",
              "        if (!display || display === 'none') {{\n",
              "            console.log([gd, 'removed!']);\n",
              "            Plotly.purge(gd);\n",
              "            observer.disconnect();\n",
              "        }}\n",
              "}});\n",
              "\n",
              "// Listen for the removal of the full notebook cells\n",
              "var notebookContainer = gd.closest('#notebook-container');\n",
              "if (notebookContainer) {{\n",
              "    x.observe(notebookContainer, {childList: true});\n",
              "}}\n",
              "\n",
              "// Listen for the clearing of the current output cell\n",
              "var outputEl = gd.closest('.output');\n",
              "if (outputEl) {{\n",
              "    x.observe(outputEl, {childList: true});\n",
              "}}\n",
              "\n",
              "                        })\n",
              "                };\n",
              "                \n",
              "            </script>\n",
              "        </div>\n",
              "</body>\n",
              "</html>"
            ]
          },
          "metadata": {
            "tags": []
          }
        }
      ]
    },
    {
      "cell_type": "markdown",
      "metadata": {
        "id": "j_jlE0ose84G"
      },
      "source": [
        "### *Average speed per hour of the day*"
      ]
    },
    {
      "cell_type": "code",
      "metadata": {
        "id": "JXxIMMnTS5Hd",
        "outputId": "62b5e53a-1f9c-4fd6-b24c-0b0d2b677a53",
        "colab": {
          "base_uri": "https://localhost:8080/",
          "height": 542
        }
      },
      "source": [
        "avg_velocity_per_hour_CL13 = df_CL13[['month','average_speed','hour']].groupby(['month','hour']).mean().reset_index()\n",
        "fig = px.bar(avg_velocity_per_hour_CL13, x=\"hour\", y=\"average_speed\", animation_frame=\"month\", animation_group=\"hour\",color=\"average_speed\",color_continuous_scale=px.colors.sequential.RdBu)\n",
        "fig[\"layout\"].pop(\"updatemenus\") # optional, drop animation buttons\n",
        "fig.show()"
      ],
      "execution_count": null,
      "outputs": [
        {
          "output_type": "display_data",
          "data": {
            "text/html": [
              "<html>\n",
              "<head><meta charset=\"utf-8\" /></head>\n",
              "<body>\n",
              "    <div>\n",
              "            <script src=\"https://cdnjs.cloudflare.com/ajax/libs/mathjax/2.7.5/MathJax.js?config=TeX-AMS-MML_SVG\"></script><script type=\"text/javascript\">if (window.MathJax) {MathJax.Hub.Config({SVG: {font: \"STIX-Web\"}});}</script>\n",
              "                <script type=\"text/javascript\">window.PlotlyConfig = {MathJaxConfig: 'local'};</script>\n",
              "        <script src=\"https://cdn.plot.ly/plotly-latest.min.js\"></script>    \n",
              "            <div id=\"603704cc-bc6b-43d2-82b5-1d0f52fdaee1\" class=\"plotly-graph-div\" style=\"height:525px; width:100%;\"></div>\n",
              "            <script type=\"text/javascript\">\n",
              "                \n",
              "                    window.PLOTLYENV=window.PLOTLYENV || {};\n",
              "                    \n",
              "                if (document.getElementById(\"603704cc-bc6b-43d2-82b5-1d0f52fdaee1\")) {\n",
              "                    Plotly.newPlot(\n",
              "                        '603704cc-bc6b-43d2-82b5-1d0f52fdaee1',\n",
              "                        [{\"alignmentgroup\": \"True\", \"hoverlabel\": {\"namelength\": 0}, \"hovertemplate\": \"month=1<br>hour=%{x}<br>average_speed=%{marker.color}\", \"ids\": [0, 1, 2, 3, 4, 5, 6, 7, 8, 9, 10, 11, 12, 13, 14, 15, 16, 17, 18, 19, 20, 21, 22, 23], \"legendgroup\": \"\", \"marker\": {\"color\": [46.25651341958486, 48.657547137196964, 49.85668925845987, 50.38687124026754, 45.763444813557825, 35.120438983530995, 30.14466830976866, 28.078244933317496, 27.85197894712632, 27.508261579702186, 25.852442657864277, 24.886789742004524, 24.540512759808625, 24.69341113964921, 24.77436597198886, 25.201067701775184, 26.395686224889587, 25.86069460323794, 25.848342016454588, 27.742102178989285, 30.647571013420304, 33.734239596698394, 36.843032420070124, 41.64569315049969], \"coloraxis\": \"coloraxis\"}, \"name\": \"\", \"offsetgroup\": \"\", \"orientation\": \"v\", \"showlegend\": false, \"textposition\": \"auto\", \"type\": \"bar\", \"x\": [0, 1, 2, 3, 4, 5, 6, 7, 8, 9, 10, 11, 12, 13, 14, 15, 16, 17, 18, 19, 20, 21, 22, 23], \"xaxis\": \"x\", \"y\": [46.25651341958486, 48.657547137196964, 49.85668925845987, 50.38687124026754, 45.763444813557825, 35.120438983530995, 30.14466830976866, 28.078244933317496, 27.85197894712632, 27.508261579702186, 25.852442657864277, 24.886789742004524, 24.540512759808625, 24.69341113964921, 24.77436597198886, 25.201067701775184, 26.395686224889587, 25.86069460323794, 25.848342016454588, 27.742102178989285, 30.647571013420304, 33.734239596698394, 36.843032420070124, 41.64569315049969], \"yaxis\": \"y\"}],\n",
              "                        {\"barmode\": \"relative\", \"coloraxis\": {\"colorbar\": {\"title\": {\"text\": \"average_speed\"}}, \"colorscale\": [[0.0, \"rgb(103,0,31)\"], [0.1, \"rgb(178,24,43)\"], [0.2, \"rgb(214,96,77)\"], [0.3, \"rgb(244,165,130)\"], [0.4, \"rgb(253,219,199)\"], [0.5, \"rgb(247,247,247)\"], [0.6, \"rgb(209,229,240)\"], [0.7, \"rgb(146,197,222)\"], [0.8, \"rgb(67,147,195)\"], [0.9, \"rgb(33,102,172)\"], [1.0, \"rgb(5,48,97)\"]]}, \"legend\": {\"tracegroupgap\": 0}, \"margin\": {\"t\": 60}, \"sliders\": [{\"active\": 0, \"currentvalue\": {\"prefix\": \"month=\"}, \"len\": 0.9, \"pad\": {\"b\": 10, \"t\": 60}, \"steps\": [{\"args\": [[\"1\"], {\"frame\": {\"duration\": 0, \"redraw\": true}, \"fromcurrent\": true, \"mode\": \"immediate\", \"transition\": {\"duration\": 0, \"easing\": \"linear\"}}], \"label\": \"1\", \"method\": \"animate\"}, {\"args\": [[\"2\"], {\"frame\": {\"duration\": 0, \"redraw\": true}, \"fromcurrent\": true, \"mode\": \"immediate\", \"transition\": {\"duration\": 0, \"easing\": \"linear\"}}], \"label\": \"2\", \"method\": \"animate\"}, {\"args\": [[\"3\"], {\"frame\": {\"duration\": 0, \"redraw\": true}, \"fromcurrent\": true, \"mode\": \"immediate\", \"transition\": {\"duration\": 0, \"easing\": \"linear\"}}], \"label\": \"3\", \"method\": \"animate\"}, {\"args\": [[\"4\"], {\"frame\": {\"duration\": 0, \"redraw\": true}, \"fromcurrent\": true, \"mode\": \"immediate\", \"transition\": {\"duration\": 0, \"easing\": \"linear\"}}], \"label\": \"4\", \"method\": \"animate\"}, {\"args\": [[\"5\"], {\"frame\": {\"duration\": 0, \"redraw\": true}, \"fromcurrent\": true, \"mode\": \"immediate\", \"transition\": {\"duration\": 0, \"easing\": \"linear\"}}], \"label\": \"5\", \"method\": \"animate\"}, {\"args\": [[\"6\"], {\"frame\": {\"duration\": 0, \"redraw\": true}, \"fromcurrent\": true, \"mode\": \"immediate\", \"transition\": {\"duration\": 0, \"easing\": \"linear\"}}], \"label\": \"6\", \"method\": \"animate\"}, {\"args\": [[\"7\"], {\"frame\": {\"duration\": 0, \"redraw\": true}, \"fromcurrent\": true, \"mode\": \"immediate\", \"transition\": {\"duration\": 0, \"easing\": \"linear\"}}], \"label\": \"7\", \"method\": \"animate\"}, {\"args\": [[\"8\"], {\"frame\": {\"duration\": 0, \"redraw\": true}, \"fromcurrent\": true, \"mode\": \"immediate\", \"transition\": {\"duration\": 0, \"easing\": \"linear\"}}], \"label\": \"8\", \"method\": \"animate\"}, {\"args\": [[\"9\"], {\"frame\": {\"duration\": 0, \"redraw\": true}, \"fromcurrent\": true, \"mode\": \"immediate\", \"transition\": {\"duration\": 0, \"easing\": \"linear\"}}], \"label\": \"9\", \"method\": \"animate\"}, {\"args\": [[\"10\"], {\"frame\": {\"duration\": 0, \"redraw\": true}, \"fromcurrent\": true, \"mode\": \"immediate\", \"transition\": {\"duration\": 0, \"easing\": \"linear\"}}], \"label\": \"10\", \"method\": \"animate\"}, {\"args\": [[\"11\"], {\"frame\": {\"duration\": 0, \"redraw\": true}, \"fromcurrent\": true, \"mode\": \"immediate\", \"transition\": {\"duration\": 0, \"easing\": \"linear\"}}], \"label\": \"11\", \"method\": \"animate\"}, {\"args\": [[\"12\"], {\"frame\": {\"duration\": 0, \"redraw\": true}, \"fromcurrent\": true, \"mode\": \"immediate\", \"transition\": {\"duration\": 0, \"easing\": \"linear\"}}], \"label\": \"12\", \"method\": \"animate\"}], \"x\": 0.1, \"xanchor\": \"left\", \"y\": 0, \"yanchor\": \"top\"}], \"template\": {\"data\": {\"bar\": [{\"error_x\": {\"color\": \"#2a3f5f\"}, \"error_y\": {\"color\": \"#2a3f5f\"}, \"marker\": {\"line\": {\"color\": \"#E5ECF6\", \"width\": 0.5}}, \"type\": \"bar\"}], \"barpolar\": [{\"marker\": {\"line\": {\"color\": \"#E5ECF6\", \"width\": 0.5}}, \"type\": \"barpolar\"}], \"carpet\": [{\"aaxis\": {\"endlinecolor\": \"#2a3f5f\", \"gridcolor\": \"white\", \"linecolor\": \"white\", \"minorgridcolor\": \"white\", \"startlinecolor\": \"#2a3f5f\"}, \"baxis\": {\"endlinecolor\": \"#2a3f5f\", \"gridcolor\": \"white\", \"linecolor\": \"white\", \"minorgridcolor\": \"white\", \"startlinecolor\": \"#2a3f5f\"}, \"type\": \"carpet\"}], \"choropleth\": [{\"colorbar\": {\"outlinewidth\": 0, \"ticks\": \"\"}, \"type\": \"choropleth\"}], \"contour\": [{\"colorbar\": {\"outlinewidth\": 0, \"ticks\": \"\"}, \"colorscale\": [[0.0, \"#0d0887\"], [0.1111111111111111, \"#46039f\"], [0.2222222222222222, \"#7201a8\"], [0.3333333333333333, \"#9c179e\"], [0.4444444444444444, \"#bd3786\"], [0.5555555555555556, \"#d8576b\"], [0.6666666666666666, \"#ed7953\"], [0.7777777777777778, \"#fb9f3a\"], [0.8888888888888888, \"#fdca26\"], [1.0, \"#f0f921\"]], \"type\": \"contour\"}], \"contourcarpet\": [{\"colorbar\": {\"outlinewidth\": 0, \"ticks\": \"\"}, \"type\": \"contourcarpet\"}], \"heatmap\": [{\"colorbar\": {\"outlinewidth\": 0, \"ticks\": \"\"}, \"colorscale\": [[0.0, \"#0d0887\"], [0.1111111111111111, \"#46039f\"], [0.2222222222222222, \"#7201a8\"], [0.3333333333333333, \"#9c179e\"], [0.4444444444444444, \"#bd3786\"], [0.5555555555555556, \"#d8576b\"], [0.6666666666666666, \"#ed7953\"], [0.7777777777777778, \"#fb9f3a\"], [0.8888888888888888, \"#fdca26\"], [1.0, \"#f0f921\"]], \"type\": \"heatmap\"}], \"heatmapgl\": [{\"colorbar\": {\"outlinewidth\": 0, \"ticks\": \"\"}, \"colorscale\": [[0.0, \"#0d0887\"], [0.1111111111111111, \"#46039f\"], [0.2222222222222222, \"#7201a8\"], [0.3333333333333333, \"#9c179e\"], [0.4444444444444444, \"#bd3786\"], [0.5555555555555556, \"#d8576b\"], [0.6666666666666666, \"#ed7953\"], [0.7777777777777778, \"#fb9f3a\"], [0.8888888888888888, \"#fdca26\"], [1.0, \"#f0f921\"]], \"type\": \"heatmapgl\"}], \"histogram\": [{\"marker\": {\"colorbar\": {\"outlinewidth\": 0, \"ticks\": \"\"}}, \"type\": \"histogram\"}], \"histogram2d\": [{\"colorbar\": {\"outlinewidth\": 0, \"ticks\": \"\"}, \"colorscale\": [[0.0, \"#0d0887\"], [0.1111111111111111, \"#46039f\"], [0.2222222222222222, \"#7201a8\"], [0.3333333333333333, \"#9c179e\"], [0.4444444444444444, \"#bd3786\"], [0.5555555555555556, \"#d8576b\"], [0.6666666666666666, \"#ed7953\"], [0.7777777777777778, \"#fb9f3a\"], [0.8888888888888888, \"#fdca26\"], [1.0, \"#f0f921\"]], \"type\": \"histogram2d\"}], \"histogram2dcontour\": [{\"colorbar\": {\"outlinewidth\": 0, \"ticks\": \"\"}, \"colorscale\": [[0.0, \"#0d0887\"], [0.1111111111111111, \"#46039f\"], [0.2222222222222222, \"#7201a8\"], [0.3333333333333333, \"#9c179e\"], [0.4444444444444444, \"#bd3786\"], [0.5555555555555556, \"#d8576b\"], [0.6666666666666666, \"#ed7953\"], [0.7777777777777778, \"#fb9f3a\"], [0.8888888888888888, \"#fdca26\"], [1.0, \"#f0f921\"]], \"type\": \"histogram2dcontour\"}], \"mesh3d\": [{\"colorbar\": {\"outlinewidth\": 0, \"ticks\": \"\"}, \"type\": \"mesh3d\"}], \"parcoords\": [{\"line\": {\"colorbar\": {\"outlinewidth\": 0, \"ticks\": \"\"}}, \"type\": \"parcoords\"}], \"pie\": [{\"automargin\": true, \"type\": \"pie\"}], \"scatter\": [{\"marker\": {\"colorbar\": {\"outlinewidth\": 0, \"ticks\": \"\"}}, \"type\": \"scatter\"}], \"scatter3d\": [{\"line\": {\"colorbar\": {\"outlinewidth\": 0, \"ticks\": \"\"}}, \"marker\": {\"colorbar\": {\"outlinewidth\": 0, \"ticks\": \"\"}}, \"type\": \"scatter3d\"}], \"scattercarpet\": [{\"marker\": {\"colorbar\": {\"outlinewidth\": 0, \"ticks\": \"\"}}, \"type\": \"scattercarpet\"}], \"scattergeo\": [{\"marker\": {\"colorbar\": {\"outlinewidth\": 0, \"ticks\": \"\"}}, \"type\": \"scattergeo\"}], \"scattergl\": [{\"marker\": {\"colorbar\": {\"outlinewidth\": 0, \"ticks\": \"\"}}, \"type\": \"scattergl\"}], \"scattermapbox\": [{\"marker\": {\"colorbar\": {\"outlinewidth\": 0, \"ticks\": \"\"}}, \"type\": \"scattermapbox\"}], \"scatterpolar\": [{\"marker\": {\"colorbar\": {\"outlinewidth\": 0, \"ticks\": \"\"}}, \"type\": \"scatterpolar\"}], \"scatterpolargl\": [{\"marker\": {\"colorbar\": {\"outlinewidth\": 0, \"ticks\": \"\"}}, \"type\": \"scatterpolargl\"}], \"scatterternary\": [{\"marker\": {\"colorbar\": {\"outlinewidth\": 0, \"ticks\": \"\"}}, \"type\": \"scatterternary\"}], \"surface\": [{\"colorbar\": {\"outlinewidth\": 0, \"ticks\": \"\"}, \"colorscale\": [[0.0, \"#0d0887\"], [0.1111111111111111, \"#46039f\"], [0.2222222222222222, \"#7201a8\"], [0.3333333333333333, \"#9c179e\"], [0.4444444444444444, \"#bd3786\"], [0.5555555555555556, \"#d8576b\"], [0.6666666666666666, \"#ed7953\"], [0.7777777777777778, \"#fb9f3a\"], [0.8888888888888888, \"#fdca26\"], [1.0, \"#f0f921\"]], \"type\": \"surface\"}], \"table\": [{\"cells\": {\"fill\": {\"color\": \"#EBF0F8\"}, \"line\": {\"color\": \"white\"}}, \"header\": {\"fill\": {\"color\": \"#C8D4E3\"}, \"line\": {\"color\": \"white\"}}, \"type\": \"table\"}]}, \"layout\": {\"annotationdefaults\": {\"arrowcolor\": \"#2a3f5f\", \"arrowhead\": 0, \"arrowwidth\": 1}, \"coloraxis\": {\"colorbar\": {\"outlinewidth\": 0, \"ticks\": \"\"}}, \"colorscale\": {\"diverging\": [[0, \"#8e0152\"], [0.1, \"#c51b7d\"], [0.2, \"#de77ae\"], [0.3, \"#f1b6da\"], [0.4, \"#fde0ef\"], [0.5, \"#f7f7f7\"], [0.6, \"#e6f5d0\"], [0.7, \"#b8e186\"], [0.8, \"#7fbc41\"], [0.9, \"#4d9221\"], [1, \"#276419\"]], \"sequential\": [[0.0, \"#0d0887\"], [0.1111111111111111, \"#46039f\"], [0.2222222222222222, \"#7201a8\"], [0.3333333333333333, \"#9c179e\"], [0.4444444444444444, \"#bd3786\"], [0.5555555555555556, \"#d8576b\"], [0.6666666666666666, \"#ed7953\"], [0.7777777777777778, \"#fb9f3a\"], [0.8888888888888888, \"#fdca26\"], [1.0, \"#f0f921\"]], \"sequentialminus\": [[0.0, \"#0d0887\"], [0.1111111111111111, \"#46039f\"], [0.2222222222222222, \"#7201a8\"], [0.3333333333333333, \"#9c179e\"], [0.4444444444444444, \"#bd3786\"], [0.5555555555555556, \"#d8576b\"], [0.6666666666666666, \"#ed7953\"], [0.7777777777777778, \"#fb9f3a\"], [0.8888888888888888, \"#fdca26\"], [1.0, \"#f0f921\"]]}, \"colorway\": [\"#636efa\", \"#EF553B\", \"#00cc96\", \"#ab63fa\", \"#FFA15A\", \"#19d3f3\", \"#FF6692\", \"#B6E880\", \"#FF97FF\", \"#FECB52\"], \"font\": {\"color\": \"#2a3f5f\"}, \"geo\": {\"bgcolor\": \"white\", \"lakecolor\": \"white\", \"landcolor\": \"#E5ECF6\", \"showlakes\": true, \"showland\": true, \"subunitcolor\": \"white\"}, \"hoverlabel\": {\"align\": \"left\"}, \"hovermode\": \"closest\", \"mapbox\": {\"style\": \"light\"}, \"paper_bgcolor\": \"white\", \"plot_bgcolor\": \"#E5ECF6\", \"polar\": {\"angularaxis\": {\"gridcolor\": \"white\", \"linecolor\": \"white\", \"ticks\": \"\"}, \"bgcolor\": \"#E5ECF6\", \"radialaxis\": {\"gridcolor\": \"white\", \"linecolor\": \"white\", \"ticks\": \"\"}}, \"scene\": {\"xaxis\": {\"backgroundcolor\": \"#E5ECF6\", \"gridcolor\": \"white\", \"gridwidth\": 2, \"linecolor\": \"white\", \"showbackground\": true, \"ticks\": \"\", \"zerolinecolor\": \"white\"}, \"yaxis\": {\"backgroundcolor\": \"#E5ECF6\", \"gridcolor\": \"white\", \"gridwidth\": 2, \"linecolor\": \"white\", \"showbackground\": true, \"ticks\": \"\", \"zerolinecolor\": \"white\"}, \"zaxis\": {\"backgroundcolor\": \"#E5ECF6\", \"gridcolor\": \"white\", \"gridwidth\": 2, \"linecolor\": \"white\", \"showbackground\": true, \"ticks\": \"\", \"zerolinecolor\": \"white\"}}, \"shapedefaults\": {\"line\": {\"color\": \"#2a3f5f\"}}, \"ternary\": {\"aaxis\": {\"gridcolor\": \"white\", \"linecolor\": \"white\", \"ticks\": \"\"}, \"baxis\": {\"gridcolor\": \"white\", \"linecolor\": \"white\", \"ticks\": \"\"}, \"bgcolor\": \"#E5ECF6\", \"caxis\": {\"gridcolor\": \"white\", \"linecolor\": \"white\", \"ticks\": \"\"}}, \"title\": {\"x\": 0.05}, \"xaxis\": {\"automargin\": true, \"gridcolor\": \"white\", \"linecolor\": \"white\", \"ticks\": \"\", \"title\": {\"standoff\": 15}, \"zerolinecolor\": \"white\", \"zerolinewidth\": 2}, \"yaxis\": {\"automargin\": true, \"gridcolor\": \"white\", \"linecolor\": \"white\", \"ticks\": \"\", \"title\": {\"standoff\": 15}, \"zerolinecolor\": \"white\", \"zerolinewidth\": 2}}}, \"xaxis\": {\"anchor\": \"y\", \"domain\": [0.0, 1.0], \"title\": {\"text\": \"hour\"}}, \"yaxis\": {\"anchor\": \"x\", \"domain\": [0.0, 1.0], \"title\": {\"text\": \"average_speed\"}}},\n",
              "                        {\"responsive\": true}\n",
              "                    ).then(function(){\n",
              "                            Plotly.addFrames('603704cc-bc6b-43d2-82b5-1d0f52fdaee1', [{\"data\": [{\"alignmentgroup\": \"True\", \"hoverlabel\": {\"namelength\": 0}, \"hovertemplate\": \"month=1<br>hour=%{x}<br>average_speed=%{marker.color}\", \"ids\": [0, 1, 2, 3, 4, 5, 6, 7, 8, 9, 10, 11, 12, 13, 14, 15, 16, 17, 18, 19, 20, 21, 22, 23], \"legendgroup\": \"\", \"marker\": {\"color\": [46.25651341958486, 48.657547137196964, 49.85668925845987, 50.38687124026754, 45.763444813557825, 35.120438983530995, 30.14466830976866, 28.078244933317496, 27.85197894712632, 27.508261579702186, 25.852442657864277, 24.886789742004524, 24.540512759808625, 24.69341113964921, 24.77436597198886, 25.201067701775184, 26.395686224889587, 25.86069460323794, 25.848342016454588, 27.742102178989285, 30.647571013420304, 33.734239596698394, 36.843032420070124, 41.64569315049969], \"coloraxis\": \"coloraxis\"}, \"name\": \"\", \"offsetgroup\": \"\", \"orientation\": \"v\", \"showlegend\": false, \"textposition\": \"auto\", \"x\": [0, 1, 2, 3, 4, 5, 6, 7, 8, 9, 10, 11, 12, 13, 14, 15, 16, 17, 18, 19, 20, 21, 22, 23], \"xaxis\": \"x\", \"y\": [46.25651341958486, 48.657547137196964, 49.85668925845987, 50.38687124026754, 45.763444813557825, 35.120438983530995, 30.14466830976866, 28.078244933317496, 27.85197894712632, 27.508261579702186, 25.852442657864277, 24.886789742004524, 24.540512759808625, 24.69341113964921, 24.77436597198886, 25.201067701775184, 26.395686224889587, 25.86069460323794, 25.848342016454588, 27.742102178989285, 30.647571013420304, 33.734239596698394, 36.843032420070124, 41.64569315049969], \"yaxis\": \"y\", \"type\": \"bar\"}], \"name\": \"1\"}, {\"data\": [{\"alignmentgroup\": \"True\", \"hoverlabel\": {\"namelength\": 0}, \"hovertemplate\": \"month=2<br>hour=%{x}<br>average_speed=%{marker.color}\", \"ids\": [0, 1, 2, 3, 4, 5, 6, 7, 8, 9, 10, 11, 12, 13, 14, 15, 16, 17, 18, 19, 20, 21, 22, 23], \"legendgroup\": \"\", \"marker\": {\"color\": [45.58825018958459, 48.4751661045941, 49.80789191302412, 50.635392597999584, 45.74882354223031, 34.53815382489114, 28.321121745392286, 25.69930065706453, 25.052409060805253, 25.28696587709176, 24.119341688161576, 23.280848766841856, 23.141407857299253, 23.623819157062854, 23.86074238889516, 24.35448938293018, 25.11793311901975, 24.983390749242908, 25.132216402218397, 27.032825058605635, 29.59950708132135, 32.50332522995634, 35.38510268367208, 40.445843076642824], \"coloraxis\": \"coloraxis\"}, \"name\": \"\", \"offsetgroup\": \"\", \"orientation\": \"v\", \"showlegend\": false, \"textposition\": \"auto\", \"x\": [0, 1, 2, 3, 4, 5, 6, 7, 8, 9, 10, 11, 12, 13, 14, 15, 16, 17, 18, 19, 20, 21, 22, 23], \"xaxis\": \"x\", \"y\": [45.58825018958459, 48.4751661045941, 49.80789191302412, 50.635392597999584, 45.74882354223031, 34.53815382489114, 28.321121745392286, 25.69930065706453, 25.052409060805253, 25.28696587709176, 24.119341688161576, 23.280848766841856, 23.141407857299253, 23.623819157062854, 23.86074238889516, 24.35448938293018, 25.11793311901975, 24.983390749242908, 25.132216402218397, 27.032825058605635, 29.59950708132135, 32.50332522995634, 35.38510268367208, 40.445843076642824], \"yaxis\": \"y\", \"type\": \"bar\"}], \"name\": \"2\"}, {\"data\": [{\"alignmentgroup\": \"True\", \"hoverlabel\": {\"namelength\": 0}, \"hovertemplate\": \"month=3<br>hour=%{x}<br>average_speed=%{marker.color}\", \"ids\": [0, 1, 2, 3, 4, 5, 6, 7, 8, 9, 10, 11, 12, 13, 14, 15, 16, 17, 18, 19, 20, 21, 22, 23], \"legendgroup\": \"\", \"marker\": {\"color\": [45.398215265371505, 48.19606793117696, 49.58211029019567, 49.9411827000791, 45.7784468729284, 35.26403959698138, 29.07624608159408, 26.85258148434199, 26.261631033209728, 26.03322218727752, 24.830889375521263, 24.407768667939344, 24.03581022543966, 24.029071715169113, 24.38198572162333, 24.877534819988018, 25.752694378963437, 25.58861332448533, 25.4534323878134, 27.151563370189816, 29.941299065085868, 32.671608914555115, 35.51862303704341, 40.73957401301525], \"coloraxis\": \"coloraxis\"}, \"name\": \"\", \"offsetgroup\": \"\", \"orientation\": \"v\", \"showlegend\": false, \"textposition\": \"auto\", \"x\": [0, 1, 2, 3, 4, 5, 6, 7, 8, 9, 10, 11, 12, 13, 14, 15, 16, 17, 18, 19, 20, 21, 22, 23], \"xaxis\": \"x\", \"y\": [45.398215265371505, 48.19606793117696, 49.58211029019567, 49.9411827000791, 45.7784468729284, 35.26403959698138, 29.07624608159408, 26.85258148434199, 26.261631033209728, 26.03322218727752, 24.830889375521263, 24.407768667939344, 24.03581022543966, 24.029071715169113, 24.38198572162333, 24.877534819988018, 25.752694378963437, 25.58861332448533, 25.4534323878134, 27.151563370189816, 29.941299065085868, 32.671608914555115, 35.51862303704341, 40.73957401301525], \"yaxis\": \"y\", \"type\": \"bar\"}], \"name\": \"3\"}, {\"data\": [{\"alignmentgroup\": \"True\", \"hoverlabel\": {\"namelength\": 0}, \"hovertemplate\": \"month=4<br>hour=%{x}<br>average_speed=%{marker.color}\", \"ids\": [0, 1, 2, 3, 4, 5, 6, 7, 8, 9, 10, 11, 12, 13, 14, 15, 16, 17, 18, 19, 20, 21, 22, 23], \"legendgroup\": \"\", \"marker\": {\"color\": [45.23403726454791, 47.57337341462315, 49.223282303230704, 49.435562883442095, 44.87457451775665, 34.24475022549776, 28.519558302955062, 25.734626553669163, 25.06305173133949, 25.02262920343279, 23.710893382647694, 22.876578606043598, 22.65281578957659, 22.43788025092196, 22.60081811301538, 23.06776807275103, 23.871487279434085, 23.982852185869284, 23.887511167217, 26.059999650737932, 28.818010749390925, 32.176096180688006, 35.33992429389145, 40.11480666675102], \"coloraxis\": \"coloraxis\"}, \"name\": \"\", \"offsetgroup\": \"\", \"orientation\": \"v\", \"showlegend\": false, \"textposition\": \"auto\", \"x\": [0, 1, 2, 3, 4, 5, 6, 7, 8, 9, 10, 11, 12, 13, 14, 15, 16, 17, 18, 19, 20, 21, 22, 23], \"xaxis\": \"x\", \"y\": [45.23403726454791, 47.57337341462315, 49.223282303230704, 49.435562883442095, 44.87457451775665, 34.24475022549776, 28.519558302955062, 25.734626553669163, 25.06305173133949, 25.02262920343279, 23.710893382647694, 22.876578606043598, 22.65281578957659, 22.43788025092196, 22.60081811301538, 23.06776807275103, 23.871487279434085, 23.982852185869284, 23.887511167217, 26.059999650737932, 28.818010749390925, 32.176096180688006, 35.33992429389145, 40.11480666675102], \"yaxis\": \"y\", \"type\": \"bar\"}], \"name\": \"4\"}, {\"data\": [{\"alignmentgroup\": \"True\", \"hoverlabel\": {\"namelength\": 0}, \"hovertemplate\": \"month=5<br>hour=%{x}<br>average_speed=%{marker.color}\", \"ids\": [0, 1, 2, 3, 4, 5, 6, 7, 8, 9, 10, 11, 12, 13, 14, 15, 16, 17, 18, 19, 20, 21, 22, 23], \"legendgroup\": \"\", \"marker\": {\"color\": [44.45010889529507, 46.89014484437609, 48.312973288303674, 48.92478149786771, 44.56634829713459, 34.89275620640221, 28.944877350844408, 26.358242164937906, 25.306053667594306, 24.90628389037897, 23.874869006880964, 23.155796438311988, 22.697416255750532, 22.90722003590076, 23.058598593863184, 23.81188777275587, 24.65806294475339, 24.42766189305377, 24.335269000321585, 25.848413903294745, 28.676891551409312, 31.38197002407259, 34.34815075967297, 39.570977096101636], \"coloraxis\": \"coloraxis\"}, \"name\": \"\", \"offsetgroup\": \"\", \"orientation\": \"v\", \"showlegend\": false, \"textposition\": \"auto\", \"x\": [0, 1, 2, 3, 4, 5, 6, 7, 8, 9, 10, 11, 12, 13, 14, 15, 16, 17, 18, 19, 20, 21, 22, 23], \"xaxis\": \"x\", \"y\": [44.45010889529507, 46.89014484437609, 48.312973288303674, 48.92478149786771, 44.56634829713459, 34.89275620640221, 28.944877350844408, 26.358242164937906, 25.306053667594306, 24.90628389037897, 23.874869006880964, 23.155796438311988, 22.697416255750532, 22.90722003590076, 23.058598593863184, 23.81188777275587, 24.65806294475339, 24.42766189305377, 24.335269000321585, 25.848413903294745, 28.676891551409312, 31.38197002407259, 34.34815075967297, 39.570977096101636], \"yaxis\": \"y\", \"type\": \"bar\"}], \"name\": \"5\"}, {\"data\": [{\"alignmentgroup\": \"True\", \"hoverlabel\": {\"namelength\": 0}, \"hovertemplate\": \"month=6<br>hour=%{x}<br>average_speed=%{marker.color}\", \"ids\": [0, 1, 2, 3, 4, 5, 6, 7, 8, 9, 10, 11, 12, 13, 14, 15, 16, 17, 18, 19, 20, 21, 22, 23], \"legendgroup\": \"\", \"marker\": {\"color\": [43.802654716922376, 46.97902550780429, 48.073404979746655, 48.28712080345782, 43.33512143535482, 34.31638700650395, 28.548939513275712, 26.3102480600768, 25.83626775373111, 25.27338835521754, 24.190435165763844, 23.596221943184887, 23.1222104209441, 23.283174388731542, 23.32971051545137, 23.661756153562205, 24.37256114384225, 24.33207596245737, 24.31192026911185, 26.070355066600758, 28.796679652132315, 31.909675576446965, 35.19792310875934, 39.748872254698625], \"coloraxis\": \"coloraxis\"}, \"name\": \"\", \"offsetgroup\": \"\", \"orientation\": \"v\", \"showlegend\": false, \"textposition\": \"auto\", \"x\": [0, 1, 2, 3, 4, 5, 6, 7, 8, 9, 10, 11, 12, 13, 14, 15, 16, 17, 18, 19, 20, 21, 22, 23], \"xaxis\": \"x\", \"y\": [43.802654716922376, 46.97902550780429, 48.073404979746655, 48.28712080345782, 43.33512143535482, 34.31638700650395, 28.548939513275712, 26.3102480600768, 25.83626775373111, 25.27338835521754, 24.190435165763844, 23.596221943184887, 23.1222104209441, 23.283174388731542, 23.32971051545137, 23.661756153562205, 24.37256114384225, 24.33207596245737, 24.31192026911185, 26.070355066600758, 28.796679652132315, 31.909675576446965, 35.19792310875934, 39.748872254698625], \"yaxis\": \"y\", \"type\": \"bar\"}], \"name\": \"6\"}, {\"data\": [{\"alignmentgroup\": \"True\", \"hoverlabel\": {\"namelength\": 0}, \"hovertemplate\": \"month=7<br>hour=%{x}<br>average_speed=%{marker.color}\", \"ids\": [0, 1, 2, 3, 4, 5, 6, 7, 8, 9, 10, 11, 12, 13, 14, 15, 16, 17, 18, 19, 20, 21, 22, 23], \"legendgroup\": \"\", \"marker\": {\"color\": [45.398543677886295, 48.53790664214515, 49.78842151961693, 50.29599680549444, 46.3375745747945, 34.903017145686306, 28.943044021386367, 26.356646965757868, 25.954224066747596, 25.79052757135457, 24.79623703860923, 24.168033896088854, 23.78924104838494, 23.84530271426487, 24.599930773742056, 25.397200120907375, 25.981996970343857, 25.358047994537724, 25.091845529934318, 26.037721670284622, 28.385994214497607, 31.464943202149236, 34.66460253646818, 39.90394463636217], \"coloraxis\": \"coloraxis\"}, \"name\": \"\", \"offsetgroup\": \"\", \"orientation\": \"v\", \"showlegend\": false, \"textposition\": \"auto\", \"x\": [0, 1, 2, 3, 4, 5, 6, 7, 8, 9, 10, 11, 12, 13, 14, 15, 16, 17, 18, 19, 20, 21, 22, 23], \"xaxis\": \"x\", \"y\": [45.398543677886295, 48.53790664214515, 49.78842151961693, 50.29599680549444, 46.3375745747945, 34.903017145686306, 28.943044021386367, 26.356646965757868, 25.954224066747596, 25.79052757135457, 24.79623703860923, 24.168033896088854, 23.78924104838494, 23.84530271426487, 24.599930773742056, 25.397200120907375, 25.981996970343857, 25.358047994537724, 25.091845529934318, 26.037721670284622, 28.385994214497607, 31.464943202149236, 34.66460253646818, 39.90394463636217], \"yaxis\": \"y\", \"type\": \"bar\"}], \"name\": \"7\"}, {\"data\": [{\"alignmentgroup\": \"True\", \"hoverlabel\": {\"namelength\": 0}, \"hovertemplate\": \"month=8<br>hour=%{x}<br>average_speed=%{marker.color}\", \"ids\": [0, 1, 2, 3, 4, 5, 6, 7, 8, 9, 10, 11, 12, 13, 14, 15, 16, 17, 18, 19, 20, 21, 22, 23], \"legendgroup\": \"\", \"marker\": {\"color\": [45.018056208084765, 47.60413815953847, 49.21839096405388, 49.54377863847412, 44.772232763202446, 33.97308210925701, 27.909382150236045, 25.394362432369327, 24.386261857128464, 24.313054026164068, 23.40452767455304, 22.960982302049164, 22.627153893707032, 23.02539522179292, 23.25047206310405, 23.741397638873348, 24.729176578252325, 24.480599035097434, 24.187805074377675, 25.7839828174586, 28.416543283141127, 31.227727562646866, 33.969445828414365, 39.24336744465326], \"coloraxis\": \"coloraxis\"}, \"name\": \"\", \"offsetgroup\": \"\", \"orientation\": \"v\", \"showlegend\": false, \"textposition\": \"auto\", \"x\": [0, 1, 2, 3, 4, 5, 6, 7, 8, 9, 10, 11, 12, 13, 14, 15, 16, 17, 18, 19, 20, 21, 22, 23], \"xaxis\": \"x\", \"y\": [45.018056208084765, 47.60413815953847, 49.21839096405388, 49.54377863847412, 44.772232763202446, 33.97308210925701, 27.909382150236045, 25.394362432369327, 24.386261857128464, 24.313054026164068, 23.40452767455304, 22.960982302049164, 22.627153893707032, 23.02539522179292, 23.25047206310405, 23.741397638873348, 24.729176578252325, 24.480599035097434, 24.187805074377675, 25.7839828174586, 28.416543283141127, 31.227727562646866, 33.969445828414365, 39.24336744465326], \"yaxis\": \"y\", \"type\": \"bar\"}], \"name\": \"8\"}, {\"data\": [{\"alignmentgroup\": \"True\", \"hoverlabel\": {\"namelength\": 0}, \"hovertemplate\": \"month=9<br>hour=%{x}<br>average_speed=%{marker.color}\", \"ids\": [0, 1, 2, 3, 4, 5, 6, 7, 8, 9, 10, 11, 12, 13, 14, 15, 16, 17, 18, 19, 20, 21, 22, 23], \"legendgroup\": \"\", \"marker\": {\"color\": [45.02746520606841, 47.25830128089187, 48.758819984638656, 49.193836565408255, 44.286730487587405, 33.61901711170167, 27.865201503224075, 24.904075539969583, 24.423107335843802, 24.878221192526723, 23.700303219357078, 23.26953376190977, 22.946754151815966, 23.299336541610636, 23.239404289679527, 23.503500386432655, 24.106772344102193, 23.903726374119884, 23.589069995616438, 25.53625044924066, 28.478718918714478, 31.16363699044556, 34.307157854219085, 39.7603590762256], \"coloraxis\": \"coloraxis\"}, \"name\": \"\", \"offsetgroup\": \"\", \"orientation\": \"v\", \"showlegend\": false, \"textposition\": \"auto\", \"x\": [0, 1, 2, 3, 4, 5, 6, 7, 8, 9, 10, 11, 12, 13, 14, 15, 16, 17, 18, 19, 20, 21, 22, 23], \"xaxis\": \"x\", \"y\": [45.02746520606841, 47.25830128089187, 48.758819984638656, 49.193836565408255, 44.286730487587405, 33.61901711170167, 27.865201503224075, 24.904075539969583, 24.423107335843802, 24.878221192526723, 23.700303219357078, 23.26953376190977, 22.946754151815966, 23.299336541610636, 23.239404289679527, 23.503500386432655, 24.106772344102193, 23.903726374119884, 23.589069995616438, 25.53625044924066, 28.478718918714478, 31.16363699044556, 34.307157854219085, 39.7603590762256], \"yaxis\": \"y\", \"type\": \"bar\"}], \"name\": \"9\"}, {\"data\": [{\"alignmentgroup\": \"True\", \"hoverlabel\": {\"namelength\": 0}, \"hovertemplate\": \"month=10<br>hour=%{x}<br>average_speed=%{marker.color}\", \"ids\": [0, 1, 2, 3, 4, 5, 6, 7, 8, 9, 10, 11, 12, 13, 14, 15, 16, 17, 18, 19, 20, 21, 22, 23], \"legendgroup\": \"\", \"marker\": {\"color\": [45.316565383476494, 47.78512741898329, 49.18047813290395, 49.06617777591371, 44.76530866343674, 33.86556310752125, 27.86658295813333, 24.6717923364053, 24.126950121670014, 24.005979301730445, 23.031538422083404, 22.50650770901717, 22.439157940378408, 22.745047486814695, 22.78157590464176, 23.330655017351937, 24.201656230106593, 24.037100759273677, 23.402723899007224, 25.688123549804246, 28.531021606218204, 31.2876664600052, 34.440267845406964, 39.63519457589487], \"coloraxis\": \"coloraxis\"}, \"name\": \"\", \"offsetgroup\": \"\", \"orientation\": \"v\", \"showlegend\": false, \"textposition\": \"auto\", \"x\": [0, 1, 2, 3, 4, 5, 6, 7, 8, 9, 10, 11, 12, 13, 14, 15, 16, 17, 18, 19, 20, 21, 22, 23], \"xaxis\": \"x\", \"y\": [45.316565383476494, 47.78512741898329, 49.18047813290395, 49.06617777591371, 44.76530866343674, 33.86556310752125, 27.86658295813333, 24.6717923364053, 24.126950121670014, 24.005979301730445, 23.031538422083404, 22.50650770901717, 22.439157940378408, 22.745047486814695, 22.78157590464176, 23.330655017351937, 24.201656230106593, 24.037100759273677, 23.402723899007224, 25.688123549804246, 28.531021606218204, 31.2876664600052, 34.440267845406964, 39.63519457589487], \"yaxis\": \"y\", \"type\": \"bar\"}], \"name\": \"10\"}, {\"data\": [{\"alignmentgroup\": \"True\", \"hoverlabel\": {\"namelength\": 0}, \"hovertemplate\": \"month=11<br>hour=%{x}<br>average_speed=%{marker.color}\", \"ids\": [0, 1, 2, 3, 4, 5, 6, 7, 8, 9, 10, 11, 12, 13, 14, 15, 16, 17, 18, 19, 20, 21, 22, 23], \"legendgroup\": \"\", \"marker\": {\"color\": [41.494954488590984, 42.84103366174462, 43.43264530655167, 44.096386756223524, 41.184370430275, 33.03248087044104, 28.27937998627924, 25.8247760839039, 25.002558288123648, 24.82706372165177, 23.76552032214325, 22.97520440427302, 22.56740037825878, 22.721128878061254, 22.919596415853917, 23.180473948282128, 24.146045553612907, 23.9185336190672, 23.51444684404238, 25.432855124494353, 27.931160483339134, 30.681490278630154, 33.21254797604025, 38.177181915685864], \"coloraxis\": \"coloraxis\"}, \"name\": \"\", \"offsetgroup\": \"\", \"orientation\": \"v\", \"showlegend\": false, \"textposition\": \"auto\", \"x\": [0, 1, 2, 3, 4, 5, 6, 7, 8, 9, 10, 11, 12, 13, 14, 15, 16, 17, 18, 19, 20, 21, 22, 23], \"xaxis\": \"x\", \"y\": [41.494954488590984, 42.84103366174462, 43.43264530655167, 44.096386756223524, 41.184370430275, 33.03248087044104, 28.27937998627924, 25.8247760839039, 25.002558288123648, 24.82706372165177, 23.76552032214325, 22.97520440427302, 22.56740037825878, 22.721128878061254, 22.919596415853917, 23.180473948282128, 24.146045553612907, 23.9185336190672, 23.51444684404238, 25.432855124494353, 27.931160483339134, 30.681490278630154, 33.21254797604025, 38.177181915685864], \"yaxis\": \"y\", \"type\": \"bar\"}], \"name\": \"11\"}, {\"data\": [{\"alignmentgroup\": \"True\", \"hoverlabel\": {\"namelength\": 0}, \"hovertemplate\": \"month=12<br>hour=%{x}<br>average_speed=%{marker.color}\", \"ids\": [0, 1, 2, 3, 4, 5, 6, 7, 8, 9, 10, 11, 12, 13, 14, 15, 16, 17, 18, 19, 20, 21, 22, 23], \"legendgroup\": \"\", \"marker\": {\"color\": [41.662120126937744, 43.88670744303073, 44.57930942290664, 44.918309988568296, 42.37968526623534, 33.25216765773398, 28.65880430307129, 26.38089226346948, 25.46759823852086, 24.937729282364103, 23.709537210838388, 23.128237274411813, 22.780859626695204, 22.69356868656298, 22.753474450808767, 23.280673326178906, 23.949241035085663, 23.860953748606494, 23.115663770704376, 24.564399922103018, 26.66054641662355, 30.077545289079296, 33.194016451087656, 37.63876209770209], \"coloraxis\": \"coloraxis\"}, \"name\": \"\", \"offsetgroup\": \"\", \"orientation\": \"v\", \"showlegend\": false, \"textposition\": \"auto\", \"x\": [0, 1, 2, 3, 4, 5, 6, 7, 8, 9, 10, 11, 12, 13, 14, 15, 16, 17, 18, 19, 20, 21, 22, 23], \"xaxis\": \"x\", \"y\": [41.662120126937744, 43.88670744303073, 44.57930942290664, 44.918309988568296, 42.37968526623534, 33.25216765773398, 28.65880430307129, 26.38089226346948, 25.46759823852086, 24.937729282364103, 23.709537210838388, 23.128237274411813, 22.780859626695204, 22.69356868656298, 22.753474450808767, 23.280673326178906, 23.949241035085663, 23.860953748606494, 23.115663770704376, 24.564399922103018, 26.66054641662355, 30.077545289079296, 33.194016451087656, 37.63876209770209], \"yaxis\": \"y\", \"type\": \"bar\"}], \"name\": \"12\"}]);\n",
              "                        }).then(function(){\n",
              "                            \n",
              "var gd = document.getElementById('603704cc-bc6b-43d2-82b5-1d0f52fdaee1');\n",
              "var x = new MutationObserver(function (mutations, observer) {{\n",
              "        var display = window.getComputedStyle(gd).display;\n",
              "        if (!display || display === 'none') {{\n",
              "            console.log([gd, 'removed!']);\n",
              "            Plotly.purge(gd);\n",
              "            observer.disconnect();\n",
              "        }}\n",
              "}});\n",
              "\n",
              "// Listen for the removal of the full notebook cells\n",
              "var notebookContainer = gd.closest('#notebook-container');\n",
              "if (notebookContainer) {{\n",
              "    x.observe(notebookContainer, {childList: true});\n",
              "}}\n",
              "\n",
              "// Listen for the clearing of the current output cell\n",
              "var outputEl = gd.closest('.output');\n",
              "if (outputEl) {{\n",
              "    x.observe(outputEl, {childList: true});\n",
              "}}\n",
              "\n",
              "                        })\n",
              "                };\n",
              "                \n",
              "            </script>\n",
              "        </div>\n",
              "</body>\n",
              "</html>"
            ]
          },
          "metadata": {
            "tags": []
          }
        }
      ]
    },
    {
      "cell_type": "markdown",
      "metadata": {
        "id": "Y0DoVB9ZfAci"
      },
      "source": [
        "### *Average speed per month for 2018 and 2019*"
      ]
    },
    {
      "cell_type": "code",
      "metadata": {
        "id": "8Vgb7jPV2WrK",
        "outputId": "642b3312-2f74-418d-ca4c-0c29188eb327",
        "colab": {
          "base_uri": "https://localhost:8080/",
          "height": 486
        }
      },
      "source": [
        "avg_per_year_13 = df_CL13[['average_speed','year','month']].groupby(['month','year']).mean().reset_index()#.plot.bar() \n",
        "g = sns.catplot(x=\"month\", y=\"average_speed\", hue=\"year\", data=avg_per_year_13,kind = 'bar',palette=\"Blues_d\",height=6, aspect=2.5)\n",
        "g.set(title = 'Average speed per month for 2018 and 2019',ylim=(0, 40))"
      ],
      "execution_count": null,
      "outputs": [
        {
          "output_type": "execute_result",
          "data": {
            "text/plain": [
              "<seaborn.axisgrid.FacetGrid at 0x7fd7bc9205c0>"
            ]
          },
          "metadata": {
            "tags": []
          },
          "execution_count": 13
        },
        {
          "output_type": "display_data",
          "data": {
            "image/png": "[encoded data removed]",
            "text/plain": [
              "<Figure size 1141.38x432 with 1 Axes>"
            ]
          },
          "metadata": {
            "tags": []
          }
        }
      ]
    },
    {
      "cell_type": "markdown",
      "metadata": {
        "id": "0fCpjIlCfG_3"
      },
      "source": [
        "### *Average speed per hour for orientation of the road*"
      ]
    },
    {
      "cell_type": "code",
      "metadata": {
        "id": "dgNz6iWD8F_O",
        "outputId": "fcef6fe7-b004-4b8b-8fe9-1647d909758c",
        "colab": {
          "base_uri": "https://localhost:8080/",
          "height": 488
        }
      },
      "source": [
        "avg_per_orientation_13 = df_CL13[['orientation','average_speed','hour']].groupby(['orientation','hour']).mean().reset_index()\n",
        "g = sns.catplot(x=\"hour\", y=\"average_speed\", hue=\"orientation\", data=avg_per_orientation_13,kind = 'bar',palette=\"Blues_d\",height=6, aspect=2.7)\n",
        "g.set(title = 'Average speed per hour for orientation',ylim=(0, 60))"
      ],
      "execution_count": null,
      "outputs": [
        {
          "output_type": "execute_result",
          "data": {
            "text/plain": [
              "<seaborn.axisgrid.FacetGrid at 0x7fd7a0647be0>"
            ]
          },
          "metadata": {
            "tags": []
          },
          "execution_count": 14
        },
        {
          "output_type": "display_data",
          "data": {
            "image/png": "[encoded data removed]",
            "text/plain": [
              "<Figure size 1252.15x432 with 1 Axes>"
            ]
          },
          "metadata": {
            "tags": []
          }
        }
      ]
    },
    {
      "cell_type": "code",
      "metadata": {
        "id": "gOF9Vr2kKawC"
      },
      "source": [
        "avg_speed_corridor_CL13_ew = df_CL13_ew[['name_to','average_speed']].groupby(['name_to']).mean().sort_values('average_speed',ascending = False).reset_index()\n",
        "avg_speed_corridor_CL13_ew['coordinates']= avg_speed_corridor_CL13_ew['name_to'].map(coordenadas)\n",
        "avg_speed_corridor_CL13_ew = avg_speed_corridor_CL13_ew.dropna()\n",
        "color_speed = ['#300000','#300000','#600000','#600000','#900000','#900000','#c00000','#c00000','#ef0000','#ef0000','#ff9090','#ff9090','#ffcfcf','#ffcfcf','#ffefef']\n",
        "avg_speed_corridor_CL13_ew['color_speed'] = color_speed"
      ],
      "execution_count": null,
      "outputs": []
    },
    {
      "cell_type": "code",
      "metadata": {
        "id": "fXmEmgWlRcqm"
      },
      "source": [
        "avg_speed_corridor_CL13_we = df_CL13_we[['name_to','average_speed']].groupby(['name_to']).mean().sort_values('average_speed',ascending = False).reset_index()\n",
        "avg_speed_corridor_CL13_we['coordinates']= avg_speed_corridor_CL13_we['name_to'].map(coordenadas)\n",
        "avg_speed_corridor_CL13_we = avg_speed_corridor_CL13_we.dropna()\n",
        "avg_speed_corridor_CL13_we['color_speed'] = color_speed"
      ],
      "execution_count": null,
      "outputs": []
    },
    {
      "cell_type": "markdown",
      "metadata": {
        "id": "7EQb4T8XfZz4"
      },
      "source": [
        "### *Map of corridor East to West. Color defined by average velocity*"
      ]
    },
    {
      "cell_type": "code",
      "metadata": {
        "id": "BXNAEiyQNRRs",
        "outputId": "c0c98db2-a6eb-4da6-b844-857c0023d95e",
        "colab": {
          "base_uri": "https://localhost:8080/",
          "height": 521
        }
      },
      "source": [
        "#Map Calle 13 East-West\n",
        "f = folium.Figure(width=600, height=500)\n",
        "mapCL13_ew = folium.Map(location=[4.648098, -74.131369], zoom_start=13.2)\n",
        "list_coord = avg_speed_corridor_CL13_ew['coordinates'].tolist()\n",
        "list_color = avg_speed_corridor_CL13_ew['color_speed'].tolist()\n",
        "\n",
        "for i in range(len(list_coord)):\n",
        "  folium.PolyLine(list_coord[i], weight=7, opacity=1, color = list_color[i]).add_to(mapCL13_ew)\n",
        "#folium.TileLayer('cartodbpositron').add_to(mapCL13_we)\n",
        "f.add_child(mapCL13_ew)"
      ],
      "execution_count": null,
      "outputs": [
        {
          "output_type": "execute_result",
          "data": {
            "text/html": [
              "<iframe src=\"about:blank\" width=\"600\" height=\"500\"style=\"border:none !important;\" data-html=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 onload=\"this.contentDocument.open();this.contentDocument.write(atob(this.getAttribute('data-html')));this.contentDocument.close();\" \"allowfullscreen\" \"webkitallowfullscreen\" \"mozallowfullscreen\"></iframe>"
            ],
            "text/plain": [
              "<branca.element.Figure at 0x7fd79d19fc18>"
            ]
          },
          "metadata": {
            "tags": []
          },
          "execution_count": 18
        }
      ]
    },
    {
      "cell_type": "markdown",
      "metadata": {
        "id": "xE7aplJdfnop"
      },
      "source": [
        "### *Map of corridor West to East. Color defined by average velocity*"
      ]
    },
    {
      "cell_type": "code",
      "metadata": {
        "id": "5jTpCiqERuu2",
        "outputId": "268e54b7-08f1-45c5-9e8b-14c0e72b777b",
        "colab": {
          "base_uri": "https://localhost:8080/",
          "height": 521
        }
      },
      "source": [
        "#Map Calle 13 West-East\n",
        "\n",
        "f = folium.Figure(width=600, height=500)\n",
        "mapCL13_we = folium.Map(location=[4.648098, -74.131369], zoom_start=13.2)\n",
        "list_coord = avg_speed_corridor_CL13_we['coordinates'].tolist()\n",
        "list_color = avg_speed_corridor_CL13_we['color_speed'].tolist()\n",
        "\n",
        "for i in range(len(list_coord)):\n",
        "  folium.PolyLine(list_coord[i], weight=7, opacity=1, color = list_color[i]).add_to(mapCL13_we)\n",
        "folium.TileLayer('cartodbpositron').add_to(mapCL13_we)\n",
        "f.add_child(mapCL13_we)"
      ],
      "execution_count": null,
      "outputs": [
        {
          "output_type": "execute_result",
          "data": {
            "text/html": [
              "<iframe src=\"about:blank\" width=\"600\" height=\"500\"style=\"border:none !important;\" data-html=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 onload=\"this.contentDocument.open();this.contentDocument.write(atob(this.getAttribute('data-html')));this.contentDocument.close();\" \"allowfullscreen\" \"webkitallowfullscreen\" \"mozallowfullscreen\"></iframe>"
            ],
            "text/plain": [
              "<branca.element.Figure at 0x7fd79cdd6828>"
            ]
          },
          "metadata": {
            "tags": []
          },
          "execution_count": 19
        }
      ]
    },
    {
      "cell_type": "markdown",
      "metadata": {
        "id": "Ql6lF4vWV_1f"
      },
      "source": [
        "# **CALLE 80**"
      ]
    },
    {
      "cell_type": "markdown",
      "metadata": {
        "id": "d3pxEwSuf2hQ"
      },
      "source": [
        "### *Average speed per weekday*"
      ]
    },
    {
      "cell_type": "code",
      "metadata": {
        "id": "A-muWLnBWUlP",
        "outputId": "f4f25a4b-a62c-4010-a38b-028104471f4e",
        "colab": {
          "base_uri": "https://localhost:8080/",
          "height": 542
        }
      },
      "source": [
        "df_CL80_ew = df_CL80[df_CL80['orientation'] == 'east_west']\n",
        "df_CL80_we = df_CL80[df_CL80['orientation'] == 'west_east']\n",
        "\n",
        "avg_velocity_per_weekday_CL80 = df_CL80[['month','average_speed','weekday']].groupby(['month','weekday']).mean().reset_index()\n",
        "\n",
        "fig = px.bar(avg_velocity_per_weekday_CL80, x=\"weekday\", y=\"average_speed\", animation_frame=\"month\", animation_group=\"weekday\",color=\"average_speed\",color_continuous_scale=px.colors.sequential.RdBu)\n",
        "fig[\"layout\"].pop(\"updatemenus\") # optional, drop animation buttons\n",
        "fig.show()"
      ],
      "execution_count": null,
      "outputs": [
        {
          "output_type": "display_data",
          "data": {
            "text/html": [
              "<html>\n",
              "<head><meta charset=\"utf-8\" /></head>\n",
              "<body>\n",
              "    <div>\n",
              "            <script src=\"https://cdnjs.cloudflare.com/ajax/libs/mathjax/2.7.5/MathJax.js?config=TeX-AMS-MML_SVG\"></script><script type=\"text/javascript\">if (window.MathJax) {MathJax.Hub.Config({SVG: {font: \"STIX-Web\"}});}</script>\n",
              "                <script type=\"text/javascript\">window.PlotlyConfig = {MathJaxConfig: 'local'};</script>\n",
              "        <script src=\"https://cdn.plot.ly/plotly-latest.min.js\"></script>    \n",
              "            <div id=\"e91eb289-06c1-460d-871c-f53d77b41750\" class=\"plotly-graph-div\" style=\"height:525px; width:100%;\"></div>\n",
              "            <script type=\"text/javascript\">\n",
              "                \n",
              "                    window.PLOTLYENV=window.PLOTLYENV || {};\n",
              "                    \n",
              "                if (document.getElementById(\"e91eb289-06c1-460d-871c-f53d77b41750\")) {\n",
              "                    Plotly.newPlot(\n",
              "                        'e91eb289-06c1-460d-871c-f53d77b41750',\n",
              "                        [{\"alignmentgroup\": \"True\", \"hoverlabel\": {\"namelength\": 0}, \"hovertemplate\": \"month=1<br>weekday=%{x}<br>average_speed=%{marker.color}\", \"ids\": [\"Domingo\", \"Jueves\", \"Lunes\", \"Martes\", \"Miercoles\", \"Sabado\", \"Viernes\"], \"legendgroup\": \"\", \"marker\": {\"color\": [38.64023246334126, 33.6571191576676, 36.26261629264814, 36.02534944774496, 33.90534079425386, 34.68568386328585, 33.4595115567358], \"coloraxis\": \"coloraxis\"}, \"name\": \"\", \"offsetgroup\": \"\", \"orientation\": \"v\", \"showlegend\": false, \"textposition\": \"auto\", \"type\": \"bar\", \"x\": [\"Domingo\", \"Jueves\", \"Lunes\", \"Martes\", \"Miercoles\", \"Sabado\", \"Viernes\"], \"xaxis\": \"x\", \"y\": [38.64023246334126, 33.6571191576676, 36.26261629264814, 36.02534944774496, 33.90534079425386, 34.68568386328585, 33.4595115567358], \"yaxis\": \"y\"}],\n",
              "                        {\"barmode\": \"relative\", \"coloraxis\": {\"colorbar\": {\"title\": {\"text\": \"average_speed\"}}, \"colorscale\": [[0.0, \"rgb(103,0,31)\"], [0.1, \"rgb(178,24,43)\"], [0.2, \"rgb(214,96,77)\"], [0.3, \"rgb(244,165,130)\"], [0.4, \"rgb(253,219,199)\"], [0.5, \"rgb(247,247,247)\"], [0.6, \"rgb(209,229,240)\"], [0.7, \"rgb(146,197,222)\"], [0.8, \"rgb(67,147,195)\"], [0.9, \"rgb(33,102,172)\"], [1.0, \"rgb(5,48,97)\"]]}, \"legend\": {\"tracegroupgap\": 0}, \"margin\": {\"t\": 60}, \"sliders\": [{\"active\": 0, \"currentvalue\": {\"prefix\": \"month=\"}, \"len\": 0.9, \"pad\": {\"b\": 10, \"t\": 60}, \"steps\": [{\"args\": [[\"1\"], {\"frame\": {\"duration\": 0, \"redraw\": true}, \"fromcurrent\": true, \"mode\": \"immediate\", \"transition\": {\"duration\": 0, \"easing\": \"linear\"}}], \"label\": \"1\", \"method\": \"animate\"}, {\"args\": [[\"2\"], {\"frame\": {\"duration\": 0, \"redraw\": true}, \"fromcurrent\": true, \"mode\": \"immediate\", \"transition\": {\"duration\": 0, \"easing\": \"linear\"}}], \"label\": \"2\", \"method\": \"animate\"}, {\"args\": [[\"3\"], {\"frame\": {\"duration\": 0, \"redraw\": true}, \"fromcurrent\": true, \"mode\": \"immediate\", \"transition\": {\"duration\": 0, \"easing\": \"linear\"}}], \"label\": \"3\", \"method\": \"animate\"}, {\"args\": [[\"4\"], {\"frame\": {\"duration\": 0, \"redraw\": true}, \"fromcurrent\": true, \"mode\": \"immediate\", \"transition\": {\"duration\": 0, \"easing\": \"linear\"}}], \"label\": \"4\", \"method\": \"animate\"}, {\"args\": [[\"5\"], {\"frame\": {\"duration\": 0, \"redraw\": true}, \"fromcurrent\": true, \"mode\": \"immediate\", \"transition\": {\"duration\": 0, \"easing\": \"linear\"}}], \"label\": \"5\", \"method\": \"animate\"}, {\"args\": [[\"6\"], {\"frame\": {\"duration\": 0, \"redraw\": true}, \"fromcurrent\": true, \"mode\": \"immediate\", \"transition\": {\"duration\": 0, \"easing\": \"linear\"}}], \"label\": \"6\", \"method\": \"animate\"}, {\"args\": [[\"7\"], {\"frame\": {\"duration\": 0, \"redraw\": true}, \"fromcurrent\": true, \"mode\": \"immediate\", \"transition\": {\"duration\": 0, \"easing\": \"linear\"}}], \"label\": \"7\", \"method\": \"animate\"}, {\"args\": [[\"8\"], {\"frame\": {\"duration\": 0, \"redraw\": true}, \"fromcurrent\": true, \"mode\": \"immediate\", \"transition\": {\"duration\": 0, \"easing\": \"linear\"}}], \"label\": \"8\", \"method\": \"animate\"}, {\"args\": [[\"9\"], {\"frame\": {\"duration\": 0, \"redraw\": true}, \"fromcurrent\": true, \"mode\": \"immediate\", \"transition\": {\"duration\": 0, \"easing\": \"linear\"}}], \"label\": \"9\", \"method\": \"animate\"}, {\"args\": [[\"10\"], {\"frame\": {\"duration\": 0, \"redraw\": true}, \"fromcurrent\": true, \"mode\": \"immediate\", \"transition\": {\"duration\": 0, \"easing\": \"linear\"}}], \"label\": \"10\", \"method\": \"animate\"}, {\"args\": [[\"11\"], {\"frame\": {\"duration\": 0, \"redraw\": true}, \"fromcurrent\": true, \"mode\": \"immediate\", \"transition\": {\"duration\": 0, \"easing\": \"linear\"}}], \"label\": \"11\", \"method\": \"animate\"}, {\"args\": [[\"12\"], {\"frame\": {\"duration\": 0, \"redraw\": true}, \"fromcurrent\": true, \"mode\": \"immediate\", \"transition\": {\"duration\": 0, \"easing\": \"linear\"}}], \"label\": \"12\", \"method\": \"animate\"}], \"x\": 0.1, \"xanchor\": \"left\", \"y\": 0, \"yanchor\": \"top\"}], \"template\": {\"data\": {\"bar\": [{\"error_x\": {\"color\": \"#2a3f5f\"}, \"error_y\": {\"color\": \"#2a3f5f\"}, \"marker\": {\"line\": {\"color\": \"#E5ECF6\", \"width\": 0.5}}, \"type\": \"bar\"}], \"barpolar\": [{\"marker\": {\"line\": {\"color\": \"#E5ECF6\", \"width\": 0.5}}, \"type\": \"barpolar\"}], \"carpet\": [{\"aaxis\": {\"endlinecolor\": \"#2a3f5f\", \"gridcolor\": \"white\", \"linecolor\": \"white\", \"minorgridcolor\": \"white\", \"startlinecolor\": \"#2a3f5f\"}, \"baxis\": {\"endlinecolor\": \"#2a3f5f\", \"gridcolor\": \"white\", \"linecolor\": \"white\", \"minorgridcolor\": \"white\", \"startlinecolor\": \"#2a3f5f\"}, \"type\": \"carpet\"}], \"choropleth\": [{\"colorbar\": {\"outlinewidth\": 0, \"ticks\": \"\"}, \"type\": \"choropleth\"}], \"contour\": [{\"colorbar\": {\"outlinewidth\": 0, \"ticks\": \"\"}, \"colorscale\": [[0.0, \"#0d0887\"], [0.1111111111111111, \"#46039f\"], [0.2222222222222222, \"#7201a8\"], [0.3333333333333333, \"#9c179e\"], [0.4444444444444444, \"#bd3786\"], [0.5555555555555556, \"#d8576b\"], [0.6666666666666666, \"#ed7953\"], [0.7777777777777778, \"#fb9f3a\"], [0.8888888888888888, \"#fdca26\"], [1.0, \"#f0f921\"]], \"type\": \"contour\"}], \"contourcarpet\": [{\"colorbar\": {\"outlinewidth\": 0, \"ticks\": \"\"}, \"type\": \"contourcarpet\"}], \"heatmap\": [{\"colorbar\": {\"outlinewidth\": 0, \"ticks\": \"\"}, \"colorscale\": [[0.0, \"#0d0887\"], [0.1111111111111111, \"#46039f\"], [0.2222222222222222, \"#7201a8\"], [0.3333333333333333, \"#9c179e\"], [0.4444444444444444, \"#bd3786\"], [0.5555555555555556, \"#d8576b\"], [0.6666666666666666, \"#ed7953\"], [0.7777777777777778, \"#fb9f3a\"], [0.8888888888888888, \"#fdca26\"], [1.0, \"#f0f921\"]], \"type\": \"heatmap\"}], \"heatmapgl\": [{\"colorbar\": {\"outlinewidth\": 0, \"ticks\": \"\"}, \"colorscale\": [[0.0, \"#0d0887\"], [0.1111111111111111, \"#46039f\"], [0.2222222222222222, \"#7201a8\"], [0.3333333333333333, \"#9c179e\"], [0.4444444444444444, \"#bd3786\"], [0.5555555555555556, \"#d8576b\"], [0.6666666666666666, \"#ed7953\"], [0.7777777777777778, \"#fb9f3a\"], [0.8888888888888888, \"#fdca26\"], [1.0, \"#f0f921\"]], \"type\": \"heatmapgl\"}], \"histogram\": [{\"marker\": {\"colorbar\": {\"outlinewidth\": 0, \"ticks\": \"\"}}, \"type\": \"histogram\"}], \"histogram2d\": [{\"colorbar\": {\"outlinewidth\": 0, \"ticks\": \"\"}, \"colorscale\": [[0.0, \"#0d0887\"], [0.1111111111111111, \"#46039f\"], [0.2222222222222222, \"#7201a8\"], [0.3333333333333333, \"#9c179e\"], [0.4444444444444444, \"#bd3786\"], [0.5555555555555556, \"#d8576b\"], [0.6666666666666666, \"#ed7953\"], [0.7777777777777778, \"#fb9f3a\"], [0.8888888888888888, \"#fdca26\"], [1.0, \"#f0f921\"]], \"type\": \"histogram2d\"}], \"histogram2dcontour\": [{\"colorbar\": {\"outlinewidth\": 0, \"ticks\": \"\"}, \"colorscale\": [[0.0, \"#0d0887\"], [0.1111111111111111, \"#46039f\"], [0.2222222222222222, \"#7201a8\"], [0.3333333333333333, \"#9c179e\"], [0.4444444444444444, \"#bd3786\"], [0.5555555555555556, \"#d8576b\"], [0.6666666666666666, \"#ed7953\"], [0.7777777777777778, \"#fb9f3a\"], [0.8888888888888888, \"#fdca26\"], [1.0, \"#f0f921\"]], \"type\": \"histogram2dcontour\"}], \"mesh3d\": [{\"colorbar\": {\"outlinewidth\": 0, \"ticks\": \"\"}, \"type\": \"mesh3d\"}], \"parcoords\": [{\"line\": {\"colorbar\": {\"outlinewidth\": 0, \"ticks\": \"\"}}, \"type\": \"parcoords\"}], \"pie\": [{\"automargin\": true, \"type\": \"pie\"}], \"scatter\": [{\"marker\": {\"colorbar\": {\"outlinewidth\": 0, \"ticks\": \"\"}}, \"type\": \"scatter\"}], \"scatter3d\": [{\"line\": {\"colorbar\": {\"outlinewidth\": 0, \"ticks\": \"\"}}, \"marker\": {\"colorbar\": {\"outlinewidth\": 0, \"ticks\": \"\"}}, \"type\": \"scatter3d\"}], \"scattercarpet\": [{\"marker\": {\"colorbar\": {\"outlinewidth\": 0, \"ticks\": \"\"}}, \"type\": \"scattercarpet\"}], \"scattergeo\": [{\"marker\": {\"colorbar\": {\"outlinewidth\": 0, \"ticks\": \"\"}}, \"type\": \"scattergeo\"}], \"scattergl\": [{\"marker\": {\"colorbar\": {\"outlinewidth\": 0, \"ticks\": \"\"}}, \"type\": \"scattergl\"}], \"scattermapbox\": [{\"marker\": {\"colorbar\": {\"outlinewidth\": 0, \"ticks\": \"\"}}, \"type\": \"scattermapbox\"}], \"scatterpolar\": [{\"marker\": {\"colorbar\": {\"outlinewidth\": 0, \"ticks\": \"\"}}, \"type\": \"scatterpolar\"}], \"scatterpolargl\": [{\"marker\": {\"colorbar\": {\"outlinewidth\": 0, \"ticks\": \"\"}}, \"type\": \"scatterpolargl\"}], \"scatterternary\": [{\"marker\": {\"colorbar\": {\"outlinewidth\": 0, \"ticks\": \"\"}}, \"type\": \"scatterternary\"}], \"surface\": [{\"colorbar\": {\"outlinewidth\": 0, \"ticks\": \"\"}, \"colorscale\": [[0.0, \"#0d0887\"], [0.1111111111111111, \"#46039f\"], [0.2222222222222222, \"#7201a8\"], [0.3333333333333333, \"#9c179e\"], [0.4444444444444444, \"#bd3786\"], [0.5555555555555556, \"#d8576b\"], [0.6666666666666666, \"#ed7953\"], [0.7777777777777778, \"#fb9f3a\"], [0.8888888888888888, \"#fdca26\"], [1.0, \"#f0f921\"]], \"type\": \"surface\"}], \"table\": [{\"cells\": {\"fill\": {\"color\": \"#EBF0F8\"}, \"line\": {\"color\": \"white\"}}, \"header\": {\"fill\": {\"color\": \"#C8D4E3\"}, \"line\": {\"color\": \"white\"}}, \"type\": \"table\"}]}, \"layout\": {\"annotationdefaults\": {\"arrowcolor\": \"#2a3f5f\", \"arrowhead\": 0, \"arrowwidth\": 1}, \"coloraxis\": {\"colorbar\": {\"outlinewidth\": 0, \"ticks\": \"\"}}, \"colorscale\": {\"diverging\": [[0, \"#8e0152\"], [0.1, \"#c51b7d\"], [0.2, \"#de77ae\"], [0.3, \"#f1b6da\"], [0.4, \"#fde0ef\"], [0.5, \"#f7f7f7\"], [0.6, \"#e6f5d0\"], [0.7, \"#b8e186\"], [0.8, \"#7fbc41\"], [0.9, \"#4d9221\"], [1, \"#276419\"]], \"sequential\": [[0.0, \"#0d0887\"], [0.1111111111111111, \"#46039f\"], [0.2222222222222222, \"#7201a8\"], [0.3333333333333333, \"#9c179e\"], [0.4444444444444444, \"#bd3786\"], [0.5555555555555556, \"#d8576b\"], [0.6666666666666666, \"#ed7953\"], [0.7777777777777778, \"#fb9f3a\"], [0.8888888888888888, \"#fdca26\"], [1.0, \"#f0f921\"]], \"sequentialminus\": [[0.0, \"#0d0887\"], [0.1111111111111111, \"#46039f\"], [0.2222222222222222, \"#7201a8\"], [0.3333333333333333, \"#9c179e\"], [0.4444444444444444, \"#bd3786\"], [0.5555555555555556, \"#d8576b\"], [0.6666666666666666, \"#ed7953\"], [0.7777777777777778, \"#fb9f3a\"], [0.8888888888888888, \"#fdca26\"], [1.0, \"#f0f921\"]]}, \"colorway\": [\"#636efa\", \"#EF553B\", \"#00cc96\", \"#ab63fa\", \"#FFA15A\", \"#19d3f3\", \"#FF6692\", \"#B6E880\", \"#FF97FF\", \"#FECB52\"], \"font\": {\"color\": \"#2a3f5f\"}, \"geo\": {\"bgcolor\": \"white\", \"lakecolor\": \"white\", \"landcolor\": \"#E5ECF6\", \"showlakes\": true, \"showland\": true, \"subunitcolor\": \"white\"}, \"hoverlabel\": {\"align\": \"left\"}, \"hovermode\": \"closest\", \"mapbox\": {\"style\": \"light\"}, \"paper_bgcolor\": \"white\", \"plot_bgcolor\": \"#E5ECF6\", \"polar\": {\"angularaxis\": {\"gridcolor\": \"white\", \"linecolor\": \"white\", \"ticks\": \"\"}, \"bgcolor\": \"#E5ECF6\", \"radialaxis\": {\"gridcolor\": \"white\", \"linecolor\": \"white\", \"ticks\": \"\"}}, \"scene\": {\"xaxis\": {\"backgroundcolor\": \"#E5ECF6\", \"gridcolor\": \"white\", \"gridwidth\": 2, \"linecolor\": \"white\", \"showbackground\": true, \"ticks\": \"\", \"zerolinecolor\": \"white\"}, \"yaxis\": {\"backgroundcolor\": \"#E5ECF6\", \"gridcolor\": \"white\", \"gridwidth\": 2, \"linecolor\": \"white\", \"showbackground\": true, \"ticks\": \"\", \"zerolinecolor\": \"white\"}, \"zaxis\": {\"backgroundcolor\": \"#E5ECF6\", \"gridcolor\": \"white\", \"gridwidth\": 2, \"linecolor\": \"white\", \"showbackground\": true, \"ticks\": \"\", \"zerolinecolor\": \"white\"}}, \"shapedefaults\": {\"line\": {\"color\": \"#2a3f5f\"}}, \"ternary\": {\"aaxis\": {\"gridcolor\": \"white\", \"linecolor\": \"white\", \"ticks\": \"\"}, \"baxis\": {\"gridcolor\": \"white\", \"linecolor\": \"white\", \"ticks\": \"\"}, \"bgcolor\": \"#E5ECF6\", \"caxis\": {\"gridcolor\": \"white\", \"linecolor\": \"white\", \"ticks\": \"\"}}, \"title\": {\"x\": 0.05}, \"xaxis\": {\"automargin\": true, \"gridcolor\": \"white\", \"linecolor\": \"white\", \"ticks\": \"\", \"title\": {\"standoff\": 15}, \"zerolinecolor\": \"white\", \"zerolinewidth\": 2}, \"yaxis\": {\"automargin\": true, \"gridcolor\": \"white\", \"linecolor\": \"white\", \"ticks\": \"\", \"title\": {\"standoff\": 15}, \"zerolinecolor\": \"white\", \"zerolinewidth\": 2}}}, \"xaxis\": {\"anchor\": \"y\", \"domain\": [0.0, 1.0], \"title\": {\"text\": \"weekday\"}}, \"yaxis\": {\"anchor\": \"x\", \"domain\": [0.0, 1.0], \"title\": {\"text\": \"average_speed\"}}},\n",
              "                        {\"responsive\": true}\n",
              "                    ).then(function(){\n",
              "                            Plotly.addFrames('e91eb289-06c1-460d-871c-f53d77b41750', [{\"data\": [{\"alignmentgroup\": \"True\", \"hoverlabel\": {\"namelength\": 0}, \"hovertemplate\": \"month=1<br>weekday=%{x}<br>average_speed=%{marker.color}\", \"ids\": [\"Domingo\", \"Jueves\", \"Lunes\", \"Martes\", \"Miercoles\", \"Sabado\", \"Viernes\"], \"legendgroup\": \"\", \"marker\": {\"color\": [38.64023246334126, 33.6571191576676, 36.26261629264814, 36.02534944774496, 33.90534079425386, 34.68568386328585, 33.4595115567358], \"coloraxis\": \"coloraxis\"}, \"name\": \"\", \"offsetgroup\": \"\", \"orientation\": \"v\", \"showlegend\": false, \"textposition\": \"auto\", \"x\": [\"Domingo\", \"Jueves\", \"Lunes\", \"Martes\", \"Miercoles\", \"Sabado\", \"Viernes\"], \"xaxis\": \"x\", \"y\": [38.64023246334126, 33.6571191576676, 36.26261629264814, 36.02534944774496, 33.90534079425386, 34.68568386328585, 33.4595115567358], \"yaxis\": \"y\", \"type\": \"bar\"}], \"name\": \"1\"}, {\"data\": [{\"alignmentgroup\": \"True\", \"hoverlabel\": {\"namelength\": 0}, \"hovertemplate\": \"month=2<br>weekday=%{x}<br>average_speed=%{marker.color}\", \"ids\": [\"Domingo\", \"Jueves\", \"Lunes\", \"Martes\", \"Miercoles\", \"Sabado\", \"Viernes\"], \"legendgroup\": \"\", \"marker\": {\"color\": [37.38589019233543, 33.51842193514888, 33.93737505929911, 33.56967019836, 33.24891247582467, 32.48511373790828, 32.3030510273891], \"coloraxis\": \"coloraxis\"}, \"name\": \"\", \"offsetgroup\": \"\", \"orientation\": \"v\", \"showlegend\": false, \"textposition\": \"auto\", \"x\": [\"Domingo\", \"Jueves\", \"Lunes\", \"Martes\", \"Miercoles\", \"Sabado\", \"Viernes\"], \"xaxis\": \"x\", \"y\": [37.38589019233543, 33.51842193514888, 33.93737505929911, 33.56967019836, 33.24891247582467, 32.48511373790828, 32.3030510273891], \"yaxis\": \"y\", \"type\": \"bar\"}], \"name\": \"2\"}, {\"data\": [{\"alignmentgroup\": \"True\", \"hoverlabel\": {\"namelength\": 0}, \"hovertemplate\": \"month=3<br>weekday=%{x}<br>average_speed=%{marker.color}\", \"ids\": [\"Domingo\", \"Jueves\", \"Lunes\", \"Martes\", \"Miercoles\", \"Sabado\", \"Viernes\"], \"legendgroup\": \"\", \"marker\": {\"color\": [36.84072575850646, 33.844381819503, 35.23770629925061, 33.33159841872002, 33.13151542814044, 32.38993549738747, 32.98347308785569], \"coloraxis\": \"coloraxis\"}, \"name\": \"\", \"offsetgroup\": \"\", \"orientation\": \"v\", \"showlegend\": false, \"textposition\": \"auto\", \"x\": [\"Domingo\", \"Jueves\", \"Lunes\", \"Martes\", \"Miercoles\", \"Sabado\", \"Viernes\"], \"xaxis\": \"x\", \"y\": [36.84072575850646, 33.844381819503, 35.23770629925061, 33.33159841872002, 33.13151542814044, 32.38993549738747, 32.98347308785569], \"yaxis\": \"y\", \"type\": \"bar\"}], \"name\": \"3\"}, {\"data\": [{\"alignmentgroup\": \"True\", \"hoverlabel\": {\"namelength\": 0}, \"hovertemplate\": \"month=4<br>weekday=%{x}<br>average_speed=%{marker.color}\", \"ids\": [\"Domingo\", \"Jueves\", \"Lunes\", \"Martes\", \"Miercoles\", \"Sabado\", \"Viernes\"], \"legendgroup\": \"\", \"marker\": {\"color\": [36.873000599174965, 32.23863521494159, 33.58042636399846, 32.138464921687486, 32.17258372482796, 31.582468788188766, 32.00372408219548], \"coloraxis\": \"coloraxis\"}, \"name\": \"\", \"offsetgroup\": \"\", \"orientation\": \"v\", \"showlegend\": false, \"textposition\": \"auto\", \"x\": [\"Domingo\", \"Jueves\", \"Lunes\", \"Martes\", \"Miercoles\", \"Sabado\", \"Viernes\"], \"xaxis\": \"x\", \"y\": [36.873000599174965, 32.23863521494159, 33.58042636399846, 32.138464921687486, 32.17258372482796, 31.582468788188766, 32.00372408219548], \"yaxis\": \"y\", \"type\": \"bar\"}], \"name\": \"4\"}, {\"data\": [{\"alignmentgroup\": \"True\", \"hoverlabel\": {\"namelength\": 0}, \"hovertemplate\": \"month=5<br>weekday=%{x}<br>average_speed=%{marker.color}\", \"ids\": [\"Domingo\", \"Jueves\", \"Lunes\", \"Martes\", \"Miercoles\", \"Sabado\", \"Viernes\"], \"legendgroup\": \"\", \"marker\": {\"color\": [35.226441798824666, 31.581781944292658, 33.276574155269884, 33.02230390230853, 32.64167758236719, 30.677302930755378, 30.45364074755953], \"coloraxis\": \"coloraxis\"}, \"name\": \"\", \"offsetgroup\": \"\", \"orientation\": \"v\", \"showlegend\": false, \"textposition\": \"auto\", \"x\": [\"Domingo\", \"Jueves\", \"Lunes\", \"Martes\", \"Miercoles\", \"Sabado\", \"Viernes\"], \"xaxis\": \"x\", \"y\": [35.226441798824666, 31.581781944292658, 33.276574155269884, 33.02230390230853, 32.64167758236719, 30.677302930755378, 30.45364074755953], \"yaxis\": \"y\", \"type\": \"bar\"}], \"name\": \"5\"}, {\"data\": [{\"alignmentgroup\": \"True\", \"hoverlabel\": {\"namelength\": 0}, \"hovertemplate\": \"month=6<br>weekday=%{x}<br>average_speed=%{marker.color}\", \"ids\": [\"Domingo\", \"Jueves\", \"Lunes\", \"Martes\", \"Miercoles\", \"Sabado\", \"Viernes\"], \"legendgroup\": \"\", \"marker\": {\"color\": [37.90521838353037, 33.231624581555195, 37.133925481468, 33.52385598284681, 33.07209340991236, 32.9506730462279, 32.250536840988275], \"coloraxis\": \"coloraxis\"}, \"name\": \"\", \"offsetgroup\": \"\", \"orientation\": \"v\", \"showlegend\": false, \"textposition\": \"auto\", \"x\": [\"Domingo\", \"Jueves\", \"Lunes\", \"Martes\", \"Miercoles\", \"Sabado\", \"Viernes\"], \"xaxis\": \"x\", \"y\": [37.90521838353037, 33.231624581555195, 37.133925481468, 33.52385598284681, 33.07209340991236, 32.9506730462279, 32.250536840988275], \"yaxis\": \"y\", \"type\": \"bar\"}], \"name\": \"6\"}, {\"data\": [{\"alignmentgroup\": \"True\", \"hoverlabel\": {\"namelength\": 0}, \"hovertemplate\": \"month=7<br>weekday=%{x}<br>average_speed=%{marker.color}\", \"ids\": [\"Domingo\", \"Jueves\", \"Lunes\", \"Martes\", \"Miercoles\", \"Sabado\", \"Viernes\"], \"legendgroup\": \"\", \"marker\": {\"color\": [38.00760343623785, 32.65797823086862, 36.88458080026091, 34.24782166691046, 33.36766055921056, 33.035698141452116, 33.58121474803048], \"coloraxis\": \"coloraxis\"}, \"name\": \"\", \"offsetgroup\": \"\", \"orientation\": \"v\", \"showlegend\": false, \"textposition\": \"auto\", \"x\": [\"Domingo\", \"Jueves\", \"Lunes\", \"Martes\", \"Miercoles\", \"Sabado\", \"Viernes\"], \"xaxis\": \"x\", \"y\": [38.00760343623785, 32.65797823086862, 36.88458080026091, 34.24782166691046, 33.36766055921056, 33.035698141452116, 33.58121474803048], \"yaxis\": \"y\", \"type\": \"bar\"}], \"name\": \"7\"}, {\"data\": [{\"alignmentgroup\": \"True\", \"hoverlabel\": {\"namelength\": 0}, \"hovertemplate\": \"month=8<br>weekday=%{x}<br>average_speed=%{marker.color}\", \"ids\": [\"Domingo\", \"Jueves\", \"Lunes\", \"Martes\", \"Miercoles\", \"Sabado\", \"Viernes\"], \"legendgroup\": \"\", \"marker\": {\"color\": [37.62789398589058, 32.71433550517779, 34.81252257336403, 32.713323740399986, 33.39732262512479, 31.862017039331246, 31.729074162139423], \"coloraxis\": \"coloraxis\"}, \"name\": \"\", \"offsetgroup\": \"\", \"orientation\": \"v\", \"showlegend\": false, \"textposition\": \"auto\", \"x\": [\"Domingo\", \"Jueves\", \"Lunes\", \"Martes\", \"Miercoles\", \"Sabado\", \"Viernes\"], \"xaxis\": \"x\", \"y\": [37.62789398589058, 32.71433550517779, 34.81252257336403, 32.713323740399986, 33.39732262512479, 31.862017039331246, 31.729074162139423], \"yaxis\": \"y\", \"type\": \"bar\"}], \"name\": \"8\"}, {\"data\": [{\"alignmentgroup\": \"True\", \"hoverlabel\": {\"namelength\": 0}, \"hovertemplate\": \"month=9<br>weekday=%{x}<br>average_speed=%{marker.color}\", \"ids\": [\"Domingo\", \"Jueves\", \"Lunes\", \"Martes\", \"Miercoles\", \"Sabado\", \"Viernes\"], \"legendgroup\": \"\", \"marker\": {\"color\": [36.56190445519007, 32.362790268285984, 34.17617472447701, 33.505585421689176, 32.392508866438895, 31.896751488394838, 31.375039776782234], \"coloraxis\": \"coloraxis\"}, \"name\": \"\", \"offsetgroup\": \"\", \"orientation\": \"v\", \"showlegend\": false, \"textposition\": \"auto\", \"x\": [\"Domingo\", \"Jueves\", \"Lunes\", \"Martes\", \"Miercoles\", \"Sabado\", \"Viernes\"], \"xaxis\": \"x\", \"y\": [36.56190445519007, 32.362790268285984, 34.17617472447701, 33.505585421689176, 32.392508866438895, 31.896751488394838, 31.375039776782234], \"yaxis\": \"y\", \"type\": \"bar\"}], \"name\": \"9\"}, {\"data\": [{\"alignmentgroup\": \"True\", \"hoverlabel\": {\"namelength\": 0}, \"hovertemplate\": \"month=10<br>weekday=%{x}<br>average_speed=%{marker.color}\", \"ids\": [\"Domingo\", \"Jueves\", \"Lunes\", \"Martes\", \"Miercoles\", \"Sabado\", \"Viernes\"], \"legendgroup\": \"\", \"marker\": {\"color\": [36.77558020481963, 32.10328244280324, 34.44216167873801, 33.02990453903329, 32.364812375317854, 31.679622082534536, 31.15411842719444], \"coloraxis\": \"coloraxis\"}, \"name\": \"\", \"offsetgroup\": \"\", \"orientation\": \"v\", \"showlegend\": false, \"textposition\": \"auto\", \"x\": [\"Domingo\", \"Jueves\", \"Lunes\", \"Martes\", \"Miercoles\", \"Sabado\", \"Viernes\"], \"xaxis\": \"x\", \"y\": [36.77558020481963, 32.10328244280324, 34.44216167873801, 33.02990453903329, 32.364812375317854, 31.679622082534536, 31.15411842719444], \"yaxis\": \"y\", \"type\": \"bar\"}], \"name\": \"10\"}, {\"data\": [{\"alignmentgroup\": \"True\", \"hoverlabel\": {\"namelength\": 0}, \"hovertemplate\": \"month=11<br>weekday=%{x}<br>average_speed=%{marker.color}\", \"ids\": [\"Domingo\", \"Jueves\", \"Lunes\", \"Martes\", \"Miercoles\", \"Sabado\", \"Viernes\"], \"legendgroup\": \"\", \"marker\": {\"color\": [35.88721120773386, 32.82196273560618, 34.38154873113696, 31.631357790050313, 32.500107014937974, 30.866660759873024, 31.02635567594541], \"coloraxis\": \"coloraxis\"}, \"name\": \"\", \"offsetgroup\": \"\", \"orientation\": \"v\", \"showlegend\": false, \"textposition\": \"auto\", \"x\": [\"Domingo\", \"Jueves\", \"Lunes\", \"Martes\", \"Miercoles\", \"Sabado\", \"Viernes\"], \"xaxis\": \"x\", \"y\": [35.88721120773386, 32.82196273560618, 34.38154873113696, 31.631357790050313, 32.500107014937974, 30.866660759873024, 31.02635567594541], \"yaxis\": \"y\", \"type\": \"bar\"}], \"name\": \"11\"}, {\"data\": [{\"alignmentgroup\": \"True\", \"hoverlabel\": {\"namelength\": 0}, \"hovertemplate\": \"month=12<br>weekday=%{x}<br>average_speed=%{marker.color}\", \"ids\": [\"Domingo\", \"Jueves\", \"Lunes\", \"Martes\", \"Miercoles\", \"Sabado\", \"Viernes\"], \"legendgroup\": \"\", \"marker\": {\"color\": [34.546189524276556, 31.124136398350625, 32.899423818333595, 33.003656279045785, 32.4709639169252, 30.93386893821127, 30.44261972849151], \"coloraxis\": \"coloraxis\"}, \"name\": \"\", \"offsetgroup\": \"\", \"orientation\": \"v\", \"showlegend\": false, \"textposition\": \"auto\", \"x\": [\"Domingo\", \"Jueves\", \"Lunes\", \"Martes\", \"Miercoles\", \"Sabado\", \"Viernes\"], \"xaxis\": \"x\", \"y\": [34.546189524276556, 31.124136398350625, 32.899423818333595, 33.003656279045785, 32.4709639169252, 30.93386893821127, 30.44261972849151], \"yaxis\": \"y\", \"type\": \"bar\"}], \"name\": \"12\"}]);\n",
              "                        }).then(function(){\n",
              "                            \n",
              "var gd = document.getElementById('e91eb289-06c1-460d-871c-f53d77b41750');\n",
              "var x = new MutationObserver(function (mutations, observer) {{\n",
              "        var display = window.getComputedStyle(gd).display;\n",
              "        if (!display || display === 'none') {{\n",
              "            console.log([gd, 'removed!']);\n",
              "            Plotly.purge(gd);\n",
              "            observer.disconnect();\n",
              "        }}\n",
              "}});\n",
              "\n",
              "// Listen for the removal of the full notebook cells\n",
              "var notebookContainer = gd.closest('#notebook-container');\n",
              "if (notebookContainer) {{\n",
              "    x.observe(notebookContainer, {childList: true});\n",
              "}}\n",
              "\n",
              "// Listen for the clearing of the current output cell\n",
              "var outputEl = gd.closest('.output');\n",
              "if (outputEl) {{\n",
              "    x.observe(outputEl, {childList: true});\n",
              "}}\n",
              "\n",
              "                        })\n",
              "                };\n",
              "                \n",
              "            </script>\n",
              "        </div>\n",
              "</body>\n",
              "</html>"
            ]
          },
          "metadata": {
            "tags": []
          }
        }
      ]
    },
    {
      "cell_type": "markdown",
      "metadata": {
        "id": "v1YwxwPPf7Qx"
      },
      "source": [
        "### *Average speed per hour of the day*"
      ]
    },
    {
      "cell_type": "code",
      "metadata": {
        "id": "omQVHBi7XGsx",
        "outputId": "f3e79a65-165b-403d-f0d9-8fd22170fb26",
        "colab": {
          "base_uri": "https://localhost:8080/",
          "height": 542
        }
      },
      "source": [
        "avg_velocity_per_hour_CL80 = df_CL80[['month','average_speed','hour']].groupby(['month','hour']).mean().reset_index()\n",
        "fig = px.bar(avg_velocity_per_hour_CL80, x=\"hour\", y=\"average_speed\", animation_frame=\"month\", animation_group=\"hour\",color=\"average_speed\",color_continuous_scale=px.colors.sequential.RdBu)\n",
        "fig[\"layout\"].pop(\"updatemenus\") # optional, drop animation buttons\n",
        "fig.show()"
      ],
      "execution_count": null,
      "outputs": [
        {
          "output_type": "display_data",
          "data": {
            "text/html": [
              "<html>\n",
              "<head><meta charset=\"utf-8\" /></head>\n",
              "<body>\n",
              "    <div>\n",
              "            <script src=\"https://cdnjs.cloudflare.com/ajax/libs/mathjax/2.7.5/MathJax.js?config=TeX-AMS-MML_SVG\"></script><script type=\"text/javascript\">if (window.MathJax) {MathJax.Hub.Config({SVG: {font: \"STIX-Web\"}});}</script>\n",
              "                <script type=\"text/javascript\">window.PlotlyConfig = {MathJaxConfig: 'local'};</script>\n",
              "        <script src=\"https://cdn.plot.ly/plotly-latest.min.js\"></script>    \n",
              "            <div id=\"bd8ed012-2c73-4a3d-843b-e412034a0e89\" class=\"plotly-graph-div\" style=\"height:525px; width:100%;\"></div>\n",
              "            <script type=\"text/javascript\">\n",
              "                \n",
              "                    window.PLOTLYENV=window.PLOTLYENV || {};\n",
              "                    \n",
              "                if (document.getElementById(\"bd8ed012-2c73-4a3d-843b-e412034a0e89\")) {\n",
              "                    Plotly.newPlot(\n",
              "                        'bd8ed012-2c73-4a3d-843b-e412034a0e89',\n",
              "                        [{\"alignmentgroup\": \"True\", \"hoverlabel\": {\"namelength\": 0}, \"hovertemplate\": \"month=1<br>hour=%{x}<br>average_speed=%{marker.color}\", \"ids\": [0, 1, 2, 3, 4, 5, 6, 7, 8, 9, 10, 11, 12, 13, 14, 15, 16, 17, 18, 19, 20, 21, 22, 23], \"legendgroup\": \"\", \"marker\": {\"color\": [49.26464359726948, 52.10503834281323, 54.01285509078122, 55.4649442391229, 54.24602359343922, 42.87513703283177, 32.18878432827178, 29.83178705787792, 30.34031871918125, 28.644335019073257, 27.122156370288774, 26.345528380552754, 26.108005028592718, 25.944551366652345, 25.90306386811842, 27.034508585108764, 26.982575077145512, 25.73828530854328, 25.197006185334587, 27.654084287692545, 29.344604461175557, 32.939873511254476, 37.55277530411222, 43.895985013035386], \"coloraxis\": \"coloraxis\"}, \"name\": \"\", \"offsetgroup\": \"\", \"orientation\": \"v\", \"showlegend\": false, \"textposition\": \"auto\", \"type\": \"bar\", \"x\": [0, 1, 2, 3, 4, 5, 6, 7, 8, 9, 10, 11, 12, 13, 14, 15, 16, 17, 18, 19, 20, 21, 22, 23], \"xaxis\": \"x\", \"y\": [49.26464359726948, 52.10503834281323, 54.01285509078122, 55.4649442391229, 54.24602359343922, 42.87513703283177, 32.18878432827178, 29.83178705787792, 30.34031871918125, 28.644335019073257, 27.122156370288774, 26.345528380552754, 26.108005028592718, 25.944551366652345, 25.90306386811842, 27.034508585108764, 26.982575077145512, 25.73828530854328, 25.197006185334587, 27.654084287692545, 29.344604461175557, 32.939873511254476, 37.55277530411222, 43.895985013035386], \"yaxis\": \"y\"}],\n",
              "                        {\"barmode\": \"relative\", \"coloraxis\": {\"colorbar\": {\"title\": {\"text\": \"average_speed\"}}, \"colorscale\": [[0.0, \"rgb(103,0,31)\"], [0.1, \"rgb(178,24,43)\"], [0.2, \"rgb(214,96,77)\"], [0.3, \"rgb(244,165,130)\"], [0.4, \"rgb(253,219,199)\"], [0.5, \"rgb(247,247,247)\"], [0.6, \"rgb(209,229,240)\"], [0.7, \"rgb(146,197,222)\"], [0.8, \"rgb(67,147,195)\"], [0.9, \"rgb(33,102,172)\"], [1.0, \"rgb(5,48,97)\"]]}, \"legend\": {\"tracegroupgap\": 0}, \"margin\": {\"t\": 60}, \"sliders\": [{\"active\": 0, \"currentvalue\": {\"prefix\": \"month=\"}, \"len\": 0.9, \"pad\": {\"b\": 10, \"t\": 60}, \"steps\": [{\"args\": [[\"1\"], {\"frame\": {\"duration\": 0, \"redraw\": true}, \"fromcurrent\": true, \"mode\": \"immediate\", \"transition\": {\"duration\": 0, \"easing\": \"linear\"}}], \"label\": \"1\", \"method\": \"animate\"}, {\"args\": [[\"2\"], {\"frame\": {\"duration\": 0, \"redraw\": true}, \"fromcurrent\": true, \"mode\": \"immediate\", \"transition\": {\"duration\": 0, \"easing\": \"linear\"}}], \"label\": \"2\", \"method\": \"animate\"}, {\"args\": [[\"3\"], {\"frame\": {\"duration\": 0, \"redraw\": true}, \"fromcurrent\": true, \"mode\": \"immediate\", \"transition\": {\"duration\": 0, \"easing\": \"linear\"}}], \"label\": \"3\", \"method\": \"animate\"}, {\"args\": [[\"4\"], {\"frame\": {\"duration\": 0, \"redraw\": true}, \"fromcurrent\": true, \"mode\": \"immediate\", \"transition\": {\"duration\": 0, \"easing\": \"linear\"}}], \"label\": \"4\", \"method\": \"animate\"}, {\"args\": [[\"5\"], {\"frame\": {\"duration\": 0, \"redraw\": true}, \"fromcurrent\": true, \"mode\": \"immediate\", \"transition\": {\"duration\": 0, \"easing\": \"linear\"}}], \"label\": \"5\", \"method\": \"animate\"}, {\"args\": [[\"6\"], {\"frame\": {\"duration\": 0, \"redraw\": true}, \"fromcurrent\": true, \"mode\": \"immediate\", \"transition\": {\"duration\": 0, \"easing\": \"linear\"}}], \"label\": \"6\", \"method\": \"animate\"}, {\"args\": [[\"7\"], {\"frame\": {\"duration\": 0, \"redraw\": true}, \"fromcurrent\": true, \"mode\": \"immediate\", \"transition\": {\"duration\": 0, \"easing\": \"linear\"}}], \"label\": \"7\", \"method\": \"animate\"}, {\"args\": [[\"8\"], {\"frame\": {\"duration\": 0, \"redraw\": true}, \"fromcurrent\": true, \"mode\": \"immediate\", \"transition\": {\"duration\": 0, \"easing\": \"linear\"}}], \"label\": \"8\", \"method\": \"animate\"}, {\"args\": [[\"9\"], {\"frame\": {\"duration\": 0, \"redraw\": true}, \"fromcurrent\": true, \"mode\": \"immediate\", \"transition\": {\"duration\": 0, \"easing\": \"linear\"}}], \"label\": \"9\", \"method\": \"animate\"}, {\"args\": [[\"10\"], {\"frame\": {\"duration\": 0, \"redraw\": true}, \"fromcurrent\": true, \"mode\": \"immediate\", \"transition\": {\"duration\": 0, \"easing\": \"linear\"}}], \"label\": \"10\", \"method\": \"animate\"}, {\"args\": [[\"11\"], {\"frame\": {\"duration\": 0, \"redraw\": true}, \"fromcurrent\": true, \"mode\": \"immediate\", \"transition\": {\"duration\": 0, \"easing\": \"linear\"}}], \"label\": \"11\", \"method\": \"animate\"}, {\"args\": [[\"12\"], {\"frame\": {\"duration\": 0, \"redraw\": true}, \"fromcurrent\": true, \"mode\": \"immediate\", \"transition\": {\"duration\": 0, \"easing\": \"linear\"}}], \"label\": \"12\", \"method\": \"animate\"}], \"x\": 0.1, \"xanchor\": \"left\", \"y\": 0, \"yanchor\": \"top\"}], \"template\": {\"data\": {\"bar\": [{\"error_x\": {\"color\": \"#2a3f5f\"}, \"error_y\": {\"color\": \"#2a3f5f\"}, \"marker\": {\"line\": {\"color\": \"#E5ECF6\", \"width\": 0.5}}, \"type\": \"bar\"}], \"barpolar\": [{\"marker\": {\"line\": {\"color\": \"#E5ECF6\", \"width\": 0.5}}, \"type\": \"barpolar\"}], \"carpet\": [{\"aaxis\": {\"endlinecolor\": \"#2a3f5f\", \"gridcolor\": \"white\", \"linecolor\": \"white\", \"minorgridcolor\": \"white\", \"startlinecolor\": \"#2a3f5f\"}, \"baxis\": {\"endlinecolor\": \"#2a3f5f\", \"gridcolor\": \"white\", \"linecolor\": \"white\", \"minorgridcolor\": \"white\", \"startlinecolor\": \"#2a3f5f\"}, \"type\": \"carpet\"}], \"choropleth\": [{\"colorbar\": {\"outlinewidth\": 0, \"ticks\": \"\"}, \"type\": \"choropleth\"}], \"contour\": [{\"colorbar\": {\"outlinewidth\": 0, \"ticks\": \"\"}, \"colorscale\": [[0.0, \"#0d0887\"], [0.1111111111111111, \"#46039f\"], [0.2222222222222222, \"#7201a8\"], [0.3333333333333333, \"#9c179e\"], [0.4444444444444444, \"#bd3786\"], [0.5555555555555556, \"#d8576b\"], [0.6666666666666666, \"#ed7953\"], [0.7777777777777778, \"#fb9f3a\"], [0.8888888888888888, \"#fdca26\"], [1.0, \"#f0f921\"]], \"type\": \"contour\"}], \"contourcarpet\": [{\"colorbar\": {\"outlinewidth\": 0, \"ticks\": \"\"}, \"type\": \"contourcarpet\"}], \"heatmap\": [{\"colorbar\": {\"outlinewidth\": 0, \"ticks\": \"\"}, \"colorscale\": [[0.0, \"#0d0887\"], [0.1111111111111111, \"#46039f\"], [0.2222222222222222, \"#7201a8\"], [0.3333333333333333, \"#9c179e\"], [0.4444444444444444, \"#bd3786\"], [0.5555555555555556, \"#d8576b\"], [0.6666666666666666, \"#ed7953\"], [0.7777777777777778, \"#fb9f3a\"], [0.8888888888888888, \"#fdca26\"], [1.0, \"#f0f921\"]], \"type\": \"heatmap\"}], \"heatmapgl\": [{\"colorbar\": {\"outlinewidth\": 0, \"ticks\": \"\"}, \"colorscale\": [[0.0, \"#0d0887\"], [0.1111111111111111, \"#46039f\"], [0.2222222222222222, \"#7201a8\"], [0.3333333333333333, \"#9c179e\"], [0.4444444444444444, \"#bd3786\"], [0.5555555555555556, \"#d8576b\"], [0.6666666666666666, \"#ed7953\"], [0.7777777777777778, \"#fb9f3a\"], [0.8888888888888888, \"#fdca26\"], [1.0, \"#f0f921\"]], \"type\": \"heatmapgl\"}], \"histogram\": [{\"marker\": {\"colorbar\": {\"outlinewidth\": 0, \"ticks\": \"\"}}, \"type\": \"histogram\"}], \"histogram2d\": [{\"colorbar\": {\"outlinewidth\": 0, \"ticks\": \"\"}, \"colorscale\": [[0.0, \"#0d0887\"], [0.1111111111111111, \"#46039f\"], [0.2222222222222222, \"#7201a8\"], [0.3333333333333333, \"#9c179e\"], [0.4444444444444444, \"#bd3786\"], [0.5555555555555556, \"#d8576b\"], [0.6666666666666666, \"#ed7953\"], [0.7777777777777778, \"#fb9f3a\"], [0.8888888888888888, \"#fdca26\"], [1.0, \"#f0f921\"]], \"type\": \"histogram2d\"}], \"histogram2dcontour\": [{\"colorbar\": {\"outlinewidth\": 0, \"ticks\": \"\"}, \"colorscale\": [[0.0, \"#0d0887\"], [0.1111111111111111, \"#46039f\"], [0.2222222222222222, \"#7201a8\"], [0.3333333333333333, \"#9c179e\"], [0.4444444444444444, \"#bd3786\"], [0.5555555555555556, \"#d8576b\"], [0.6666666666666666, \"#ed7953\"], [0.7777777777777778, \"#fb9f3a\"], [0.8888888888888888, \"#fdca26\"], [1.0, \"#f0f921\"]], \"type\": \"histogram2dcontour\"}], \"mesh3d\": [{\"colorbar\": {\"outlinewidth\": 0, \"ticks\": \"\"}, \"type\": \"mesh3d\"}], \"parcoords\": [{\"line\": {\"colorbar\": {\"outlinewidth\": 0, \"ticks\": \"\"}}, \"type\": \"parcoords\"}], \"pie\": [{\"automargin\": true, \"type\": \"pie\"}], \"scatter\": [{\"marker\": {\"colorbar\": {\"outlinewidth\": 0, \"ticks\": \"\"}}, \"type\": \"scatter\"}], \"scatter3d\": [{\"line\": {\"colorbar\": {\"outlinewidth\": 0, \"ticks\": \"\"}}, \"marker\": {\"colorbar\": {\"outlinewidth\": 0, \"ticks\": \"\"}}, \"type\": \"scatter3d\"}], \"scattercarpet\": [{\"marker\": {\"colorbar\": {\"outlinewidth\": 0, \"ticks\": \"\"}}, \"type\": \"scattercarpet\"}], \"scattergeo\": [{\"marker\": {\"colorbar\": {\"outlinewidth\": 0, \"ticks\": \"\"}}, \"type\": \"scattergeo\"}], \"scattergl\": [{\"marker\": {\"colorbar\": {\"outlinewidth\": 0, \"ticks\": \"\"}}, \"type\": \"scattergl\"}], \"scattermapbox\": [{\"marker\": {\"colorbar\": {\"outlinewidth\": 0, \"ticks\": \"\"}}, \"type\": \"scattermapbox\"}], \"scatterpolar\": [{\"marker\": {\"colorbar\": {\"outlinewidth\": 0, \"ticks\": \"\"}}, \"type\": \"scatterpolar\"}], \"scatterpolargl\": [{\"marker\": {\"colorbar\": {\"outlinewidth\": 0, \"ticks\": \"\"}}, \"type\": \"scatterpolargl\"}], \"scatterternary\": [{\"marker\": {\"colorbar\": {\"outlinewidth\": 0, \"ticks\": \"\"}}, \"type\": \"scatterternary\"}], \"surface\": [{\"colorbar\": {\"outlinewidth\": 0, \"ticks\": \"\"}, \"colorscale\": [[0.0, \"#0d0887\"], [0.1111111111111111, \"#46039f\"], [0.2222222222222222, \"#7201a8\"], [0.3333333333333333, \"#9c179e\"], [0.4444444444444444, \"#bd3786\"], [0.5555555555555556, \"#d8576b\"], [0.6666666666666666, \"#ed7953\"], [0.7777777777777778, \"#fb9f3a\"], [0.8888888888888888, \"#fdca26\"], [1.0, \"#f0f921\"]], \"type\": \"surface\"}], \"table\": [{\"cells\": {\"fill\": {\"color\": \"#EBF0F8\"}, \"line\": {\"color\": \"white\"}}, \"header\": {\"fill\": {\"color\": \"#C8D4E3\"}, \"line\": {\"color\": \"white\"}}, \"type\": \"table\"}]}, \"layout\": {\"annotationdefaults\": {\"arrowcolor\": \"#2a3f5f\", \"arrowhead\": 0, \"arrowwidth\": 1}, \"coloraxis\": {\"colorbar\": {\"outlinewidth\": 0, \"ticks\": \"\"}}, \"colorscale\": {\"diverging\": [[0, \"#8e0152\"], [0.1, \"#c51b7d\"], [0.2, \"#de77ae\"], [0.3, \"#f1b6da\"], [0.4, \"#fde0ef\"], [0.5, \"#f7f7f7\"], [0.6, \"#e6f5d0\"], [0.7, \"#b8e186\"], [0.8, \"#7fbc41\"], [0.9, \"#4d9221\"], [1, \"#276419\"]], \"sequential\": [[0.0, \"#0d0887\"], [0.1111111111111111, \"#46039f\"], [0.2222222222222222, \"#7201a8\"], [0.3333333333333333, \"#9c179e\"], [0.4444444444444444, \"#bd3786\"], [0.5555555555555556, \"#d8576b\"], [0.6666666666666666, \"#ed7953\"], [0.7777777777777778, \"#fb9f3a\"], [0.8888888888888888, \"#fdca26\"], [1.0, \"#f0f921\"]], \"sequentialminus\": [[0.0, \"#0d0887\"], [0.1111111111111111, \"#46039f\"], [0.2222222222222222, \"#7201a8\"], [0.3333333333333333, \"#9c179e\"], [0.4444444444444444, \"#bd3786\"], [0.5555555555555556, \"#d8576b\"], [0.6666666666666666, \"#ed7953\"], [0.7777777777777778, \"#fb9f3a\"], [0.8888888888888888, \"#fdca26\"], [1.0, \"#f0f921\"]]}, \"colorway\": [\"#636efa\", \"#EF553B\", \"#00cc96\", \"#ab63fa\", \"#FFA15A\", \"#19d3f3\", \"#FF6692\", \"#B6E880\", \"#FF97FF\", \"#FECB52\"], \"font\": {\"color\": \"#2a3f5f\"}, \"geo\": {\"bgcolor\": \"white\", \"lakecolor\": \"white\", \"landcolor\": \"#E5ECF6\", \"showlakes\": true, \"showland\": true, \"subunitcolor\": \"white\"}, \"hoverlabel\": {\"align\": \"left\"}, \"hovermode\": \"closest\", \"mapbox\": {\"style\": \"light\"}, \"paper_bgcolor\": \"white\", \"plot_bgcolor\": \"#E5ECF6\", \"polar\": {\"angularaxis\": {\"gridcolor\": \"white\", \"linecolor\": \"white\", \"ticks\": \"\"}, \"bgcolor\": \"#E5ECF6\", \"radialaxis\": {\"gridcolor\": \"white\", \"linecolor\": \"white\", \"ticks\": \"\"}}, \"scene\": {\"xaxis\": {\"backgroundcolor\": \"#E5ECF6\", \"gridcolor\": \"white\", \"gridwidth\": 2, \"linecolor\": \"white\", \"showbackground\": true, \"ticks\": \"\", \"zerolinecolor\": \"white\"}, \"yaxis\": {\"backgroundcolor\": \"#E5ECF6\", \"gridcolor\": \"white\", \"gridwidth\": 2, \"linecolor\": \"white\", \"showbackground\": true, \"ticks\": \"\", \"zerolinecolor\": \"white\"}, \"zaxis\": {\"backgroundcolor\": \"#E5ECF6\", \"gridcolor\": \"white\", \"gridwidth\": 2, \"linecolor\": \"white\", \"showbackground\": true, \"ticks\": \"\", \"zerolinecolor\": \"white\"}}, \"shapedefaults\": {\"line\": {\"color\": \"#2a3f5f\"}}, \"ternary\": {\"aaxis\": {\"gridcolor\": \"white\", \"linecolor\": \"white\", \"ticks\": \"\"}, \"baxis\": {\"gridcolor\": \"white\", \"linecolor\": \"white\", \"ticks\": \"\"}, \"bgcolor\": \"#E5ECF6\", \"caxis\": {\"gridcolor\": \"white\", \"linecolor\": \"white\", \"ticks\": \"\"}}, \"title\": {\"x\": 0.05}, \"xaxis\": {\"automargin\": true, \"gridcolor\": \"white\", \"linecolor\": \"white\", \"ticks\": \"\", \"title\": {\"standoff\": 15}, \"zerolinecolor\": \"white\", \"zerolinewidth\": 2}, \"yaxis\": {\"automargin\": true, \"gridcolor\": \"white\", \"linecolor\": \"white\", \"ticks\": \"\", \"title\": {\"standoff\": 15}, \"zerolinecolor\": \"white\", \"zerolinewidth\": 2}}}, \"xaxis\": {\"anchor\": \"y\", \"domain\": [0.0, 1.0], \"title\": {\"text\": \"hour\"}}, \"yaxis\": {\"anchor\": \"x\", \"domain\": [0.0, 1.0], \"title\": {\"text\": \"average_speed\"}}},\n",
              "                        {\"responsive\": true}\n",
              "                    ).then(function(){\n",
              "                            Plotly.addFrames('bd8ed012-2c73-4a3d-843b-e412034a0e89', [{\"data\": [{\"alignmentgroup\": \"True\", \"hoverlabel\": {\"namelength\": 0}, \"hovertemplate\": \"month=1<br>hour=%{x}<br>average_speed=%{marker.color}\", \"ids\": [0, 1, 2, 3, 4, 5, 6, 7, 8, 9, 10, 11, 12, 13, 14, 15, 16, 17, 18, 19, 20, 21, 22, 23], \"legendgroup\": \"\", \"marker\": {\"color\": [49.26464359726948, 52.10503834281323, 54.01285509078122, 55.4649442391229, 54.24602359343922, 42.87513703283177, 32.18878432827178, 29.83178705787792, 30.34031871918125, 28.644335019073257, 27.122156370288774, 26.345528380552754, 26.108005028592718, 25.944551366652345, 25.90306386811842, 27.034508585108764, 26.982575077145512, 25.73828530854328, 25.197006185334587, 27.654084287692545, 29.344604461175557, 32.939873511254476, 37.55277530411222, 43.895985013035386], \"coloraxis\": \"coloraxis\"}, \"name\": \"\", \"offsetgroup\": \"\", \"orientation\": \"v\", \"showlegend\": false, \"textposition\": \"auto\", \"x\": [0, 1, 2, 3, 4, 5, 6, 7, 8, 9, 10, 11, 12, 13, 14, 15, 16, 17, 18, 19, 20, 21, 22, 23], \"xaxis\": \"x\", \"y\": [49.26464359726948, 52.10503834281323, 54.01285509078122, 55.4649442391229, 54.24602359343922, 42.87513703283177, 32.18878432827178, 29.83178705787792, 30.34031871918125, 28.644335019073257, 27.122156370288774, 26.345528380552754, 26.108005028592718, 25.944551366652345, 25.90306386811842, 27.034508585108764, 26.982575077145512, 25.73828530854328, 25.197006185334587, 27.654084287692545, 29.344604461175557, 32.939873511254476, 37.55277530411222, 43.895985013035386], \"yaxis\": \"y\", \"type\": \"bar\"}], \"name\": \"1\"}, {\"data\": [{\"alignmentgroup\": \"True\", \"hoverlabel\": {\"namelength\": 0}, \"hovertemplate\": \"month=2<br>hour=%{x}<br>average_speed=%{marker.color}\", \"ids\": [0, 1, 2, 3, 4, 5, 6, 7, 8, 9, 10, 11, 12, 13, 14, 15, 16, 17, 18, 19, 20, 21, 22, 23], \"legendgroup\": \"\", \"marker\": {\"color\": [48.33581572788599, 51.36573842756143, 53.535701145142276, 55.08165902574322, 53.84023834878152, 40.887135140808695, 28.970820715377425, 27.14446073809352, 27.850464991474773, 27.157728130644216, 26.30024147504393, 25.733166748160414, 25.40252517521771, 25.5055592169442, 25.771972383624504, 26.62928485030375, 26.14544098422714, 24.91597987132118, 24.47056683524722, 26.684712013263205, 28.397342615150702, 31.999151509766065, 36.08822949452923, 42.585237787186664], \"coloraxis\": \"coloraxis\"}, \"name\": \"\", \"offsetgroup\": \"\", \"orientation\": \"v\", \"showlegend\": false, \"textposition\": \"auto\", \"x\": [0, 1, 2, 3, 4, 5, 6, 7, 8, 9, 10, 11, 12, 13, 14, 15, 16, 17, 18, 19, 20, 21, 22, 23], \"xaxis\": \"x\", \"y\": [48.33581572788599, 51.36573842756143, 53.535701145142276, 55.08165902574322, 53.84023834878152, 40.887135140808695, 28.970820715377425, 27.14446073809352, 27.850464991474773, 27.157728130644216, 26.30024147504393, 25.733166748160414, 25.40252517521771, 25.5055592169442, 25.771972383624504, 26.62928485030375, 26.14544098422714, 24.91597987132118, 24.47056683524722, 26.684712013263205, 28.397342615150702, 31.999151509766065, 36.08822949452923, 42.585237787186664], \"yaxis\": \"y\", \"type\": \"bar\"}], \"name\": \"2\"}, {\"data\": [{\"alignmentgroup\": \"True\", \"hoverlabel\": {\"namelength\": 0}, \"hovertemplate\": \"month=3<br>hour=%{x}<br>average_speed=%{marker.color}\", \"ids\": [0, 1, 2, 3, 4, 5, 6, 7, 8, 9, 10, 11, 12, 13, 14, 15, 16, 17, 18, 19, 20, 21, 22, 23], \"legendgroup\": \"\", \"marker\": {\"color\": [48.07714234631333, 51.780683431542315, 53.91529003777703, 55.28483098903296, 54.119413080356395, 42.26421311388319, 31.065363000002094, 28.671356909524643, 29.14665658822709, 27.95005705543354, 26.861364851217964, 26.22965089178486, 26.09043783112925, 25.896871726691877, 25.72109856316522, 26.522701871576032, 26.464110734271912, 25.509728907412224, 25.292207060245115, 27.344229673000378, 28.946550241504895, 32.440367956437534, 36.41069033562759, 42.840348143295316], \"coloraxis\": \"coloraxis\"}, \"name\": \"\", \"offsetgroup\": \"\", \"orientation\": \"v\", \"showlegend\": false, \"textposition\": \"auto\", \"x\": [0, 1, 2, 3, 4, 5, 6, 7, 8, 9, 10, 11, 12, 13, 14, 15, 16, 17, 18, 19, 20, 21, 22, 23], \"xaxis\": \"x\", \"y\": [48.07714234631333, 51.780683431542315, 53.91529003777703, 55.28483098903296, 54.119413080356395, 42.26421311388319, 31.065363000002094, 28.671356909524643, 29.14665658822709, 27.95005705543354, 26.861364851217964, 26.22965089178486, 26.09043783112925, 25.896871726691877, 25.72109856316522, 26.522701871576032, 26.464110734271912, 25.509728907412224, 25.292207060245115, 27.344229673000378, 28.946550241504895, 32.440367956437534, 36.41069033562759, 42.840348143295316], \"yaxis\": \"y\", \"type\": \"bar\"}], \"name\": \"3\"}, {\"data\": [{\"alignmentgroup\": \"True\", \"hoverlabel\": {\"namelength\": 0}, \"hovertemplate\": \"month=4<br>hour=%{x}<br>average_speed=%{marker.color}\", \"ids\": [0, 1, 2, 3, 4, 5, 6, 7, 8, 9, 10, 11, 12, 13, 14, 15, 16, 17, 18, 19, 20, 21, 22, 23], \"legendgroup\": \"\", \"marker\": {\"color\": [47.74339076936734, 51.08454112511276, 53.31930362948967, 54.16914372444026, 53.4940089958297, 40.612746409260865, 29.149485513608838, 27.09157815373188, 28.021097551762953, 26.785804605442898, 25.91276943464434, 25.515072560304958, 25.29158015397556, 24.893104125281127, 24.810481092729848, 26.047171903731343, 25.869787921027484, 24.966541897776708, 24.526790526292977, 26.632971994333047, 28.45226423867919, 31.936835928356032, 35.646192323414915, 42.04613719208363], \"coloraxis\": \"coloraxis\"}, \"name\": \"\", \"offsetgroup\": \"\", \"orientation\": \"v\", \"showlegend\": false, \"textposition\": \"auto\", \"x\": [0, 1, 2, 3, 4, 5, 6, 7, 8, 9, 10, 11, 12, 13, 14, 15, 16, 17, 18, 19, 20, 21, 22, 23], \"xaxis\": \"x\", \"y\": [47.74339076936734, 51.08454112511276, 53.31930362948967, 54.16914372444026, 53.4940089958297, 40.612746409260865, 29.149485513608838, 27.09157815373188, 28.021097551762953, 26.785804605442898, 25.91276943464434, 25.515072560304958, 25.29158015397556, 24.893104125281127, 24.810481092729848, 26.047171903731343, 25.869787921027484, 24.966541897776708, 24.526790526292977, 26.632971994333047, 28.45226423867919, 31.936835928356032, 35.646192323414915, 42.04613719208363], \"yaxis\": \"y\", \"type\": \"bar\"}], \"name\": \"4\"}, {\"data\": [{\"alignmentgroup\": \"True\", \"hoverlabel\": {\"namelength\": 0}, \"hovertemplate\": \"month=5<br>hour=%{x}<br>average_speed=%{marker.color}\", \"ids\": [0, 1, 2, 3, 4, 5, 6, 7, 8, 9, 10, 11, 12, 13, 14, 15, 16, 17, 18, 19, 20, 21, 22, 23], \"legendgroup\": \"\", \"marker\": {\"color\": [46.951201661084816, 49.99329525672171, 52.00153546184531, 53.838697756588104, 52.67213495322605, 41.26878825931583, 30.317382037984313, 28.0962326514979, 28.54337248088821, 26.771961349955305, 26.03017070694798, 25.135025713183033, 24.772743861193824, 24.66362916195185, 24.839952643531042, 25.881910572097684, 25.82499057254889, 24.838793484647123, 24.4954049956043, 26.286948798764406, 27.93248900309706, 31.51302416247912, 35.31748414599137, 41.38221071526414], \"coloraxis\": \"coloraxis\"}, \"name\": \"\", \"offsetgroup\": \"\", \"orientation\": \"v\", \"showlegend\": false, \"textposition\": \"auto\", \"x\": [0, 1, 2, 3, 4, 5, 6, 7, 8, 9, 10, 11, 12, 13, 14, 15, 16, 17, 18, 19, 20, 21, 22, 23], \"xaxis\": \"x\", \"y\": [46.951201661084816, 49.99329525672171, 52.00153546184531, 53.838697756588104, 52.67213495322605, 41.26878825931583, 30.317382037984313, 28.0962326514979, 28.54337248088821, 26.771961349955305, 26.03017070694798, 25.135025713183033, 24.772743861193824, 24.66362916195185, 24.839952643531042, 25.881910572097684, 25.82499057254889, 24.838793484647123, 24.4954049956043, 26.286948798764406, 27.93248900309706, 31.51302416247912, 35.31748414599137, 41.38221071526414], \"yaxis\": \"y\", \"type\": \"bar\"}], \"name\": \"5\"}, {\"data\": [{\"alignmentgroup\": \"True\", \"hoverlabel\": {\"namelength\": 0}, \"hovertemplate\": \"month=6<br>hour=%{x}<br>average_speed=%{marker.color}\", \"ids\": [0, 1, 2, 3, 4, 5, 6, 7, 8, 9, 10, 11, 12, 13, 14, 15, 16, 17, 18, 19, 20, 21, 22, 23], \"legendgroup\": \"\", \"marker\": {\"color\": [47.59094988953214, 51.0888444950605, 53.22809908594068, 54.15586652587413, 52.52255520576257, 42.77062782054198, 31.245666159373172, 28.593582691131253, 29.210922430167063, 27.789871442911164, 26.897987853330978, 26.081172635732376, 25.687195365706284, 26.047973880259374, 26.397950305013953, 26.892379726499048, 26.32330821010245, 25.739250727240005, 25.761711020889727, 27.635921508523513, 29.745815266293977, 33.28512098674038, 37.545440665871766, 43.036991285838205], \"coloraxis\": \"coloraxis\"}, \"name\": \"\", \"offsetgroup\": \"\", \"orientation\": \"v\", \"showlegend\": false, \"textposition\": \"auto\", \"x\": [0, 1, 2, 3, 4, 5, 6, 7, 8, 9, 10, 11, 12, 13, 14, 15, 16, 17, 18, 19, 20, 21, 22, 23], \"xaxis\": \"x\", \"y\": [47.59094988953214, 51.0888444950605, 53.22809908594068, 54.15586652587413, 52.52255520576257, 42.77062782054198, 31.245666159373172, 28.593582691131253, 29.210922430167063, 27.789871442911164, 26.897987853330978, 26.081172635732376, 25.687195365706284, 26.047973880259374, 26.397950305013953, 26.892379726499048, 26.32330821010245, 25.739250727240005, 25.761711020889727, 27.635921508523513, 29.745815266293977, 33.28512098674038, 37.545440665871766, 43.036991285838205], \"yaxis\": \"y\", \"type\": \"bar\"}], \"name\": \"6\"}, {\"data\": [{\"alignmentgroup\": \"True\", \"hoverlabel\": {\"namelength\": 0}, \"hovertemplate\": \"month=7<br>hour=%{x}<br>average_speed=%{marker.color}\", \"ids\": [0, 1, 2, 3, 4, 5, 6, 7, 8, 9, 10, 11, 12, 13, 14, 15, 16, 17, 18, 19, 20, 21, 22, 23], \"legendgroup\": \"\", \"marker\": {\"color\": [49.05426643649236, 52.35238361060246, 54.59370696906142, 56.03806867650114, 54.79838016317633, 42.27150924137063, 32.38787996355106, 30.09480632529228, 30.154489472024213, 28.651247979493974, 27.319574457895772, 26.281742730312722, 25.592041019131468, 25.953825216521622, 26.57979810858638, 27.762757113217948, 27.26693834157959, 25.50415445129593, 25.123165854974996, 26.82724571302796, 28.338835647064037, 31.802179623627442, 36.57948179722947, 43.039271720013524], \"coloraxis\": \"coloraxis\"}, \"name\": \"\", \"offsetgroup\": \"\", \"orientation\": \"v\", \"showlegend\": false, \"textposition\": \"auto\", \"x\": [0, 1, 2, 3, 4, 5, 6, 7, 8, 9, 10, 11, 12, 13, 14, 15, 16, 17, 18, 19, 20, 21, 22, 23], \"xaxis\": \"x\", \"y\": [49.05426643649236, 52.35238361060246, 54.59370696906142, 56.03806867650114, 54.79838016317633, 42.27150924137063, 32.38787996355106, 30.09480632529228, 30.154489472024213, 28.651247979493974, 27.319574457895772, 26.281742730312722, 25.592041019131468, 25.953825216521622, 26.57979810858638, 27.762757113217948, 27.26693834157959, 25.50415445129593, 25.123165854974996, 26.82724571302796, 28.338835647064037, 31.802179623627442, 36.57948179722947, 43.039271720013524], \"yaxis\": \"y\", \"type\": \"bar\"}], \"name\": \"7\"}, {\"data\": [{\"alignmentgroup\": \"True\", \"hoverlabel\": {\"namelength\": 0}, \"hovertemplate\": \"month=8<br>hour=%{x}<br>average_speed=%{marker.color}\", \"ids\": [0, 1, 2, 3, 4, 5, 6, 7, 8, 9, 10, 11, 12, 13, 14, 15, 16, 17, 18, 19, 20, 21, 22, 23], \"legendgroup\": \"\", \"marker\": {\"color\": [48.1247680465286, 51.543441019194674, 53.66153065473524, 54.91464618924318, 54.083950868733766, 40.61641594646282, 30.009360664254494, 27.40814873699982, 27.750156174276167, 26.31136751485503, 25.397319482494247, 24.90588849084167, 24.81803651716969, 24.712235380448654, 24.700306055946445, 25.857655723133306, 25.782611717288347, 24.65648979235265, 24.348701636707755, 26.299282983153496, 27.79183105970616, 31.449593428005237, 34.96117436276053, 41.6793250931722], \"coloraxis\": \"coloraxis\"}, \"name\": \"\", \"offsetgroup\": \"\", \"orientation\": \"v\", \"showlegend\": false, \"textposition\": \"auto\", \"x\": [0, 1, 2, 3, 4, 5, 6, 7, 8, 9, 10, 11, 12, 13, 14, 15, 16, 17, 18, 19, 20, 21, 22, 23], \"xaxis\": \"x\", \"y\": [48.1247680465286, 51.543441019194674, 53.66153065473524, 54.91464618924318, 54.083950868733766, 40.61641594646282, 30.009360664254494, 27.40814873699982, 27.750156174276167, 26.31136751485503, 25.397319482494247, 24.90588849084167, 24.81803651716969, 24.712235380448654, 24.700306055946445, 25.857655723133306, 25.782611717288347, 24.65648979235265, 24.348701636707755, 26.299282983153496, 27.79183105970616, 31.449593428005237, 34.96117436276053, 41.6793250931722], \"yaxis\": \"y\", \"type\": \"bar\"}], \"name\": \"8\"}, {\"data\": [{\"alignmentgroup\": \"True\", \"hoverlabel\": {\"namelength\": 0}, \"hovertemplate\": \"month=9<br>hour=%{x}<br>average_speed=%{marker.color}\", \"ids\": [0, 1, 2, 3, 4, 5, 6, 7, 8, 9, 10, 11, 12, 13, 14, 15, 16, 17, 18, 19, 20, 21, 22, 23], \"legendgroup\": \"\", \"marker\": {\"color\": [47.501230449053736, 50.53581686203887, 52.647730165759135, 54.426994101046475, 53.07956345255699, 40.02524408686628, 30.31953788138492, 27.633809987195267, 28.1520623821913, 27.227021611160104, 26.07181428072467, 25.443021524971044, 24.925763552012736, 24.818235437075423, 24.680933147890496, 25.891824478983207, 25.55852539611721, 24.600309373225176, 24.038160000065197, 26.05986546819285, 27.806066381783705, 31.30841509510706, 35.17527575672728, 41.9886270837087], \"coloraxis\": \"coloraxis\"}, \"name\": \"\", \"offsetgroup\": \"\", \"orientation\": \"v\", \"showlegend\": false, \"textposition\": \"auto\", \"x\": [0, 1, 2, 3, 4, 5, 6, 7, 8, 9, 10, 11, 12, 13, 14, 15, 16, 17, 18, 19, 20, 21, 22, 23], \"xaxis\": \"x\", \"y\": [47.501230449053736, 50.53581686203887, 52.647730165759135, 54.426994101046475, 53.07956345255699, 40.02524408686628, 30.31953788138492, 27.633809987195267, 28.1520623821913, 27.227021611160104, 26.07181428072467, 25.443021524971044, 24.925763552012736, 24.818235437075423, 24.680933147890496, 25.891824478983207, 25.55852539611721, 24.600309373225176, 24.038160000065197, 26.05986546819285, 27.806066381783705, 31.30841509510706, 35.17527575672728, 41.9886270837087], \"yaxis\": \"y\", \"type\": \"bar\"}], \"name\": \"9\"}, {\"data\": [{\"alignmentgroup\": \"True\", \"hoverlabel\": {\"namelength\": 0}, \"hovertemplate\": \"month=10<br>hour=%{x}<br>average_speed=%{marker.color}\", \"ids\": [0, 1, 2, 3, 4, 5, 6, 7, 8, 9, 10, 11, 12, 13, 14, 15, 16, 17, 18, 19, 20, 21, 22, 23], \"legendgroup\": \"\", \"marker\": {\"color\": [48.310169537641364, 51.03970550511016, 53.072469270805804, 54.13668572861311, 52.824517669557345, 39.47365371055963, 29.2625463364299, 26.68717372435368, 27.62128201824459, 26.345035044519445, 25.5505145806932, 24.963155066230208, 24.80157711469461, 24.82107100827463, 24.585546412253073, 25.904772590538272, 25.904051903065838, 24.60269434739817, 23.896281940919845, 26.71544756635866, 28.48617021175172, 31.760960692556992, 35.38590104818019, 41.74281062966236], \"coloraxis\": \"coloraxis\"}, \"name\": \"\", \"offsetgroup\": \"\", \"orientation\": \"v\", \"showlegend\": false, \"textposition\": \"auto\", \"x\": [0, 1, 2, 3, 4, 5, 6, 7, 8, 9, 10, 11, 12, 13, 14, 15, 16, 17, 18, 19, 20, 21, 22, 23], \"xaxis\": \"x\", \"y\": [48.310169537641364, 51.03970550511016, 53.072469270805804, 54.13668572861311, 52.824517669557345, 39.47365371055963, 29.2625463364299, 26.68717372435368, 27.62128201824459, 26.345035044519445, 25.5505145806932, 24.963155066230208, 24.80157711469461, 24.82107100827463, 24.585546412253073, 25.904772590538272, 25.904051903065838, 24.60269434739817, 23.896281940919845, 26.71544756635866, 28.48617021175172, 31.760960692556992, 35.38590104818019, 41.74281062966236], \"yaxis\": \"y\", \"type\": \"bar\"}], \"name\": \"10\"}, {\"data\": [{\"alignmentgroup\": \"True\", \"hoverlabel\": {\"namelength\": 0}, \"hovertemplate\": \"month=11<br>hour=%{x}<br>average_speed=%{marker.color}\", \"ids\": [0, 1, 2, 3, 4, 5, 6, 7, 8, 9, 10, 11, 12, 13, 14, 15, 16, 17, 18, 19, 20, 21, 22, 23], \"legendgroup\": \"\", \"marker\": {\"color\": [46.62742820562619, 48.76020999165753, 50.39869364297089, 51.66749474789303, 50.888997480780915, 39.4888141260115, 29.927949264472097, 27.662697396603377, 28.07644863736636, 27.084136106678237, 26.77700709265245, 25.891539169476594, 25.595472845521115, 25.43351135977308, 25.079042959403516, 25.931457827938328, 26.06543737354794, 25.290718420040555, 24.906482624281956, 26.651744495982893, 28.666496381346025, 31.402211594394903, 35.01787838498998, 41.041791214430376], \"coloraxis\": \"coloraxis\"}, \"name\": \"\", \"offsetgroup\": \"\", \"orientation\": \"v\", \"showlegend\": false, \"textposition\": \"auto\", \"x\": [0, 1, 2, 3, 4, 5, 6, 7, 8, 9, 10, 11, 12, 13, 14, 15, 16, 17, 18, 19, 20, 21, 22, 23], \"xaxis\": \"x\", \"y\": [46.62742820562619, 48.76020999165753, 50.39869364297089, 51.66749474789303, 50.888997480780915, 39.4888141260115, 29.927949264472097, 27.662697396603377, 28.07644863736636, 27.084136106678237, 26.77700709265245, 25.891539169476594, 25.595472845521115, 25.43351135977308, 25.079042959403516, 25.931457827938328, 26.06543737354794, 25.290718420040555, 24.906482624281956, 26.651744495982893, 28.666496381346025, 31.402211594394903, 35.01787838498998, 41.041791214430376], \"yaxis\": \"y\", \"type\": \"bar\"}], \"name\": \"11\"}, {\"data\": [{\"alignmentgroup\": \"True\", \"hoverlabel\": {\"namelength\": 0}, \"hovertemplate\": \"month=12<br>hour=%{x}<br>average_speed=%{marker.color}\", \"ids\": [0, 1, 2, 3, 4, 5, 6, 7, 8, 9, 10, 11, 12, 13, 14, 15, 16, 17, 18, 19, 20, 21, 22, 23], \"legendgroup\": \"\", \"marker\": {\"color\": [43.89971266265108, 47.23495336606022, 49.502119163780925, 51.07949379986897, 50.06765564905008, 39.44459644851558, 31.22380376078229, 28.55121182864537, 28.364768672671975, 27.26899636104059, 25.523938900740944, 24.66070619489307, 24.164973855931738, 24.35023962532779, 24.685604360495695, 25.562630082656337, 25.29885027377246, 24.753109227905554, 24.082162930941372, 25.749157787873795, 27.24353244131003, 30.232296748311924, 33.56921581210183, 38.44010703358065], \"coloraxis\": \"coloraxis\"}, \"name\": \"\", \"offsetgroup\": \"\", \"orientation\": \"v\", \"showlegend\": false, \"textposition\": \"auto\", \"x\": [0, 1, 2, 3, 4, 5, 6, 7, 8, 9, 10, 11, 12, 13, 14, 15, 16, 17, 18, 19, 20, 21, 22, 23], \"xaxis\": \"x\", \"y\": [43.89971266265108, 47.23495336606022, 49.502119163780925, 51.07949379986897, 50.06765564905008, 39.44459644851558, 31.22380376078229, 28.55121182864537, 28.364768672671975, 27.26899636104059, 25.523938900740944, 24.66070619489307, 24.164973855931738, 24.35023962532779, 24.685604360495695, 25.562630082656337, 25.29885027377246, 24.753109227905554, 24.082162930941372, 25.749157787873795, 27.24353244131003, 30.232296748311924, 33.56921581210183, 38.44010703358065], \"yaxis\": \"y\", \"type\": \"bar\"}], \"name\": \"12\"}]);\n",
              "                        }).then(function(){\n",
              "                            \n",
              "var gd = document.getElementById('bd8ed012-2c73-4a3d-843b-e412034a0e89');\n",
              "var x = new MutationObserver(function (mutations, observer) {{\n",
              "        var display = window.getComputedStyle(gd).display;\n",
              "        if (!display || display === 'none') {{\n",
              "            console.log([gd, 'removed!']);\n",
              "            Plotly.purge(gd);\n",
              "            observer.disconnect();\n",
              "        }}\n",
              "}});\n",
              "\n",
              "// Listen for the removal of the full notebook cells\n",
              "var notebookContainer = gd.closest('#notebook-container');\n",
              "if (notebookContainer) {{\n",
              "    x.observe(notebookContainer, {childList: true});\n",
              "}}\n",
              "\n",
              "// Listen for the clearing of the current output cell\n",
              "var outputEl = gd.closest('.output');\n",
              "if (outputEl) {{\n",
              "    x.observe(outputEl, {childList: true});\n",
              "}}\n",
              "\n",
              "                        })\n",
              "                };\n",
              "                \n",
              "            </script>\n",
              "        </div>\n",
              "</body>\n",
              "</html>"
            ]
          },
          "metadata": {
            "tags": []
          }
        }
      ]
    },
    {
      "cell_type": "markdown",
      "metadata": {
        "id": "uu3jetV7f-IC"
      },
      "source": [
        "### *Average speed per month for 2018 and 2019*"
      ]
    },
    {
      "cell_type": "code",
      "metadata": {
        "id": "Ajr5SRNE7fbH",
        "outputId": "a374c086-1627-48e9-da54-dc9165298ac0",
        "colab": {
          "base_uri": "https://localhost:8080/",
          "height": 488
        }
      },
      "source": [
        "avg_per_year_80 = df_CL80[['average_speed','year','month']].groupby(['month','year']).mean().reset_index()#.plot.bar() \n",
        "g = sns.catplot(x=\"month\", y=\"average_speed\", hue=\"year\", data=avg_per_year_80,kind = 'bar',palette=\"Blues_d\",height=6, aspect=2.5)\n",
        "g.set(title = 'Average speed per month for 2018 and 2019',ylim=(0, 40))\n"
      ],
      "execution_count": null,
      "outputs": [
        {
          "output_type": "execute_result",
          "data": {
            "text/plain": [
              "<seaborn.axisgrid.FacetGrid at 0x7fd7f5a1b080>"
            ]
          },
          "metadata": {
            "tags": []
          },
          "execution_count": 22
        },
        {
          "output_type": "display_data",
          "data": {
            "image/png": "[encoded data removed]",
            "text/plain": [
              "<Figure size 1141.38x432 with 1 Axes>"
            ]
          },
          "metadata": {
            "tags": []
          }
        }
      ]
    },
    {
      "cell_type": "markdown",
      "metadata": {
        "id": "qQSkQsNegFXW"
      },
      "source": [
        "### *Average speed per hour for orientation of the road*"
      ]
    },
    {
      "cell_type": "code",
      "metadata": {
        "id": "-bPUlDhNXOGk",
        "outputId": "4be5013e-3ebd-44c5-a646-3726e460e34f",
        "colab": {
          "base_uri": "https://localhost:8080/",
          "height": 488
        }
      },
      "source": [
        "avg_per_orientation_80 = df_CL80[['orientation','average_speed','hour']].groupby(['orientation','hour']).mean().reset_index()\n",
        "g = sns.catplot(x=\"hour\", y=\"average_speed\", hue=\"orientation\", data=avg_per_orientation_80,kind = 'bar',height=6, aspect=2.7)\n",
        "g.set(title = 'Average speed per hour for orientation',ylim=(0, 60))"
      ],
      "execution_count": null,
      "outputs": [
        {
          "output_type": "execute_result",
          "data": {
            "text/plain": [
              "<seaborn.axisgrid.FacetGrid at 0x7fd7f5a1b3c8>"
            ]
          },
          "metadata": {
            "tags": []
          },
          "execution_count": 23
        },
        {
          "output_type": "display_data",
          "data": {
            "image/png": "[encoded data removed]",
            "text/plain": [
              "<Figure size 1252.15x432 with 1 Axes>"
            ]
          },
          "metadata": {
            "tags": []
          }
        }
      ]
    },
    {
      "cell_type": "code",
      "metadata": {
        "id": "K388gdvTXjXx"
      },
      "source": [
        "df_CL80_ew = df_CL80[df_CL80['orientation'] == 'east_west']\n",
        "df_CL80_we = df_CL80[df_CL80['orientation'] == 'west_east']"
      ],
      "execution_count": null,
      "outputs": []
    },
    {
      "cell_type": "code",
      "metadata": {
        "id": "7Oj329aPXl7B"
      },
      "source": [
        "avg_speed_corridor_CL80_ew = df_CL80_ew[['name_to','average_speed']].groupby(['name_to']).mean().sort_values('average_speed',ascending = False).reset_index()\n",
        "avg_speed_corridor_CL80_ew['coordinates']= avg_speed_corridor_CL80_ew['name_to'].map(coordenadas)\n",
        "avg_speed_corridor_CL80_ew = avg_speed_corridor_CL80_ew.dropna()\n",
        "color_speed = ['#300000','#600000','#900000','#c00000','#ef0000','#ff5050','#ff9090','#ffa0a0','#ffb0b0','#ffcfcf','#ffefef']\n",
        "avg_speed_corridor_CL80_ew['color_speed'] = color_speed"
      ],
      "execution_count": null,
      "outputs": []
    },
    {
      "cell_type": "code",
      "metadata": {
        "id": "yzEbiR2vZqfL"
      },
      "source": [
        "avg_speed_corridor_CL80_we = df_CL80_we[['name_to','average_speed']].groupby(['name_to']).mean().sort_values('average_speed',ascending = False).reset_index()\n",
        "avg_speed_corridor_CL80_we['coordinates']= avg_speed_corridor_CL80_we['name_to'].map(coordenadas)\n",
        "avg_speed_corridor_CL80_we = avg_speed_corridor_CL80_we.dropna()\n",
        "avg_speed_corridor_CL80_we['color_speed'] = color_speed"
      ],
      "execution_count": null,
      "outputs": []
    },
    {
      "cell_type": "markdown",
      "metadata": {
        "id": "SQw2NDsMgVMb"
      },
      "source": [
        "### *Map of corridor East to West. Color defined by average velocity*"
      ]
    },
    {
      "cell_type": "code",
      "metadata": {
        "id": "FG5L3ToZZ3ls",
        "outputId": "f257e2ea-446d-4568-8c00-fb8de7336f31",
        "colab": {
          "base_uri": "https://localhost:8080/",
          "height": 521
        }
      },
      "source": [
        "#Map Calle 80 East-West\n",
        "f = folium.Figure(width=600, height=500)\n",
        "mapCL80_ew = folium.Map(location=[4.703411, -74.101624], zoom_start=13.2)\n",
        "list_coord = avg_speed_corridor_CL80_ew['coordinates'].tolist()\n",
        "list_color = avg_speed_corridor_CL80_ew['color_speed'].tolist()\n",
        "\n",
        "for i in range(len(list_coord)):\n",
        "  folium.PolyLine(list_coord[i], weight=7, opacity=1, color = list_color[i]).add_to(mapCL80_ew)\n",
        "folium.TileLayer('cartodbpositron').add_to(mapCL80_ew)\n",
        "f.add_child(mapCL80_ew)"
      ],
      "execution_count": null,
      "outputs": [
        {
          "output_type": "execute_result",
          "data": {
            "text/html": [
              "<iframe src=\"about:blank\" width=\"600\" height=\"500\"style=\"border:none !important;\" data-html=PCFET0NUWVBFIGh0bWw+CjxoZWFkPiAgICAKICAgIDxtZXRhIGh0dHAtZXF1aXY9ImNvbnRlbnQtdHlwZSIgY29udGVudD0idGV4dC9odG1sOyBjaGFyc2V0PVVURi04IiAvPgogICAgPHNjcmlwdD5MX1BSRUZFUl9DQU5WQVM9ZmFsc2U7IExfTk9fVE9VQ0g9ZmFsc2U7IExfRElTQUJMRV8zRD1mYWxzZTs8L3NjcmlwdD4KICAgIDxzY3JpcHQgc3JjPSJodHRwczovL2Nkbi5qc2RlbGl2ci5uZXQvbnBtL2xlYWZsZXRAMS40LjAvZGlzdC9sZWFmbGV0LmpzIj48L3NjcmlwdD4KICAgIDxzY3JpcHQgc3JjPSJodHRwczovL2NvZGUuanF1ZXJ5LmNvbS9qcXVlcnktMS4xMi40Lm1pbi5qcyI+PC9zY3JpcHQ+CiAgICA8c2NyaXB0IHNyYz0iaHR0cHM6Ly9tYXhjZG4uYm9vdHN0cmFwY2RuLmNvbS9ib290c3RyYXAvMy4yLjAvanMvYm9vdHN0cmFwLm1pbi5qcyI+PC9zY3JpcHQ+CiAgICA8c2NyaXB0IHNyYz0iaHR0cHM6Ly9jZG5qcy5jbG91ZGZsYXJlLmNvbS9hamF4L2xpYnMvTGVhZmxldC5hd2Vzb21lLW1hcmtlcnMvMi4wLjIvbGVhZmxldC5hd2Vzb21lLW1hcmtlcnMuanMiPjwvc2NyaXB0PgogICAgPGxpbmsgcmVsPSJzdHlsZXNoZWV0IiBocmVmPSJodHRwczovL2Nkbi5qc2RlbGl2ci5uZXQvbnBtL2xlYWZsZXRAMS40LjAvZGlzdC9sZWFmbGV0LmNzcyIvPgogICAgPGxpbmsgcmVsPSJzdHlsZXNoZWV0IiBocmVmPSJodHRwczovL21heGNkbi5ib290c3RyYXBjZG4uY29tL2Jvb3RzdHJhcC8zLjIuMC9jc3MvYm9vdHN0cmFwLm1pbi5jc3MiLz4KICAgIDxsaW5rIHJlbD0ic3R5bGVzaGVldCIgaHJlZj0iaHR0cHM6Ly9tYXhjZG4uYm9vdHN0cmFwY2RuLmNvbS9ib290c3RyYXAvMy4yLjAvY3NzL2Jvb3RzdHJhcC10aGVtZS5taW4uY3NzIi8+CiAgICA8bGluayByZWw9InN0eWxlc2hlZXQiIGhyZWY9Imh0dHBzOi8vbWF4Y2RuLmJvb3RzdHJhcGNkbi5jb20vZm9udC1hd2Vzb21lLzQuNi4zL2Nzcy9mb250LWF3ZXNvbWUubWluLmNzcyIvPgogICAgPGxpbmsgcmVsPSJzdHlsZXNoZWV0IiBocmVmPSJodHRwczovL2NkbmpzLmNsb3VkZmxhcmUuY29tL2FqYXgvbGlicy9MZWFmbGV0LmF3ZXNvbWUtbWFya2Vycy8yLjAuMi9sZWFmbGV0LmF3ZXNvbWUtbWFya2Vycy5jc3MiLz4KICAgIDxsaW5rIHJlbD0ic3R5bGVzaGVldCIgaHJlZj0iaHR0cHM6Ly9yYXdjZG4uZ2l0aGFjay5jb20vcHl0aG9uLXZpc3VhbGl6YXRpb24vZm9saXVtL21hc3Rlci9mb2xpdW0vdGVtcGxhdGVzL2xlYWZsZXQuYXdlc29tZS5yb3RhdGUuY3NzIi8+CiAgICA8c3R5bGU+aHRtbCwgYm9keSB7d2lkdGg6IDEwMCU7aGVpZ2h0OiAxMDAlO21hcmdpbjogMDtwYWRkaW5nOiAwO308L3N0eWxlPgogICAgPHN0eWxlPiNtYXAge3Bvc2l0aW9uOmFic29sdXRlO3RvcDowO2JvdHRvbTowO3JpZ2h0OjA7bGVmdDowO308L3N0eWxlPgogICAgCiAgICA8bWV0YSBuYW1lPSJ2aWV3cG9ydCIgY29udGVudD0id2lkdGg9ZGV2aWNlLXdpZHRoLAogICAgICAgIGluaXRpYWwtc2NhbGU9MS4wLCBtYXhpbXVtLXNjYWxlPTEuMCwgdXNlci1zY2FsYWJsZT1ubyIgLz4KICAgIDxzdHlsZT4jbWFwX2ZkMTNlOTFhM2U4ZTRkM2I4NDRkZmUzZTIyNDRkNWVmIHsKICAgICAgICBwb3NpdGlvbjogcmVsYXRpdmU7CiAgICAgICAgd2lkdGg6IDEwMC4wJTsKICAgICAgICBoZWlnaHQ6IDEwMC4wJTsKICAgICAgICBsZWZ0OiAwLjAlOwogICAgICAgIHRvcDogMC4wJTsKICAgICAgICB9CiAgICA8L3N0eWxlPgo8L2hlYWQ+Cjxib2R5PiAgICAKICAgIAogICAgPGRpdiBjbGFzcz0iZm9saXVtLW1hcCIgaWQ9Im1hcF9mZDEzZTkxYTNlOGU0ZDNiODQ0ZGZlM2UyMjQ0ZDVlZiIgPjwvZGl2Pgo8L2JvZHk+CjxzY3JpcHQ+ICAgIAogICAgCiAgICAKICAgICAgICB2YXIgYm91bmRzID0gbnVsbDsKICAgIAoKICAgIHZhciBtYXBfZmQxM2U5MWEzZThlNGQzYjg0NGRmZTNlMjI0NGQ1ZWYgPSBMLm1hcCgKICAgICAgICAnbWFwX2ZkMTNlOTFhM2U4ZTRkM2I4NDRkZmUzZTIyNDRkNWVmJywgewogICAgICAgIGNlbnRlcjogWzQuNzAzNDExLCAtNzQuMTAxNjI0XSwKICAgICAgICB6b29tOiAxMy4yLAogICAgICAgIG1heEJvdW5kczogYm91bmRzLAogICAgICAgIGxheWVyczogW10sCiAgICAgICAgd29ybGRDb3B5SnVtcDogZmFsc2UsCiAgICAgICAgY3JzOiBMLkNSUy5FUFNHMzg1NywKICAgICAgICB6b29tQ29udHJvbDogdHJ1ZSwKICAgICAgICB9KTsKCgogICAgCiAgICB2YXIgdGlsZV9sYXllcl84NTY2ZjZmNmI4Mzg0MjI1OGM4NDhmMmI0NjYzY2ZjZCA9IEwudGlsZUxheWVyKAogICAgICAgICdodHRwczovL3tzfS50aWxlLm9wZW5zdHJlZXRtYXAub3JnL3t6fS97eH0ve3l9LnBuZycsCiAgICAgICAgewogICAgICAgICJhdHRyaWJ1dGlvbiI6IG51bGwsCiAgICAgICAgImRldGVjdFJldGluYSI6IGZhbHNlLAogICAgICAgICJtYXhOYXRpdmVab29tIjogMTgsCiAgICAgICAgIm1heFpvb20iOiAxOCwKICAgICAgICAibWluWm9vbSI6IDAsCiAgICAgICAgIm5vV3JhcCI6IGZhbHNlLAogICAgICAgICJvcGFjaXR5IjogMSwKICAgICAgICAic3ViZG9tYWlucyI6ICJhYmMiLAogICAgICAgICJ0bXMiOiBmYWxzZQp9KS5hZGRUbyhtYXBfZmQxM2U5MWEzZThlNGQzYjg0NGRmZTNlMjI0NGQ1ZWYpOwogICAgCiAgICAgICAgICAgICAgICB2YXIgcG9seV9saW5lXzJmOWI1OGRlNmY0YTQxNmViNmY3MjMwM2YxOWFiYTRiID0gTC5wb2x5bGluZSgKICAgICAgICAgICAgICAgICAgICBbWzQuNzE5NTY4NzkyODQ1MDU5LCAtNzQuMTE5MzI3MDU4MDAwMDFdLCBbNC43MjYyMzU1MDg4NDQ4MjYsIC03NC4xMjQ2NDMxOTYwMDAwMl1dLAogICAgICAgICAgICAgICAgICAgIHsKICAiYnViYmxpbmdNb3VzZUV2ZW50cyI6IHRydWUsCiAgImNvbG9yIjogIiMzMDAwMDAiLAogICJkYXNoQXJyYXkiOiBudWxsLAogICJkYXNoT2Zmc2V0IjogbnVsbCwKICAiZmlsbCI6IGZhbHNlLAogICJmaWxsQ29sb3IiOiAiIzMwMDAwMCIsCiAgImZpbGxPcGFjaXR5IjogMC4yLAogICJmaWxsUnVsZSI6ICJldmVub2RkIiwKICAibGluZUNhcCI6ICJyb3VuZCIsCiAgImxpbmVKb2luIjogInJvdW5kIiwKICAibm9DbGlwIjogZmFsc2UsCiAgIm9wYWNpdHkiOiAxLAogICJzbW9vdGhGYWN0b3IiOiAxLjAsCiAgInN0cm9rZSI6IHRydWUsCiAgIndlaWdodCI6IDcKfQogICAgICAgICAgICAgICAgICAgICkKICAgICAgICAgICAgICAgICAgICAuYWRkVG8obWFwX2ZkMTNlOTFhM2U4ZTRkM2I4NDRkZmUzZTIyNDRkNWVmKTsKICAgICAgICAgICAgCiAgICAKICAgICAgICAgICAgICAgIHZhciBwb2x5X2xpbmVfZmIzZmMyYjA3ODAyNDQ4ZDhhM2EwNTQ0NzQwODZhNTggPSBMLnBvbHlsaW5lKAogICAgICAgICAgICAgICAgICAgIFtbNC42Nzg2NTgyNDQ4NDYzOTQsIC03NC4wNzQyMjMwMzA5OTk5N10sIFs0LjY4ODQzMTY1Nzg0NjA4NCwgLTc0LjA4MjM5ODQwNF1dLAogICAgICAgICAgICAgICAgICAgIHsKICAiYnViYmxpbmdNb3VzZUV2ZW50cyI6IHRydWUsCiAgImNvbG9yIjogIiM2MDAwMDAiLAogICJkYXNoQXJyYXkiOiBudWxsLAogICJkYXNoT2Zmc2V0IjogbnVsbCwKICAiZmlsbCI6IGZhbHNlLAogICJmaWxsQ29sb3IiOiAiIzYwMDAwMCIsCiAgImZpbGxPcGFjaXR5IjogMC4yLAogICJmaWxsUnVsZSI6ICJldmVub2RkIiwKICAibGluZUNhcCI6ICJyb3VuZCIsCiAgImxpbmVKb2luIjogInJvdW5kIiwKICAibm9DbGlwIjogZmFsc2UsCiAgIm9wYWNpdHkiOiAxLAogICJzbW9vdGhGYWN0b3IiOiAxLjAsCiAgInN0cm9rZSI6IHRydWUsCiAgIndlaWdodCI6IDcKfQogICAgICAgICAgICAgICAgICAgICkKICAgICAgICAgICAgICAgICAgICAuYWRkVG8obWFwX2ZkMTNlOTFhM2U4ZTRkM2I4NDRkZmUzZTIyNDRkNWVmKTsKICAgICAgICAgICAgCiAgICAKICAgICAgICAgICAgICAgIHZhciBwb2x5X2xpbmVfZmU4NTY5MDY0ZTg3NGIyNDlmYTE1MGU2MmFhMmRhOWIgPSBMLnBvbHlsaW5lKAogICAgICAgICAgICAgICAgICAgIFtbNC42NjkzMTI0MjU4NDY2NjksIC03NC4wNjMzNjU0NDldLCBbNC42Nzg0ODcxNTU4NDY0MDYsIC03NC4wNzQwMDg0NTUwMDAwMV1dLAogICAgICAgICAgICAgICAgICAgIHsKICAiYnViYmxpbmdNb3VzZUV2ZW50cyI6IHRydWUsCiAgImNvbG9yIjogIiM5MDAwMDAiLAogICJkYXNoQXJyYXkiOiBudWxsLAogICJkYXNoT2Zmc2V0IjogbnVsbCwKICAiZmlsbCI6IGZhbHNlLAogICJmaWxsQ29sb3IiOiAiIzkwMDAwMCIsCiAgImZpbGxPcGFjaXR5IjogMC4yLAogICJmaWxsUnVsZSI6ICJldmVub2RkIiwKICAibGluZUNhcCI6ICJyb3VuZCIsCiAgImxpbmVKb2luIjogInJvdW5kIiwKICAibm9DbGlwIjogZmFsc2UsCiAgIm9wYWNpdHkiOiAxLAogICJzbW9vdGhGYWN0b3IiOiAxLjAsCiAgInN0cm9rZSI6IHRydWUsCiAgIndlaWdodCI6IDcKfQogICAgICAgICAgICAgICAgICAgICkKICAgICAgICAgICAgICAgICAgICAuYWRkVG8obWFwX2ZkMTNlOTFhM2U4ZTRkM2I4NDRkZmUzZTIyNDRkNWVmKTsKICAgICAgICAgICAgCiAgICAKICAgICAgICAgICAgICAgIHZhciBwb2x5X2xpbmVfOTQ5MDU1NDI2OWY1NDYxM2ExZTllYTIxMWJiOTE5ZjcgPSBMLnBvbHlsaW5lKAogICAgICAgICAgICAgICAgICAgIFtbNC42OTc4NDEzNzc4NDU3ODMsIC03NC4wOTMxNzAxNTU5OTk5OV0sIFs0LjcwMDMwMDcxNTg0NTY5MiwgLTc0LjA5NzIyNTY1NTk5OTk4XV0sCiAgICAgICAgICAgICAgICAgICAgewogICJidWJibGluZ01vdXNlRXZlbnRzIjogdHJ1ZSwKICAiY29sb3IiOiAiI2MwMDAwMCIsCiAgImRhc2hBcnJheSI6IG51bGwsCiAgImRhc2hPZmZzZXQiOiBudWxsLAogICJmaWxsIjogZmFsc2UsCiAgImZpbGxDb2xvciI6ICIjYzAwMDAwIiwKICAiZmlsbE9wYWNpdHkiOiAwLjIsCiAgImZpbGxSdWxlIjogImV2ZW5vZGQiLAogICJsaW5lQ2FwIjogInJvdW5kIiwKICAibGluZUpvaW4iOiAicm91bmQiLAogICJub0NsaXAiOiBmYWxzZSwKICAib3BhY2l0eSI6IDEsCiAgInNtb290aEZhY3RvciI6IDEuMCwKICAic3Ryb2tlIjogdHJ1ZSwKICAid2VpZ2h0IjogNwp9CiAgICAgICAgICAgICAgICAgICAgKQogICAgICAgICAgICAgICAgICAgIC5hZGRUbyhtYXBfZmQxM2U5MWEzZThlNGQzYjg0NGRmZTNlMjI0NGQ1ZWYpOwogICAgICAgICAgICAKICAgIAogICAgICAgICAgICAgICAgdmFyIHBvbHlfbGluZV8wODZjZjYzOWFmNzk0ZDlkYWQxNTA5NmRmZDE5ODMxNSA9IEwucG9seWxpbmUoCiAgICAgICAgICAgICAgICAgICAgW1s0LjcwMDM2NDg3Mjg0NTY4NywgLTc0LjA5NzI5MDAyOTAwMDAyXSwgWzQuNzA0Mzg1MzM1ODQ1NTIsIC03NC4xMDMyOTgxNzddXSwKICAgICAgICAgICAgICAgICAgICB7CiAgImJ1YmJsaW5nTW91c2VFdmVudHMiOiB0cnVlLAogICJjb2xvciI6ICIjZWYwMDAwIiwKICAiZGFzaEFycmF5IjogbnVsbCwKICAiZGFzaE9mZnNldCI6IG51bGwsCiAgImZpbGwiOiBmYWxzZSwKICAiZmlsbENvbG9yIjogIiNlZjAwMDAiLAogICJmaWxsT3BhY2l0eSI6IDAuMiwKICAiZmlsbFJ1bGUiOiAiZXZlbm9kZCIsCiAgImxpbmVDYXAiOiAicm91bmQiLAogICJsaW5lSm9pbiI6ICJyb3VuZCIsCiAgIm5vQ2xpcCI6IGZhbHNlLAogICJvcGFjaXR5IjogMSwKICAic21vb3RoRmFjdG9yIjogMS4wLAogICJzdHJva2UiOiB0cnVlLAogICJ3ZWlnaHQiOiA3Cn0KICAgICAgICAgICAgICAgICAgICApCiAgICAgICAgICAgICAgICAgICAgLmFkZFRvKG1hcF9mZDEzZTkxYTNlOGU0ZDNiODQ0ZGZlM2UyMjQ0ZDVlZik7CiAgICAgICAgICAgIAogICAgCiAgICAgICAgICAgICAgICB2YXIgcG9seV9saW5lX2VhZTIzNTM4M2Y2ZDQ4ZDFhNjJmZThkZWNjZDM1YTVmID0gTC5wb2x5bGluZSgKICAgICAgICAgICAgICAgICAgICBbWzQuNjY2MjM3MjgwODQ2ODAxLCAtNzQuMDYxMDEwMTM0MDAwMDFdLCBbNC42NjkyMzg5MDk4NDY2NzksIC03NC4wNjM0MTEyMTM5OTk5OF1dLAogICAgICAgICAgICAgICAgICAgIHsKICAiYnViYmxpbmdNb3VzZUV2ZW50cyI6IHRydWUsCiAgImNvbG9yIjogIiNmZjUwNTAiLAogICJkYXNoQXJyYXkiOiBudWxsLAogICJkYXNoT2Zmc2V0IjogbnVsbCwKICAiZmlsbCI6IGZhbHNlLAogICJmaWxsQ29sb3IiOiAiI2ZmNTA1MCIsCiAgImZpbGxPcGFjaXR5IjogMC4yLAogICJmaWxsUnVsZSI6ICJldmVub2RkIiwKICAibGluZUNhcCI6ICJyb3VuZCIsCiAgImxpbmVKb2luIjogInJvdW5kIiwKICAibm9DbGlwIjogZmFsc2UsCiAgIm9wYWNpdHkiOiAxLAogICJzbW9vdGhGYWN0b3IiOiAxLjAsCiAgInN0cm9rZSI6IHRydWUsCiAgIndlaWdodCI6IDcKfQogICAgICAgICAgICAgICAgICAgICkKICAgICAgICAgICAgICAgICAgICAuYWRkVG8obWFwX2ZkMTNlOTFhM2U4ZTRkM2I4NDRkZmUzZTIyNDRkNWVmKTsKICAgICAgICAgICAgCiAgICAKICAgICAgICAgICAgICAgIHZhciBwb2x5X2xpbmVfYWE5NmU1NzNmYjgwNDU4NjkxMjI3NGM0ODg0ZWZjODIgPSBMLnBvbHlsaW5lKAogICAgICAgICAgICAgICAgICAgIFtbNC42ODg1Mzg1ODY4NDYwNDg1LCAtNzQuMDgyMzc0MjY0MDAwMDFdLCBbNC42OTQzNzY5MDQ4NDU4OTEsIC03NC4wODcyMDIyNDFdXSwKICAgICAgICAgICAgICAgICAgICB7CiAgImJ1YmJsaW5nTW91c2VFdmVudHMiOiB0cnVlLAogICJjb2xvciI6ICIjZmY5MDkwIiwKICAiZGFzaEFycmF5IjogbnVsbCwKICAiZGFzaE9mZnNldCI6IG51bGwsCiAgImZpbGwiOiBmYWxzZSwKICAiZmlsbENvbG9yIjogIiNmZjkwOTAiLAogICJmaWxsT3BhY2l0eSI6IDAuMiwKICAiZmlsbFJ1bGUiOiAiZXZlbm9kZCIsCiAgImxpbmVDYXAiOiAicm91bmQiLAogICJsaW5lSm9pbiI6ICJyb3VuZCIsCiAgIm5vQ2xpcCI6IGZhbHNlLAogICJvcGFjaXR5IjogMSwKICAic21vb3RoRmFjdG9yIjogMS4wLAogICJzdHJva2UiOiB0cnVlLAogICJ3ZWlnaHQiOiA3Cn0KICAgICAgICAgICAgICAgICAgICApCiAgICAgICAgICAgICAgICAgICAgLmFkZFRvKG1hcF9mZDEzZTkxYTNlOGU0ZDNiODQ0ZGZlM2UyMjQ0ZDVlZik7CiAgICAgICAgICAgIAogICAgCiAgICAgICAgICAgICAgICB2YXIgcG9seV9saW5lX2E5NzE2MTkzYzE2ZjQ5YzViNjA4MmIxMjY1YTgwMGE0ID0gTC5wb2x5bGluZSgKICAgICAgICAgICAgICAgICAgICBbWzQuNzExNjM0OTQzODQ1MzM2LCAtNzQuMTEzNjUxNTA0MDAwMDJdLCBbNC43MTk0MTkwOTg4NDUwNTcsIC03NC4xMTkyOTQ4NzIwMDAwMV1dLAogICAgICAgICAgICAgICAgICAgIHsKICAiYnViYmxpbmdNb3VzZUV2ZW50cyI6IHRydWUsCiAgImNvbG9yIjogIiNmZmEwYTAiLAogICJkYXNoQXJyYXkiOiBudWxsLAogICJkYXNoT2Zmc2V0IjogbnVsbCwKICAiZmlsbCI6IGZhbHNlLAogICJmaWxsQ29sb3IiOiAiI2ZmYTBhMCIsCiAgImZpbGxPcGFjaXR5IjogMC4yLAogICJmaWxsUnVsZSI6ICJldmVub2RkIiwKICAibGluZUNhcCI6ICJyb3VuZCIsCiAgImxpbmVKb2luIjogInJvdW5kIiwKICAibm9DbGlwIjogZmFsc2UsCiAgIm9wYWNpdHkiOiAxLAogICJzbW9vdGhGYWN0b3IiOiAxLjAsCiAgInN0cm9rZSI6IHRydWUsCiAgIndlaWdodCI6IDcKfQogICAgICAgICAgICAgICAgICAgICkKICAgICAgICAgICAgICAgICAgICAuYWRkVG8obWFwX2ZkMTNlOTFhM2U4ZTRkM2I4NDRkZmUzZTIyNDRkNWVmKTsKICAgICAgICAgICAgCiAgICAKICAgICAgICAgICAgICAgIHZhciBwb2x5X2xpbmVfNWYwYmMyMWJlNmViNGIzYzljZWFjYjgzYTNhMWNlMDkgPSBMLnBvbHlsaW5lKAogICAgICAgICAgICAgICAgICAgIFtbNC42OTQ2MzM1MzI4NDU4NzIsIC03NC4wODczNzM5MDIwMDAwMl0sIFs0LjY5NzY3MDI5Mjg0NTc1LCAtNzQuMDkyODQ1NjA4XV0sCiAgICAgICAgICAgICAgICAgICAgewogICJidWJibGluZ01vdXNlRXZlbnRzIjogdHJ1ZSwKICAiY29sb3IiOiAiI2ZmYjBiMCIsCiAgImRhc2hBcnJheSI6IG51bGwsCiAgImRhc2hPZmZzZXQiOiBudWxsLAogICJmaWxsIjogZmFsc2UsCiAgImZpbGxDb2xvciI6ICIjZmZiMGIwIiwKICAiZmlsbE9wYWNpdHkiOiAwLjIsCiAgImZpbGxSdWxlIjogImV2ZW5vZGQiLAogICJsaW5lQ2FwIjogInJvdW5kIiwKICAibGluZUpvaW4iOiAicm91bmQiLAogICJub0NsaXAiOiBmYWxzZSwKICAib3BhY2l0eSI6IDEsCiAgInNtb290aEZhY3RvciI6IDEuMCwKICAic3Ryb2tlIjogdHJ1ZSwKICAid2VpZ2h0IjogNwp9CiAgICAgICAgICAgICAgICAgICAgKQogICAgICAgICAgICAgICAgICAgIC5hZGRUbyhtYXBfZmQxM2U5MWEzZThlNGQzYjg0NGRmZTNlMjI0NGQ1ZWYpOwogICAgICAgICAgICAKICAgIAogICAgICAgICAgICAgICAgdmFyIHBvbHlfbGluZV85NDQ5ZWY4ZTNmMmY0ZTJlYjcwNzkzNzJkZmMyNjE1MSA9IEwucG9seWxpbmUoCiAgICAgICAgICAgICAgICAgICAgW1s0LjcwNDQ5MjI2Mjg0NTU2NCwgLTc0LjEwMzQwNTQ2NDk5OTk4XSwgWzQuNzA3NDAwNjY4ODQ1NDM0LCAtNzQuMTA5MjQxOTUxOTk5OTldXSwKICAgICAgICAgICAgICAgICAgICB7CiAgImJ1YmJsaW5nTW91c2VFdmVudHMiOiB0cnVlLAogICJjb2xvciI6ICIjZmZjZmNmIiwKICAiZGFzaEFycmF5IjogbnVsbCwKICAiZGFzaE9mZnNldCI6IG51bGwsCiAgImZpbGwiOiBmYWxzZSwKICAiZmlsbENvbG9yIjogIiNmZmNmY2YiLAogICJmaWxsT3BhY2l0eSI6IDAuMiwKICAiZmlsbFJ1bGUiOiAiZXZlbm9kZCIsCiAgImxpbmVDYXAiOiAicm91bmQiLAogICJsaW5lSm9pbiI6ICJyb3VuZCIsCiAgIm5vQ2xpcCI6IGZhbHNlLAogICJvcGFjaXR5IjogMSwKICAic21vb3RoRmFjdG9yIjogMS4wLAogICJzdHJva2UiOiB0cnVlLAogICJ3ZWlnaHQiOiA3Cn0KICAgICAgICAgICAgICAgICAgICApCiAgICAgICAgICAgICAgICAgICAgLmFkZFRvKG1hcF9mZDEzZTkxYTNlOGU0ZDNiODQ0ZGZlM2UyMjQ0ZDVlZik7CiAgICAgICAgICAgIAogICAgCiAgICAgICAgICAgICAgICB2YXIgcG9seV9saW5lXzlkMDAwNThjOWIyZjQ3ODhhOGQwYmZkMmFlZTVjNWM0ID0gTC5wb2x5bGluZSgKICAgICAgICAgICAgICAgICAgICBbWzQuNzA3NTUwMzY1ODQ1NDY4LCAtNzQuMTA5MzcwNjk4MDAwMDJdLCBbNC43MTE0MjEwOTE4NDUzMzgsIC03NC4xMTMzODMyODMwMDAwMl1dLAogICAgICAgICAgICAgICAgICAgIHsKICAiYnViYmxpbmdNb3VzZUV2ZW50cyI6IHRydWUsCiAgImNvbG9yIjogIiNmZmVmZWYiLAogICJkYXNoQXJyYXkiOiBudWxsLAogICJkYXNoT2Zmc2V0IjogbnVsbCwKICAiZmlsbCI6IGZhbHNlLAogICJmaWxsQ29sb3IiOiAiI2ZmZWZlZiIsCiAgImZpbGxPcGFjaXR5IjogMC4yLAogICJmaWxsUnVsZSI6ICJldmVub2RkIiwKICAibGluZUNhcCI6ICJyb3VuZCIsCiAgImxpbmVKb2luIjogInJvdW5kIiwKICAibm9DbGlwIjogZmFsc2UsCiAgIm9wYWNpdHkiOiAxLAogICJzbW9vdGhGYWN0b3IiOiAxLjAsCiAgInN0cm9rZSI6IHRydWUsCiAgIndlaWdodCI6IDcKfQogICAgICAgICAgICAgICAgICAgICkKICAgICAgICAgICAgICAgICAgICAuYWRkVG8obWFwX2ZkMTNlOTFhM2U4ZTRkM2I4NDRkZmUzZTIyNDRkNWVmKTsKICAgICAgICAgICAgCiAgICB2YXIgdGlsZV9sYXllcl9mZjdjYTY1YjRlZGU0Mjg4OTIyNzA1MzE5Yjc5MmVmNSA9IEwudGlsZUxheWVyKAogICAgICAgICdodHRwczovL2NhcnRvZGItYmFzZW1hcHMte3N9Lmdsb2JhbC5zc2wuZmFzdGx5Lm5ldC9saWdodF9hbGwve3p9L3t4fS97eX0ucG5nJywKICAgICAgICB7CiAgICAgICAgImF0dHJpYnV0aW9uIjogbnVsbCwKICAgICAgICAiZGV0ZWN0UmV0aW5hIjogZmFsc2UsCiAgICAgICAgIm1heE5hdGl2ZVpvb20iOiAxOCwKICAgICAgICAibWF4Wm9vbSI6IDE4LAogICAgICAgICJtaW5ab29tIjogMCwKICAgICAgICAibm9XcmFwIjogZmFsc2UsCiAgICAgICAgIm9wYWNpdHkiOiAxLAogICAgICAgICJzdWJkb21haW5zIjogImFiYyIsCiAgICAgICAgInRtcyI6IGZhbHNlCn0pLmFkZFRvKG1hcF9mZDEzZTkxYTNlOGU0ZDNiODQ0ZGZlM2UyMjQ0ZDVlZik7Cjwvc2NyaXB0Pg== onload=\"this.contentDocument.open();this.contentDocument.write(atob(this.getAttribute('data-html')));this.contentDocument.close();\" \"allowfullscreen\" \"webkitallowfullscreen\" \"mozallowfullscreen\"></iframe>"
            ],
            "text/plain": [
              "<branca.element.Figure at 0x7fd7f52b58d0>"
            ]
          },
          "metadata": {
            "tags": []
          },
          "execution_count": 27
        }
      ]
    },
    {
      "cell_type": "markdown",
      "metadata": {
        "id": "2ipBor8SgcK7"
      },
      "source": [
        "### *Map of corridor West to East. Color defined by average velocity*"
      ]
    },
    {
      "cell_type": "code",
      "metadata": {
        "id": "JwdVW5teqW25",
        "outputId": "57458f38-14d6-4cf6-fa4f-48f8322fb617",
        "colab": {
          "base_uri": "https://localhost:8080/",
          "height": 521
        }
      },
      "source": [
        "#Map Calle 80 West-East\n",
        "f = folium.Figure(width=600, height=500)\n",
        "mapCL80_we = folium.Map(location=[4.703411, -74.101624], zoom_start=13.2)\n",
        "list_coord = avg_speed_corridor_CL80_we['coordinates'].tolist()\n",
        "list_color = avg_speed_corridor_CL80_we['color_speed'].tolist()\n",
        "\n",
        "for i in range(len(list_coord)):\n",
        "  folium.PolyLine(list_coord[i], weight=7, opacity=1, color = list_color[i]).add_to(mapCL80_we)\n",
        "folium.TileLayer('cartodbpositron').add_to(mapCL80_ew)\n",
        "f.add_child(mapCL80_we)"
      ],
      "execution_count": null,
      "outputs": [
        {
          "output_type": "execute_result",
          "data": {
            "text/html": [
              "<iframe src=\"about:blank\" width=\"600\" height=\"500\"style=\"border:none !important;\" data-html=PCFET0NUWVBFIGh0bWw+CjxoZWFkPiAgICAKICAgIDxtZXRhIGh0dHAtZXF1aXY9ImNvbnRlbnQtdHlwZSIgY29udGVudD0idGV4dC9odG1sOyBjaGFyc2V0PVVURi04IiAvPgogICAgPHNjcmlwdD5MX1BSRUZFUl9DQU5WQVM9ZmFsc2U7IExfTk9fVE9VQ0g9ZmFsc2U7IExfRElTQUJMRV8zRD1mYWxzZTs8L3NjcmlwdD4KICAgIDxzY3JpcHQgc3JjPSJodHRwczovL2Nkbi5qc2RlbGl2ci5uZXQvbnBtL2xlYWZsZXRAMS40LjAvZGlzdC9sZWFmbGV0LmpzIj48L3NjcmlwdD4KICAgIDxzY3JpcHQgc3JjPSJodHRwczovL2NvZGUuanF1ZXJ5LmNvbS9qcXVlcnktMS4xMi40Lm1pbi5qcyI+PC9zY3JpcHQ+CiAgICA8c2NyaXB0IHNyYz0iaHR0cHM6Ly9tYXhjZG4uYm9vdHN0cmFwY2RuLmNvbS9ib290c3RyYXAvMy4yLjAvanMvYm9vdHN0cmFwLm1pbi5qcyI+PC9zY3JpcHQ+CiAgICA8c2NyaXB0IHNyYz0iaHR0cHM6Ly9jZG5qcy5jbG91ZGZsYXJlLmNvbS9hamF4L2xpYnMvTGVhZmxldC5hd2Vzb21lLW1hcmtlcnMvMi4wLjIvbGVhZmxldC5hd2Vzb21lLW1hcmtlcnMuanMiPjwvc2NyaXB0PgogICAgPGxpbmsgcmVsPSJzdHlsZXNoZWV0IiBocmVmPSJodHRwczovL2Nkbi5qc2RlbGl2ci5uZXQvbnBtL2xlYWZsZXRAMS40LjAvZGlzdC9sZWFmbGV0LmNzcyIvPgogICAgPGxpbmsgcmVsPSJzdHlsZXNoZWV0IiBocmVmPSJodHRwczovL21heGNkbi5ib290c3RyYXBjZG4uY29tL2Jvb3RzdHJhcC8zLjIuMC9jc3MvYm9vdHN0cmFwLm1pbi5jc3MiLz4KICAgIDxsaW5rIHJlbD0ic3R5bGVzaGVldCIgaHJlZj0iaHR0cHM6Ly9tYXhjZG4uYm9vdHN0cmFwY2RuLmNvbS9ib290c3RyYXAvMy4yLjAvY3NzL2Jvb3RzdHJhcC10aGVtZS5taW4uY3NzIi8+CiAgICA8bGluayByZWw9InN0eWxlc2hlZXQiIGhyZWY9Imh0dHBzOi8vbWF4Y2RuLmJvb3RzdHJhcGNkbi5jb20vZm9udC1hd2Vzb21lLzQuNi4zL2Nzcy9mb250LWF3ZXNvbWUubWluLmNzcyIvPgogICAgPGxpbmsgcmVsPSJzdHlsZXNoZWV0IiBocmVmPSJodHRwczovL2NkbmpzLmNsb3VkZmxhcmUuY29tL2FqYXgvbGlicy9MZWFmbGV0LmF3ZXNvbWUtbWFya2Vycy8yLjAuMi9sZWFmbGV0LmF3ZXNvbWUtbWFya2Vycy5jc3MiLz4KICAgIDxsaW5rIHJlbD0ic3R5bGVzaGVldCIgaHJlZj0iaHR0cHM6Ly9yYXdjZG4uZ2l0aGFjay5jb20vcHl0aG9uLXZpc3VhbGl6YXRpb24vZm9saXVtL21hc3Rlci9mb2xpdW0vdGVtcGxhdGVzL2xlYWZsZXQuYXdlc29tZS5yb3RhdGUuY3NzIi8+CiAgICA8c3R5bGU+aHRtbCwgYm9keSB7d2lkdGg6IDEwMCU7aGVpZ2h0OiAxMDAlO21hcmdpbjogMDtwYWRkaW5nOiAwO308L3N0eWxlPgogICAgPHN0eWxlPiNtYXAge3Bvc2l0aW9uOmFic29sdXRlO3RvcDowO2JvdHRvbTowO3JpZ2h0OjA7bGVmdDowO308L3N0eWxlPgogICAgCiAgICA8bWV0YSBuYW1lPSJ2aWV3cG9ydCIgY29udGVudD0id2lkdGg9ZGV2aWNlLXdpZHRoLAogICAgICAgIGluaXRpYWwtc2NhbGU9MS4wLCBtYXhpbXVtLXNjYWxlPTEuMCwgdXNlci1zY2FsYWJsZT1ubyIgLz4KICAgIDxzdHlsZT4jbWFwX2U4OTYzM2NlOWM1ODRiYzY5Nzc2ZTYxOGFhODk4NzM1IHsKICAgICAgICBwb3NpdGlvbjogcmVsYXRpdmU7CiAgICAgICAgd2lkdGg6IDEwMC4wJTsKICAgICAgICBoZWlnaHQ6IDEwMC4wJTsKICAgICAgICBsZWZ0OiAwLjAlOwogICAgICAgIHRvcDogMC4wJTsKICAgICAgICB9CiAgICA8L3N0eWxlPgo8L2hlYWQ+Cjxib2R5PiAgICAKICAgIAogICAgPGRpdiBjbGFzcz0iZm9saXVtLW1hcCIgaWQ9Im1hcF9lODk2MzNjZTljNTg0YmM2OTc3NmU2MThhYTg5ODczNSIgPjwvZGl2Pgo8L2JvZHk+CjxzY3JpcHQ+ICAgIAogICAgCiAgICAKICAgICAgICB2YXIgYm91bmRzID0gbnVsbDsKICAgIAoKICAgIHZhciBtYXBfZTg5NjMzY2U5YzU4NGJjNjk3NzZlNjE4YWE4OTg3MzUgPSBMLm1hcCgKICAgICAgICAnbWFwX2U4OTYzM2NlOWM1ODRiYzY5Nzc2ZTYxOGFhODk4NzM1JywgewogICAgICAgIGNlbnRlcjogWzQuNzAzNDExLCAtNzQuMTAxNjI0XSwKICAgICAgICB6b29tOiAxMy4yLAogICAgICAgIG1heEJvdW5kczogYm91bmRzLAogICAgICAgIGxheWVyczogW10sCiAgICAgICAgd29ybGRDb3B5SnVtcDogZmFsc2UsCiAgICAgICAgY3JzOiBMLkNSUy5FUFNHMzg1NywKICAgICAgICB6b29tQ29udHJvbDogdHJ1ZSwKICAgICAgICB9KTsKCgogICAgCiAgICB2YXIgdGlsZV9sYXllcl9iMmYxZDNlNjBjYzQ0OWQxYWRmYjdiY2IwMGU5NTgwMyA9IEwudGlsZUxheWVyKAogICAgICAgICdodHRwczovL3tzfS50aWxlLm9wZW5zdHJlZXRtYXAub3JnL3t6fS97eH0ve3l9LnBuZycsCiAgICAgICAgewogICAgICAgICJhdHRyaWJ1dGlvbiI6IG51bGwsCiAgICAgICAgImRldGVjdFJldGluYSI6IGZhbHNlLAogICAgICAgICJtYXhOYXRpdmVab29tIjogMTgsCiAgICAgICAgIm1heFpvb20iOiAxOCwKICAgICAgICAibWluWm9vbSI6IDAsCiAgICAgICAgIm5vV3JhcCI6IGZhbHNlLAogICAgICAgICJvcGFjaXR5IjogMSwKICAgICAgICAic3ViZG9tYWlucyI6ICJhYmMiLAogICAgICAgICJ0bXMiOiBmYWxzZQp9KS5hZGRUbyhtYXBfZTg5NjMzY2U5YzU4NGJjNjk3NzZlNjE4YWE4OTg3MzUpOwogICAgCiAgICAgICAgICAgICAgICB2YXIgcG9seV9saW5lXzgwN2Q1YThlNmY1YTRmY2ViYjQwMmE2NTE1YjM5ODY3ID0gTC5wb2x5bGluZSgKICAgICAgICAgICAgICAgICAgICBbWzQuNjg4MTMyMjU0ODQ2MTA2LCAtNzQuMDgyNjEyOTgxMDAwMDFdLCBbNC42Nzg0MDE2MTA4NDY0MjEsIC03NC4wNzQ0ODA1MjI5OTk5OF1dLAogICAgICAgICAgICAgICAgICAgIHsKICAiYnViYmxpbmdNb3VzZUV2ZW50cyI6IHRydWUsCiAgImNvbG9yIjogIiMzMDAwMDAiLAogICJkYXNoQXJyYXkiOiBudWxsLAogICJkYXNoT2Zmc2V0IjogbnVsbCwKICAiZmlsbCI6IGZhbHNlLAogICJmaWxsQ29sb3IiOiAiIzMwMDAwMCIsCiAgImZpbGxPcGFjaXR5IjogMC4yLAogICJmaWxsUnVsZSI6ICJldmVub2RkIiwKICAibGluZUNhcCI6ICJyb3VuZCIsCiAgImxpbmVKb2luIjogInJvdW5kIiwKICAibm9DbGlwIjogZmFsc2UsCiAgIm9wYWNpdHkiOiAxLAogICJzbW9vdGhGYWN0b3IiOiAxLjAsCiAgInN0cm9rZSI6IHRydWUsCiAgIndlaWdodCI6IDcKfQogICAgICAgICAgICAgICAgICAgICkKICAgICAgICAgICAgICAgICAgICAuYWRkVG8obWFwX2U4OTYzM2NlOWM1ODRiYzY5Nzc2ZTYxOGFhODk4NzM1KTsKICAgICAgICAgICAgCiAgICAKICAgICAgICAgICAgICAgIHZhciBwb2x5X2xpbmVfNGQ5YjkxMjU1ZWMzNDRlZGJmYTI2NjZkZGU0ZjcyMDMgPSBMLnBvbHlsaW5lKAogICAgICAgICAgICAgICAgICAgIFtbNC43MjU5Nzg4OTE4NDQ4NDU1LCAtNzQuMTI0OTQzNjA0MDAwMDFdLCBbNC43MTkzOTIzNjY4NDUwNzIsIC03NC4xMTk2ODY0NzM5OTk5OV1dLAogICAgICAgICAgICAgICAgICAgIHsKICAiYnViYmxpbmdNb3VzZUV2ZW50cyI6IHRydWUsCiAgImNvbG9yIjogIiM2MDAwMDAiLAogICJkYXNoQXJyYXkiOiBudWxsLAogICJkYXNoT2Zmc2V0IjogbnVsbCwKICAiZmlsbCI6IGZhbHNlLAogICJmaWxsQ29sb3IiOiAiIzYwMDAwMCIsCiAgImZpbGxPcGFjaXR5IjogMC4yLAogICJmaWxsUnVsZSI6ICJldmVub2RkIiwKICAibGluZUNhcCI6ICJyb3VuZCIsCiAgImxpbmVKb2luIjogInJvdW5kIiwKICAibm9DbGlwIjogZmFsc2UsCiAgIm9wYWNpdHkiOiAxLAogICJzbW9vdGhGYWN0b3IiOiAxLjAsCiAgInN0cm9rZSI6IHRydWUsCiAgIndlaWdodCI6IDcKfQogICAgICAgICAgICAgICAgICAgICkKICAgICAgICAgICAgICAgICAgICAuYWRkVG8obWFwX2U4OTYzM2NlOWM1ODRiYzY5Nzc2ZTYxOGFhODk4NzM1KTsKICAgICAgICAgICAgCiAgICAKICAgICAgICAgICAgICAgIHZhciBwb2x5X2xpbmVfMWMxYzZmZGMzNTQwNGIwZTllZmQ5ZGY3Y2RkZjVjNzUgPSBMLnBvbHlsaW5lKAogICAgICAgICAgICAgICAgICAgIFtbNC43MDQwNjQ1NTQ4NDU1NjMsIC03NC4xMDM1NzcxMjddLCBbNC43MDAwMDEzMTg4NDU3MTEsIC03NC4wOTc1NDc1MjEwMDAwMl1dLAogICAgICAgICAgICAgICAgICAgIHsKICAiYnViYmxpbmdNb3VzZUV2ZW50cyI6IHRydWUsCiAgImNvbG9yIjogIiM5MDAwMDAiLAogICJkYXNoQXJyYXkiOiBudWxsLAogICJkYXNoT2Zmc2V0IjogbnVsbCwKICAiZmlsbCI6IGZhbHNlLAogICJmaWxsQ29sb3IiOiAiIzkwMDAwMCIsCiAgImZpbGxPcGFjaXR5IjogMC4yLAogICJmaWxsUnVsZSI6ICJldmVub2RkIiwKICAibGluZUNhcCI6ICJyb3VuZCIsCiAgImxpbmVKb2luIjogInJvdW5kIiwKICAibm9DbGlwIjogZmFsc2UsCiAgIm9wYWNpdHkiOiAxLAogICJzbW9vdGhGYWN0b3IiOiAxLjAsCiAgInN0cm9rZSI6IHRydWUsCiAgIndlaWdodCI6IDcKfQogICAgICAgICAgICAgICAgICAgICkKICAgICAgICAgICAgICAgICAgICAuYWRkVG8obWFwX2U4OTYzM2NlOWM1ODRiYzY5Nzc2ZTYxOGFhODk4NzM1KTsKICAgICAgICAgICAgCiAgICAKICAgICAgICAgICAgICAgIHZhciBwb2x5X2xpbmVfMjczOGQ0NzU1ZGEwNDU3ZTlkMzYzZGFkOWMyYTNjN2UgPSBMLnBvbHlsaW5lKAogICAgICAgICAgICAgICAgICAgIFtbNC42OTQwNzc1MDQ4NDU4NzYsIC03NC4wODc0ODExOV0sIFs0LjY4ODM2NzQ5OTg0NjA5NywgLTc0LjA4Mjc4MTk1OTk5OTk4XV0sCiAgICAgICAgICAgICAgICAgICAgewogICJidWJibGluZ01vdXNlRXZlbnRzIjogdHJ1ZSwKICAiY29sb3IiOiAiI2MwMDAwMCIsCiAgImRhc2hBcnJheSI6IG51bGwsCiAgImRhc2hPZmZzZXQiOiBudWxsLAogICJmaWxsIjogZmFsc2UsCiAgImZpbGxDb2xvciI6ICIjYzAwMDAwIiwKICAiZmlsbE9wYWNpdHkiOiAwLjIsCiAgImZpbGxSdWxlIjogImV2ZW5vZGQiLAogICJsaW5lQ2FwIjogInJvdW5kIiwKICAibGluZUpvaW4iOiAicm91bmQiLAogICJub0NsaXAiOiBmYWxzZSwKICAib3BhY2l0eSI6IDEsCiAgInNtb290aEZhY3RvciI6IDEuMCwKICAic3Ryb2tlIjogdHJ1ZSwKICAid2VpZ2h0IjogNwp9CiAgICAgICAgICAgICAgICAgICAgKQogICAgICAgICAgICAgICAgICAgIC5hZGRUbyhtYXBfZTg5NjMzY2U5YzU4NGJjNjk3NzZlNjE4YWE4OTg3MzUpOwogICAgICAgICAgICAKICAgIAogICAgICAgICAgICAgICAgdmFyIHBvbHlfbGluZV8zYjg0ZmE3M2ZjMmE0ODFhYTM0ZWQxNTBlMGRjNzllNyA9IEwucG9seWxpbmUoCiAgICAgICAgICAgICAgICAgICAgW1s0LjY3ODIzMDUyMTg0NjM3OCwgLTc0LjA3NDI4NzQwNDAwMDAyXSwgWzQuNjY4OTQ4ODU1ODQ2NjkyLCAtNzQuMDYzNTgwMDI2MDAwMDFdXSwKICAgICAgICAgICAgICAgICAgICB7CiAgImJ1YmJsaW5nTW91c2VFdmVudHMiOiB0cnVlLAogICJjb2xvciI6ICIjZWYwMDAwIiwKICAiZGFzaEFycmF5IjogbnVsbCwKICAiZGFzaE9mZnNldCI6IG51bGwsCiAgImZpbGwiOiBmYWxzZSwKICAiZmlsbENvbG9yIjogIiNlZjAwMDAiLAogICJmaWxsT3BhY2l0eSI6IDAuMiwKICAiZmlsbFJ1bGUiOiAiZXZlbm9kZCIsCiAgImxpbmVDYXAiOiAicm91bmQiLAogICJsaW5lSm9pbiI6ICJyb3VuZCIsCiAgIm5vQ2xpcCI6IGZhbHNlLAogICJvcGFjaXR5IjogMSwKICAic21vb3RoRmFjdG9yIjogMS4wLAogICJzdHJva2UiOiB0cnVlLAogICJ3ZWlnaHQiOiA3Cn0KICAgICAgICAgICAgICAgICAgICApCiAgICAgICAgICAgICAgICAgICAgLmFkZFRvKG1hcF9lODk2MzNjZTljNTg0YmM2OTc3NmU2MThhYTg5ODczNSk7CiAgICAgICAgICAgIAogICAgCiAgICAgICAgICAgICAgICB2YXIgcG9seV9saW5lX2VlYmRlYzBiN2M3ZDRkMGFhMzg2MGM2MWY4YWEwMmU0ID0gTC5wb2x5bGluZSgKICAgICAgICAgICAgICAgICAgICBbWzQuNjk3MzQ5NTA5ODQ1NzYxLCAtNzQuMDkzMzE3Njc3MDAwMDJdLCBbNC42OTQyOTEzNjE4NDU4ODMsIC03NC4wODc3MTcyMjVdXSwKICAgICAgICAgICAgICAgICAgICB7CiAgImJ1YmJsaW5nTW91c2VFdmVudHMiOiB0cnVlLAogICJjb2xvciI6ICIjZmY1MDUwIiwKICAiZGFzaEFycmF5IjogbnVsbCwKICAiZGFzaE9mZnNldCI6IG51bGwsCiAgImZpbGwiOiBmYWxzZSwKICAiZmlsbENvbG9yIjogIiNmZjUwNTAiLAogICJmaWxsT3BhY2l0eSI6IDAuMiwKICAiZmlsbFJ1bGUiOiAiZXZlbm9kZCIsCiAgImxpbmVDYXAiOiAicm91bmQiLAogICJsaW5lSm9pbiI6ICJyb3VuZCIsCiAgIm5vQ2xpcCI6IGZhbHNlLAogICJvcGFjaXR5IjogMSwKICAic21vb3RoRmFjdG9yIjogMS4wLAogICJzdHJva2UiOiB0cnVlLAogICJ3ZWlnaHQiOiA3Cn0KICAgICAgICAgICAgICAgICAgICApCiAgICAgICAgICAgICAgICAgICAgLmFkZFRvKG1hcF9lODk2MzNjZTljNTg0YmM2OTc3NmU2MThhYTg5ODczNSk7CiAgICAgICAgICAgIAogICAgCiAgICAgICAgICAgICAgICB2YXIgcG9seV9saW5lXzM1MmY4MTE3ZmI2NTQyNTBiZDNkY2ZlZjE2YTQ2ODk0ID0gTC5wb2x5bGluZSgKICAgICAgICAgICAgICAgICAgICBbWzQuNjY4NzczNzUzODQ2NjgzLCAtNzQuMDYzNDA1MzQ3MDAwMDFdLCBbNC42NjU4NDkxNDc4NDY4MTQsIC03NC4wNjEwNTg3NDg5OTk5OF1dLAogICAgICAgICAgICAgICAgICAgIHsKICAiYnViYmxpbmdNb3VzZUV2ZW50cyI6IHRydWUsCiAgImNvbG9yIjogIiNmZjkwOTAiLAogICJkYXNoQXJyYXkiOiBudWxsLAogICJkYXNoT2Zmc2V0IjogbnVsbCwKICAiZmlsbCI6IGZhbHNlLAogICJmaWxsQ29sb3IiOiAiI2ZmOTA5MCIsCiAgImZpbGxPcGFjaXR5IjogMC4yLAogICJmaWxsUnVsZSI6ICJldmVub2RkIiwKICAibGluZUNhcCI6ICJyb3VuZCIsCiAgImxpbmVKb2luIjogInJvdW5kIiwKICAibm9DbGlwIjogZmFsc2UsCiAgIm9wYWNpdHkiOiAxLAogICJzbW9vdGhGYWN0b3IiOiAxLjAsCiAgInN0cm9rZSI6IHRydWUsCiAgIndlaWdodCI6IDcKfQogICAgICAgICAgICAgICAgICAgICkKICAgICAgICAgICAgICAgICAgICAuYWRkVG8obWFwX2U4OTYzM2NlOWM1ODRiYzY5Nzc2ZTYxOGFhODk4NzM1KTsKICAgICAgICAgICAgCiAgICAKICAgICAgICAgICAgICAgIHZhciBwb2x5X2xpbmVfMGI4ZjdhZGMyZTQxNGNjYzlmZjQ4ZGRhYjFmNTdkZmYgPSBMLnBvbHlsaW5lKAogICAgICAgICAgICAgICAgICAgIFtbNC43MTExODU4NTQ4NDUzMjMsIC03NC4xMTM3NDgwNjNdLCBbNC43MDcxODY4MTU4NDU0NDYsIC03NC4xMDk2NzExMDYwMDAwMV1dLAogICAgICAgICAgICAgICAgICAgIHsKICAiYnViYmxpbmdNb3VzZUV2ZW50cyI6IHRydWUsCiAgImNvbG9yIjogIiNmZmEwYTAiLAogICJkYXNoQXJyYXkiOiBudWxsLAogICJkYXNoT2Zmc2V0IjogbnVsbCwKICAiZmlsbCI6IGZhbHNlLAogICJmaWxsQ29sb3IiOiAiI2ZmYTBhMCIsCiAgImZpbGxPcGFjaXR5IjogMC4yLAogICJmaWxsUnVsZSI6ICJldmVub2RkIiwKICAibGluZUNhcCI6ICJyb3VuZCIsCiAgImxpbmVKb2luIjogInJvdW5kIiwKICAibm9DbGlwIjogZmFsc2UsCiAgIm9wYWNpdHkiOiAxLAogICJzbW9vdGhGYWN0b3IiOiAxLjAsCiAgInN0cm9rZSI6IHRydWUsCiAgIndlaWdodCI6IDcKfQogICAgICAgICAgICAgICAgICAgICkKICAgICAgICAgICAgICAgICAgICAuYWRkVG8obWFwX2U4OTYzM2NlOWM1ODRiYzY5Nzc2ZTYxOGFhODk4NzM1KTsKICAgICAgICAgICAgCiAgICAKICAgICAgICAgICAgICAgIHZhciBwb2x5X2xpbmVfZTAxODc3MmFlZTJkNDU3Y2IzNmRjZTZiNWJmZWU5YmUgPSBMLnBvbHlsaW5lKAogICAgICAgICAgICAgICAgICAgIFtbNC43MTkyODAwOTY4NDUwODgsIC03NC4xMTk1NTIzNjQwMDAwMV0sIFs0LjcxMTM4OTAxMzg0NTM0MDUsIC03NC4xMTM4NDQ2MjI5OTk5OF1dLAogICAgICAgICAgICAgICAgICAgIHsKICAiYnViYmxpbmdNb3VzZUV2ZW50cyI6IHRydWUsCiAgImNvbG9yIjogIiNmZmIwYjAiLAogICJkYXNoQXJyYXkiOiBudWxsLAogICJkYXNoT2Zmc2V0IjogbnVsbCwKICAiZmlsbCI6IGZhbHNlLAogICJmaWxsQ29sb3IiOiAiI2ZmYjBiMCIsCiAgImZpbGxPcGFjaXR5IjogMC4yLAogICJmaWxsUnVsZSI6ICJldmVub2RkIiwKICAibGluZUNhcCI6ICJyb3VuZCIsCiAgImxpbmVKb2luIjogInJvdW5kIiwKICAibm9DbGlwIjogZmFsc2UsCiAgIm9wYWNpdHkiOiAxLAogICJzbW9vdGhGYWN0b3IiOiAxLjAsCiAgInN0cm9rZSI6IHRydWUsCiAgIndlaWdodCI6IDcKfQogICAgICAgICAgICAgICAgICAgICkKICAgICAgICAgICAgICAgICAgICAuYWRkVG8obWFwX2U4OTYzM2NlOWM1ODRiYzY5Nzc2ZTYxOGFhODk4NzM1KTsKICAgICAgICAgICAgCiAgICAKICAgICAgICAgICAgICAgIHZhciBwb2x5X2xpbmVfYjlmZjcwZTIxNWY1NGQwOGE0ZTdhMDg4YzZiMjIwNzggPSBMLnBvbHlsaW5lKAogICAgICAgICAgICAgICAgICAgIFtbNC42OTk5MTU3NzY4NDU2OTQsIC03NC4wOTczNTQ0MDIwMDAwMV0sIFs0LjY5NzQ3NzgyMjg0NTc2NCwgLTc0LjA5MzU1NjM5NDAwMDAyXV0sCiAgICAgICAgICAgICAgICAgICAgewogICJidWJibGluZ01vdXNlRXZlbnRzIjogdHJ1ZSwKICAiY29sb3IiOiAiI2ZmY2ZjZiIsCiAgImRhc2hBcnJheSI6IG51bGwsCiAgImRhc2hPZmZzZXQiOiBudWxsLAogICJmaWxsIjogZmFsc2UsCiAgImZpbGxDb2xvciI6ICIjZmZjZmNmIiwKICAiZmlsbE9wYWNpdHkiOiAwLjIsCiAgImZpbGxSdWxlIjogImV2ZW5vZGQiLAogICJsaW5lQ2FwIjogInJvdW5kIiwKICAibGluZUpvaW4iOiAicm91bmQiLAogICJub0NsaXAiOiBmYWxzZSwKICAib3BhY2l0eSI6IDEsCiAgInNtb290aEZhY3RvciI6IDEuMCwKICAic3Ryb2tlIjogdHJ1ZSwKICAid2VpZ2h0IjogNwp9CiAgICAgICAgICAgICAgICAgICAgKQogICAgICAgICAgICAgICAgICAgIC5hZGRUbyhtYXBfZTg5NjMzY2U5YzU4NGJjNjk3NzZlNjE4YWE4OTg3MzUpOwogICAgICAgICAgICAKICAgIAogICAgICAgICAgICAgICAgdmFyIHBvbHlfbGluZV85Yzk1NmM1NzA1Zjc0OGQ3YmRiZGNiMDQ1NDFkYzEwNSA9IEwucG9seWxpbmUoCiAgICAgICAgICAgICAgICAgICAgW1s0LjcwNzA3OTg4ODg0NTQ1NywgLTc0LjEwOTQ3Nzk4Njk5OTk5XSwgWzQuNzA0MDY0NTU0ODQ1NTYzLCAtNzQuMTAzNjg0NDE0OTk5OThdXSwKICAgICAgICAgICAgICAgICAgICB7CiAgImJ1YmJsaW5nTW91c2VFdmVudHMiOiB0cnVlLAogICJjb2xvciI6ICIjZmZlZmVmIiwKICAiZGFzaEFycmF5IjogbnVsbCwKICAiZGFzaE9mZnNldCI6IG51bGwsCiAgImZpbGwiOiBmYWxzZSwKICAiZmlsbENvbG9yIjogIiNmZmVmZWYiLAogICJmaWxsT3BhY2l0eSI6IDAuMiwKICAiZmlsbFJ1bGUiOiAiZXZlbm9kZCIsCiAgImxpbmVDYXAiOiAicm91bmQiLAogICJsaW5lSm9pbiI6ICJyb3VuZCIsCiAgIm5vQ2xpcCI6IGZhbHNlLAogICJvcGFjaXR5IjogMSwKICAic21vb3RoRmFjdG9yIjogMS4wLAogICJzdHJva2UiOiB0cnVlLAogICJ3ZWlnaHQiOiA3Cn0KICAgICAgICAgICAgICAgICAgICApCiAgICAgICAgICAgICAgICAgICAgLmFkZFRvKG1hcF9lODk2MzNjZTljNTg0YmM2OTc3NmU2MThhYTg5ODczNSk7CiAgICAgICAgICAgIAo8L3NjcmlwdD4= onload=\"this.contentDocument.open();this.contentDocument.write(atob(this.getAttribute('data-html')));this.contentDocument.close();\" \"allowfullscreen\" \"webkitallowfullscreen\" \"mozallowfullscreen\"></iframe>"
            ],
            "text/plain": [
              "<branca.element.Figure at 0x7fd7c2cbe908>"
            ]
          },
          "metadata": {
            "tags": []
          },
          "execution_count": 28
        }
      ]
    },
    {
      "cell_type": "code",
      "metadata": {
        "id": "er9VNaccgikh"
      },
      "source": [
        ""
      ],
      "execution_count": null,
      "outputs": []
    },
    {
      "cell_type": "markdown",
      "metadata": {
        "id": "7ek8R2IirErw"
      },
      "source": [
        "# **R N D C**"
      ]
    },
    {
      "cell_type": "code",
      "metadata": {
        "id": "Zo6gbwvcrLM2"
      },
      "source": [
        "df_rndc = pd.read_sql(''' SELECT * FROM carguebogota.rndc ''', conn)"
      ],
      "execution_count": 9,
      "outputs": []
    },
    {
      "cell_type": "code",
      "metadata": {
        "id": "ihLr8V-WrksZ",
        "outputId": "0f1dc982-fcec-4e52-f746-d658eb968a6a",
        "colab": {
          "base_uri": "https://localhost:8080/",
          "height": 425
        }
      },
      "source": [
        "df_rndc.info()"
      ],
      "execution_count": 10,
      "outputs": [
        {
          "output_type": "stream",
          "text": [
            "<class 'pandas.core.frame.DataFrame'>\n",
            "RangeIndex: 2575191 entries, 0 to 2575190\n",
            "Data columns (total 17 columns):\n",
            " #   Column          Dtype  \n",
            "---  ------          -----  \n",
            " 0   weekday         object \n",
            " 1   year            int64  \n",
            " 2   month           int64  \n",
            " 3   date            object \n",
            " 4   hour            object \n",
            " 5   operation_code  bool   \n",
            " 6   city_cod        int64  \n",
            " 7   city            object \n",
            " 8   paid_vale       float64\n",
            " 9   a_remittances   int64  \n",
            " 10  cod_product     object \n",
            " 11  product         object \n",
            " 12  plaque          int64  \n",
            " 13  setting         object \n",
            " 14  corridor        object \n",
            " 15  driver          float64\n",
            " 16  corridor_2      object \n",
            "dtypes: bool(1), float64(2), int64(5), object(9)\n",
            "memory usage: 316.8+ MB\n"
          ],
          "name": "stdout"
        }
      ]
    },
    {
      "cell_type": "code",
      "metadata": {
        "id": "9szA2un_sc59",
        "outputId": "abaab04b-dc6f-443a-bb76-8c0a79ef65dc",
        "colab": {
          "base_uri": "https://localhost:8080/",
          "height": 564
        }
      },
      "source": [
        "df_rndc.head()"
      ],
      "execution_count": null,
      "outputs": [
        {
          "output_type": "execute_result",
          "data": {
            "text/html": [
              "<div>\n",
              "<style scoped>\n",
              "    .dataframe tbody tr th:only-of-type {\n",
              "        vertical-align: middle;\n",
              "    }\n",
              "\n",
              "    .dataframe tbody tr th {\n",
              "        vertical-align: top;\n",
              "    }\n",
              "\n",
              "    .dataframe thead th {\n",
              "        text-align: right;\n",
              "    }\n",
              "</style>\n",
              "<table border=\"1\" class=\"dataframe\">\n",
              "  <thead>\n",
              "    <tr style=\"text-align: right;\">\n",
              "      <th></th>\n",
              "      <th>weekday</th>\n",
              "      <th>year</th>\n",
              "      <th>month</th>\n",
              "      <th>date</th>\n",
              "      <th>hour</th>\n",
              "      <th>operation_code</th>\n",
              "      <th>city_cod</th>\n",
              "      <th>city</th>\n",
              "      <th>paid_vale</th>\n",
              "      <th>a_remittances</th>\n",
              "      <th>cod_product</th>\n",
              "      <th>product</th>\n",
              "      <th>plaque</th>\n",
              "      <th>setting</th>\n",
              "      <th>corridor</th>\n",
              "      <th>driver</th>\n",
              "      <th>corridor_2</th>\n",
              "    </tr>\n",
              "  </thead>\n",
              "  <tbody>\n",
              "    <tr>\n",
              "      <th>0</th>\n",
              "      <td>Martes</td>\n",
              "      <td>2019</td>\n",
              "      <td>9</td>\n",
              "      <td>2019-09-10</td>\n",
              "      <td>15:45:00</td>\n",
              "      <td>False</td>\n",
              "      <td>25754000</td>\n",
              "      <td>SOACHA CUNDINAMARCA</td>\n",
              "      <td>259699.0</td>\n",
              "      <td>1</td>\n",
              "      <td>2520</td>\n",
              "      <td>SAL; AZUFRE; TIERRAS Y PIEDRAS; YESOS; CALES Y...</td>\n",
              "      <td>212666</td>\n",
              "      <td>2</td>\n",
              "      <td>AUTO SUR</td>\n",
              "      <td>129694.0</td>\n",
              "      <td>NA</td>\n",
              "    </tr>\n",
              "    <tr>\n",
              "      <th>1</th>\n",
              "      <td>Miercoles</td>\n",
              "      <td>2019</td>\n",
              "      <td>9</td>\n",
              "      <td>2019-09-11</td>\n",
              "      <td>12:00:00</td>\n",
              "      <td>False</td>\n",
              "      <td>25754000</td>\n",
              "      <td>SOACHA CUNDINAMARCA</td>\n",
              "      <td>27609.0</td>\n",
              "      <td>2</td>\n",
              "      <td>2520</td>\n",
              "      <td>SAL; AZUFRE; TIERRAS Y PIEDRAS; YESOS; CALES Y...</td>\n",
              "      <td>212666</td>\n",
              "      <td>2</td>\n",
              "      <td>AUTO SUR</td>\n",
              "      <td>129694.0</td>\n",
              "      <td>NA</td>\n",
              "    </tr>\n",
              "    <tr>\n",
              "      <th>2</th>\n",
              "      <td>Martes</td>\n",
              "      <td>2019</td>\n",
              "      <td>4</td>\n",
              "      <td>2019-04-30</td>\n",
              "      <td>17:00:00</td>\n",
              "      <td>True</td>\n",
              "      <td>50001000</td>\n",
              "      <td>VILLAVICENCIO META</td>\n",
              "      <td>610.0</td>\n",
              "      <td>1</td>\n",
              "      <td>208</td>\n",
              "      <td>CARNES Y DESPOJOS COMESTIBLES LAS DEMAS CARNES...</td>\n",
              "      <td>41449</td>\n",
              "      <td>2</td>\n",
              "      <td>VIA AL LLANO</td>\n",
              "      <td>177598.0</td>\n",
              "      <td>AUTO NORTE</td>\n",
              "    </tr>\n",
              "    <tr>\n",
              "      <th>3</th>\n",
              "      <td>Sabado</td>\n",
              "      <td>2019</td>\n",
              "      <td>9</td>\n",
              "      <td>2019-09-14</td>\n",
              "      <td>14:45:00</td>\n",
              "      <td>False</td>\n",
              "      <td>25754000</td>\n",
              "      <td>SOACHA CUNDINAMARCA</td>\n",
              "      <td>31609.0</td>\n",
              "      <td>1</td>\n",
              "      <td>2520</td>\n",
              "      <td>SAL; AZUFRE; TIERRAS Y PIEDRAS; YESOS; CALES Y...</td>\n",
              "      <td>212666</td>\n",
              "      <td>2</td>\n",
              "      <td>AUTO SUR</td>\n",
              "      <td>129694.0</td>\n",
              "      <td>NA</td>\n",
              "    </tr>\n",
              "    <tr>\n",
              "      <th>4</th>\n",
              "      <td>Lunes</td>\n",
              "      <td>2019</td>\n",
              "      <td>9</td>\n",
              "      <td>2019-09-16</td>\n",
              "      <td>19:00:00</td>\n",
              "      <td>False</td>\n",
              "      <td>25754000</td>\n",
              "      <td>SOACHA CUNDINAMARCA</td>\n",
              "      <td>299699.0</td>\n",
              "      <td>2</td>\n",
              "      <td>2520</td>\n",
              "      <td>SAL; AZUFRE; TIERRAS Y PIEDRAS; YESOS; CALES Y...</td>\n",
              "      <td>212666</td>\n",
              "      <td>2</td>\n",
              "      <td>AUTO SUR</td>\n",
              "      <td>129694.0</td>\n",
              "      <td>NA</td>\n",
              "    </tr>\n",
              "  </tbody>\n",
              "</table>\n",
              "</div>"
            ],
            "text/plain": [
              "     weekday  year  month  ...      corridor    driver  corridor_2\n",
              "0     Martes  2019      9  ...      AUTO SUR  129694.0          NA\n",
              "1  Miercoles  2019      9  ...      AUTO SUR  129694.0          NA\n",
              "2     Martes  2019      4  ...  VIA AL LLANO  177598.0  AUTO NORTE\n",
              "3     Sabado  2019      9  ...      AUTO SUR  129694.0          NA\n",
              "4      Lunes  2019      9  ...      AUTO SUR  129694.0          NA\n",
              "\n",
              "[5 rows x 17 columns]"
            ]
          },
          "metadata": {
            "tags": []
          },
          "execution_count": 7
        }
      ]
    },
    {
      "cell_type": "code",
      "metadata": {
        "id": "IiHNvqvCuXbd",
        "outputId": "d8e6af5f-ac2e-4930-a564-bbdb01a00205",
        "colab": {
          "base_uri": "https://localhost:8080/",
          "height": 323
        }
      },
      "source": [
        "#Operation code. False: Llegando o descargue en Bogotá\n",
        "#Operation code. True: Saliendo o cargue en Bogotá\n",
        "df_rndc[['operation_code','date']].groupby('operation_code').count().plot.bar()"
      ],
      "execution_count": null,
      "outputs": [
        {
          "output_type": "execute_result",
          "data": {
            "text/plain": [
              "<matplotlib.axes._subplots.AxesSubplot at 0x7f76e7e8b518>"
            ]
          },
          "metadata": {
            "tags": []
          },
          "execution_count": 8
        },
        {
          "output_type": "display_data",
          "data": {
            "image/png": "[encoded data removed]",
            "text/plain": [
              "<Figure size 432x288 with 1 Axes>"
            ]
          },
          "metadata": {
            "tags": []
          }
        }
      ]
    },
    {
      "cell_type": "code",
      "metadata": {
        "id": "Ufi8Dok29lnG",
        "outputId": "078ef0f4-fc97-4df0-e0b2-2ced407e8232",
        "colab": {
          "base_uri": "https://localhost:8080/",
          "height": 34
        }
      },
      "source": [
        "df_rndc['city'].unique().shape"
      ],
      "execution_count": null,
      "outputs": [
        {
          "output_type": "execute_result",
          "data": {
            "text/plain": [
              "(1712,)"
            ]
          },
          "metadata": {
            "tags": []
          },
          "execution_count": 9
        }
      ]
    },
    {
      "cell_type": "code",
      "metadata": {
        "id": "2O6HEuHTsenI",
        "outputId": "abfba112-2d87-485b-ab56-de36bd514c98",
        "colab": {
          "base_uri": "https://localhost:8080/",
          "height": 1000
        }
      },
      "source": [
        "df_rndc[['weekday','city']].groupby('city').count().sort_values('weekday',ascending = False).head(30)"
      ],
      "execution_count": null,
      "outputs": [
        {
          "output_type": "execute_result",
          "data": {
            "text/html": [
              "<div>\n",
              "<style scoped>\n",
              "    .dataframe tbody tr th:only-of-type {\n",
              "        vertical-align: middle;\n",
              "    }\n",
              "\n",
              "    .dataframe tbody tr th {\n",
              "        vertical-align: top;\n",
              "    }\n",
              "\n",
              "    .dataframe thead th {\n",
              "        text-align: right;\n",
              "    }\n",
              "</style>\n",
              "<table border=\"1\" class=\"dataframe\">\n",
              "  <thead>\n",
              "    <tr style=\"text-align: right;\">\n",
              "      <th></th>\n",
              "      <th>weekday</th>\n",
              "    </tr>\n",
              "    <tr>\n",
              "      <th>city</th>\n",
              "      <th></th>\n",
              "    </tr>\n",
              "  </thead>\n",
              "  <tbody>\n",
              "    <tr>\n",
              "      <th>FUNZA CUNDINAMARCA</th>\n",
              "      <td>256979</td>\n",
              "    </tr>\n",
              "    <tr>\n",
              "      <th>CARTAGENA BOLIVAR</th>\n",
              "      <td>155853</td>\n",
              "    </tr>\n",
              "    <tr>\n",
              "      <th>MEDELLIN ANTIOQUIA</th>\n",
              "      <td>148437</td>\n",
              "    </tr>\n",
              "    <tr>\n",
              "      <th>CALI VALLE DEL CAUCA</th>\n",
              "      <td>145704</td>\n",
              "    </tr>\n",
              "    <tr>\n",
              "      <th>BUENAVENTURA VALLE DEL CAUCA</th>\n",
              "      <td>142725</td>\n",
              "    </tr>\n",
              "    <tr>\n",
              "      <th>TOCANCIPA CUNDINAMARCA</th>\n",
              "      <td>97726</td>\n",
              "    </tr>\n",
              "    <tr>\n",
              "      <th>BARRANQUILLA ATLANTICO</th>\n",
              "      <td>95883</td>\n",
              "    </tr>\n",
              "    <tr>\n",
              "      <th>COTA CUNDINAMARCA</th>\n",
              "      <td>92458</td>\n",
              "    </tr>\n",
              "    <tr>\n",
              "      <th>BUCARAMANGA SANTANDER</th>\n",
              "      <td>78891</td>\n",
              "    </tr>\n",
              "    <tr>\n",
              "      <th>VILLAVICENCIO META</th>\n",
              "      <td>56566</td>\n",
              "    </tr>\n",
              "    <tr>\n",
              "      <th>FACATATIVA CUNDINAMARCA</th>\n",
              "      <td>52672</td>\n",
              "    </tr>\n",
              "    <tr>\n",
              "      <th>IBAGUE TOLIMA</th>\n",
              "      <td>48273</td>\n",
              "    </tr>\n",
              "    <tr>\n",
              "      <th>TENJO CUNDINAMARCA</th>\n",
              "      <td>47620</td>\n",
              "    </tr>\n",
              "    <tr>\n",
              "      <th>PEREIRA RISARALDA</th>\n",
              "      <td>46306</td>\n",
              "    </tr>\n",
              "    <tr>\n",
              "      <th>MADRID CUNDINAMARCA</th>\n",
              "      <td>43177</td>\n",
              "    </tr>\n",
              "    <tr>\n",
              "      <th>MOSQUERA CUNDINAMARCA</th>\n",
              "      <td>41407</td>\n",
              "    </tr>\n",
              "    <tr>\n",
              "      <th>YUMBO VALLE DEL CAUCA</th>\n",
              "      <td>40117</td>\n",
              "    </tr>\n",
              "    <tr>\n",
              "      <th>SABANETA ANTIOQUIA</th>\n",
              "      <td>39135</td>\n",
              "    </tr>\n",
              "    <tr>\n",
              "      <th>CUCUTA NORTE DE SANTANDER</th>\n",
              "      <td>36373</td>\n",
              "    </tr>\n",
              "    <tr>\n",
              "      <th>NEIVA HUILA</th>\n",
              "      <td>34089</td>\n",
              "    </tr>\n",
              "    <tr>\n",
              "      <th>CAJICA CUNDINAMARCA</th>\n",
              "      <td>31894</td>\n",
              "    </tr>\n",
              "    <tr>\n",
              "      <th>ITAGUI ANTIOQUIA</th>\n",
              "      <td>25744</td>\n",
              "    </tr>\n",
              "    <tr>\n",
              "      <th>SOGAMOSO BOYACA</th>\n",
              "      <td>24682</td>\n",
              "    </tr>\n",
              "    <tr>\n",
              "      <th>MANIZALES CALDAS</th>\n",
              "      <td>23887</td>\n",
              "    </tr>\n",
              "    <tr>\n",
              "      <th>CHIA CUNDINAMARCA</th>\n",
              "      <td>23573</td>\n",
              "    </tr>\n",
              "    <tr>\n",
              "      <th>YOPAL CASANARE</th>\n",
              "      <td>23505</td>\n",
              "    </tr>\n",
              "    <tr>\n",
              "      <th>SOACHA CUNDINAMARCA</th>\n",
              "      <td>22311</td>\n",
              "    </tr>\n",
              "    <tr>\n",
              "      <th>SANTA MARTA MAGDALENA</th>\n",
              "      <td>21635</td>\n",
              "    </tr>\n",
              "    <tr>\n",
              "      <th>TUNJA BOYACA</th>\n",
              "      <td>21105</td>\n",
              "    </tr>\n",
              "    <tr>\n",
              "      <th>ZIPAQUIRA CUNDINAMARCA</th>\n",
              "      <td>20987</td>\n",
              "    </tr>\n",
              "  </tbody>\n",
              "</table>\n",
              "</div>"
            ],
            "text/plain": [
              "                              weekday\n",
              "city                                 \n",
              "FUNZA CUNDINAMARCA             256979\n",
              "CARTAGENA BOLIVAR              155853\n",
              "MEDELLIN ANTIOQUIA             148437\n",
              "CALI VALLE DEL CAUCA           145704\n",
              "BUENAVENTURA VALLE DEL CAUCA   142725\n",
              "TOCANCIPA CUNDINAMARCA          97726\n",
              "BARRANQUILLA ATLANTICO          95883\n",
              "COTA CUNDINAMARCA               92458\n",
              "BUCARAMANGA SANTANDER           78891\n",
              "VILLAVICENCIO META              56566\n",
              "FACATATIVA CUNDINAMARCA         52672\n",
              "IBAGUE TOLIMA                   48273\n",
              "TENJO CUNDINAMARCA              47620\n",
              "PEREIRA RISARALDA               46306\n",
              "MADRID CUNDINAMARCA             43177\n",
              "MOSQUERA CUNDINAMARCA           41407\n",
              "YUMBO VALLE DEL CAUCA           40117\n",
              "SABANETA ANTIOQUIA              39135\n",
              "CUCUTA NORTE DE SANTANDER       36373\n",
              "NEIVA HUILA                     34089\n",
              "CAJICA CUNDINAMARCA             31894\n",
              "ITAGUI ANTIOQUIA                25744\n",
              "SOGAMOSO BOYACA                 24682\n",
              "MANIZALES CALDAS                23887\n",
              "CHIA CUNDINAMARCA               23573\n",
              "YOPAL CASANARE                  23505\n",
              "SOACHA CUNDINAMARCA             22311\n",
              "SANTA MARTA MAGDALENA           21635\n",
              "TUNJA BOYACA                    21105\n",
              "ZIPAQUIRA CUNDINAMARCA          20987"
            ]
          },
          "metadata": {
            "tags": []
          },
          "execution_count": 10
        }
      ]
    },
    {
      "cell_type": "code",
      "metadata": {
        "id": "-hCFvzmOuu5O",
        "outputId": "fbf9c31c-fe03-47be-a5fd-88d3778881d4",
        "colab": {
          "base_uri": "https://localhost:8080/",
          "height": 917
        }
      },
      "source": [
        "df_rndc[['year','setting']].groupby('setting').count().sort_values('year',ascending = False) "
      ],
      "execution_count": null,
      "outputs": [
        {
          "output_type": "execute_result",
          "data": {
            "text/html": [
              "<div>\n",
              "<style scoped>\n",
              "    .dataframe tbody tr th:only-of-type {\n",
              "        vertical-align: middle;\n",
              "    }\n",
              "\n",
              "    .dataframe tbody tr th {\n",
              "        vertical-align: top;\n",
              "    }\n",
              "\n",
              "    .dataframe thead th {\n",
              "        text-align: right;\n",
              "    }\n",
              "</style>\n",
              "<table border=\"1\" class=\"dataframe\">\n",
              "  <thead>\n",
              "    <tr style=\"text-align: right;\">\n",
              "      <th></th>\n",
              "      <th>year</th>\n",
              "    </tr>\n",
              "    <tr>\n",
              "      <th>setting</th>\n",
              "      <th></th>\n",
              "    </tr>\n",
              "  </thead>\n",
              "  <tbody>\n",
              "    <tr>\n",
              "      <th>2</th>\n",
              "      <td>1587637</td>\n",
              "    </tr>\n",
              "    <tr>\n",
              "      <th>3S3</th>\n",
              "      <td>385481</td>\n",
              "    </tr>\n",
              "    <tr>\n",
              "      <th>3S2</th>\n",
              "      <td>192632</td>\n",
              "    </tr>\n",
              "    <tr>\n",
              "      <th>2S2</th>\n",
              "      <td>165241</td>\n",
              "    </tr>\n",
              "    <tr>\n",
              "      <th>CA</th>\n",
              "      <td>133277</td>\n",
              "    </tr>\n",
              "    <tr>\n",
              "      <th>3</th>\n",
              "      <td>71170</td>\n",
              "    </tr>\n",
              "    <tr>\n",
              "      <th>2S3</th>\n",
              "      <td>33807</td>\n",
              "    </tr>\n",
              "    <tr>\n",
              "      <th>4</th>\n",
              "      <td>3051</td>\n",
              "    </tr>\n",
              "    <tr>\n",
              "      <th>3S4</th>\n",
              "      <td>918</td>\n",
              "    </tr>\n",
              "    <tr>\n",
              "      <th>2R2</th>\n",
              "      <td>677</td>\n",
              "    </tr>\n",
              "    <tr>\n",
              "      <th>2B2</th>\n",
              "      <td>323</td>\n",
              "    </tr>\n",
              "    <tr>\n",
              "      <th>2S1</th>\n",
              "      <td>277</td>\n",
              "    </tr>\n",
              "    <tr>\n",
              "      <th>3R3</th>\n",
              "      <td>209</td>\n",
              "    </tr>\n",
              "    <tr>\n",
              "      <th>2B1</th>\n",
              "      <td>119</td>\n",
              "    </tr>\n",
              "    <tr>\n",
              "      <th>3B2</th>\n",
              "      <td>111</td>\n",
              "    </tr>\n",
              "    <tr>\n",
              "      <th>3S1</th>\n",
              "      <td>105</td>\n",
              "    </tr>\n",
              "    <tr>\n",
              "      <th>3R2</th>\n",
              "      <td>87</td>\n",
              "    </tr>\n",
              "    <tr>\n",
              "      <th>2R3</th>\n",
              "      <td>28</td>\n",
              "    </tr>\n",
              "    <tr>\n",
              "      <th>V3</th>\n",
              "      <td>23</td>\n",
              "    </tr>\n",
              "    <tr>\n",
              "      <th>3S3S2</th>\n",
              "      <td>4</td>\n",
              "    </tr>\n",
              "    <tr>\n",
              "      <th>4R2</th>\n",
              "      <td>4</td>\n",
              "    </tr>\n",
              "    <tr>\n",
              "      <th>V2</th>\n",
              "      <td>3</td>\n",
              "    </tr>\n",
              "    <tr>\n",
              "      <th>3B3</th>\n",
              "      <td>2</td>\n",
              "    </tr>\n",
              "    <tr>\n",
              "      <th>4R4</th>\n",
              "      <td>2</td>\n",
              "    </tr>\n",
              "    <tr>\n",
              "      <th>3S2S3</th>\n",
              "      <td>1</td>\n",
              "    </tr>\n",
              "    <tr>\n",
              "      <th>3S2S2</th>\n",
              "      <td>1</td>\n",
              "    </tr>\n",
              "    <tr>\n",
              "      <th>4R3</th>\n",
              "      <td>1</td>\n",
              "    </tr>\n",
              "  </tbody>\n",
              "</table>\n",
              "</div>"
            ],
            "text/plain": [
              "            year\n",
              "setting         \n",
              "2        1587637\n",
              "3S3       385481\n",
              "3S2       192632\n",
              "2S2       165241\n",
              "CA        133277\n",
              "3          71170\n",
              "2S3        33807\n",
              "4           3051\n",
              "3S4          918\n",
              "2R2          677\n",
              "2B2          323\n",
              "2S1          277\n",
              "3R3          209\n",
              "2B1          119\n",
              "3B2          111\n",
              "3S1          105\n",
              "3R2           87\n",
              "2R3           28\n",
              "V3            23\n",
              "3S3S2          4\n",
              "4R2            4\n",
              "V2             3\n",
              "3B3            2\n",
              "4R4            2\n",
              "3S2S3          1\n",
              "3S2S2          1\n",
              "4R3            1"
            ]
          },
          "metadata": {
            "tags": []
          },
          "execution_count": 11
        }
      ]
    },
    {
      "cell_type": "code",
      "metadata": {
        "id": "xpR53LYDnULt",
        "outputId": "efb46e46-f842-41ad-e58c-0423a8047c64",
        "colab": {
          "base_uri": "https://localhost:8080/",
          "height": 467
        }
      },
      "source": [
        "df_rndc[['year','product']].groupby('product').count().sort_values('year',ascending = False)"
      ],
      "execution_count": 11,
      "outputs": [
        {
          "output_type": "execute_result",
          "data": {
            "text/html": [
              "<div>\n",
              "<style scoped>\n",
              "    .dataframe tbody tr th:only-of-type {\n",
              "        vertical-align: middle;\n",
              "    }\n",
              "\n",
              "    .dataframe tbody tr th {\n",
              "        vertical-align: top;\n",
              "    }\n",
              "\n",
              "    .dataframe thead th {\n",
              "        text-align: right;\n",
              "    }\n",
              "</style>\n",
              "<table border=\"1\" class=\"dataframe\">\n",
              "  <thead>\n",
              "    <tr style=\"text-align: right;\">\n",
              "      <th></th>\n",
              "      <th>year</th>\n",
              "    </tr>\n",
              "    <tr>\n",
              "      <th>product</th>\n",
              "      <th></th>\n",
              "    </tr>\n",
              "  </thead>\n",
              "  <tbody>\n",
              "    <tr>\n",
              "      <th>VARIOS PRODUCTOS VARIOS</th>\n",
              "      <td>566336</td>\n",
              "    </tr>\n",
              "    <tr>\n",
              "      <th>OTROS MISCELANEOS CONTENIDOS EN PAQUETES ( PAQUETEO )</th>\n",
              "      <td>240511</td>\n",
              "    </tr>\n",
              "    <tr>\n",
              "      <th>MADERA; CARBÓN VEGETAL Y MANUFACTURAS DE MADERA; CAJONES;  CAJAS;  JAULAS;  TAMBORES Y ENVASES SIMILARES;  DE MADERA; CARRETES</th>\n",
              "      <td>180712</td>\n",
              "    </tr>\n",
              "    <tr>\n",
              "      <th>VARIOS CONTENEDOR VACIO</th>\n",
              "      <td>60023</td>\n",
              "    </tr>\n",
              "    <tr>\n",
              "      <th>VEHÍCULOS AUTOMÓVILES; TRACTORES; CICLOS Y DEMÁS VEHÍCULOS TERRESTRES; SUS COCHES DE TURISMO Y DEMAS VEHICULOS AUTOMOVILES PROYECTADOS PRINCIPALMENTE PAR</th>\n",
              "      <td>44074</td>\n",
              "    </tr>\n",
              "    <tr>\n",
              "      <th>...</th>\n",
              "      <td>...</td>\n",
              "    </tr>\n",
              "    <tr>\n",
              "      <th>SUSTANCIAS COMBURENTES Y PERÓXIDOS ORGÁNICOS 3215 - 5.1 - PERSULFATOS INORGÁNICOS; N.E.P.</th>\n",
              "      <td>1</td>\n",
              "    </tr>\n",
              "    <tr>\n",
              "      <th>SÓLIDOS INFLAMABLES; SUSTANCIAS QUE PUEDEN EXPERIMENTAR COMBUSTIÓN ESPONTÁNEA; S 1295 - 4.3 - TRICLOROSILANO</th>\n",
              "      <td>1</td>\n",
              "    </tr>\n",
              "    <tr>\n",
              "      <th>SÓLIDOS INFLAMABLES; SUSTANCIAS QUE PUEDEN EXPERIMENTAR COMBUSTIÓN ESPONTÁNEA; S 1331 - 4.1 - FÓSFOROS DISTINTOS DE LOS DE SEGURIDAD</th>\n",
              "      <td>1</td>\n",
              "    </tr>\n",
              "    <tr>\n",
              "      <th>COMBUSTIBLES MINERALES; ACEITES MINERALES Y PRODUCTOS DE SU DESTILACIÓN; LIGNITOS;  INCLUSO AGLOMERADOS;  CON EXCLUSION DEL AZABACHE</th>\n",
              "      <td>1</td>\n",
              "    </tr>\n",
              "    <tr>\n",
              "      <th>LÍQUIDOS INFLAMABLES 2684 - 3 - 3-DIETILAMINOPROPILAMINA</th>\n",
              "      <td>1</td>\n",
              "    </tr>\n",
              "  </tbody>\n",
              "</table>\n",
              "<p>1780 rows × 1 columns</p>\n",
              "</div>"
            ],
            "text/plain": [
              "                                                      year\n",
              "product                                                   \n",
              "VARIOS PRODUCTOS VARIOS                             566336\n",
              "OTROS MISCELANEOS CONTENIDOS EN PAQUETES ( PAQU...  240511\n",
              "MADERA; CARBÓN VEGETAL Y MANUFACTURAS DE MADERA...  180712\n",
              "VARIOS CONTENEDOR VACIO                              60023\n",
              "VEHÍCULOS AUTOMÓVILES; TRACTORES; CICLOS Y DEMÁ...   44074\n",
              "...                                                    ...\n",
              "SUSTANCIAS COMBURENTES Y PERÓXIDOS ORGÁNICOS 32...       1\n",
              "SÓLIDOS INFLAMABLES; SUSTANCIAS QUE PUEDEN EXPE...       1\n",
              "SÓLIDOS INFLAMABLES; SUSTANCIAS QUE PUEDEN EXPE...       1\n",
              "COMBUSTIBLES MINERALES; ACEITES MINERALES Y PRO...       1\n",
              "LÍQUIDOS INFLAMABLES 2684 - 3 - 3-DIETILAMINOPR...       1\n",
              "\n",
              "[1780 rows x 1 columns]"
            ]
          },
          "metadata": {
            "tags": []
          },
          "execution_count": 11
        }
      ]
    },
    {
      "cell_type": "code",
      "metadata": {
        "id": "X36rWTh7TW3r",
        "outputId": "1c2bc8bf-eb63-4f89-e5dc-79682e27109f",
        "colab": {
          "base_uri": "https://localhost:8080/",
          "height": 224
        }
      },
      "source": [
        "df_rndc['product'].unique()[-20:-10]"
      ],
      "execution_count": 14,
      "outputs": [
        {
          "output_type": "execute_result",
          "data": {
            "text/plain": [
              "array(['SÓLIDOS INFLAMABLES; SUSTANCIAS QUE PUEDEN EXPERIMENTAR COMBUSTIÓN ESPONTÁNEA; S 1332 - 4.1 - METALDEHIDO',\n",
              "       'SÓLIDOS INFLAMABLES; SUSTANCIAS QUE PUEDEN EXPERIMENTAR COMBUSTIÓN ESPONTÁNEA; S 2793 - 4.2 - VIRUTAS; TORNEADURAS o RASPADURAS DE METALES FERROSOS en una forma',\n",
              "       'LOS DEMÁS METALES COMUNES; <<CERMETS>>; MANUFACTURAS DE ESTAS MANGANESO YSUS MANUFACTURAS;  INCLUIDOS LOS DESPERDICIOS Y DESECHOS',\n",
              "       'RELOJERÍA; PEQUE?OS MECANISMOS DE RELOJERIA COMPLETOS Y MONTADOS',\n",
              "       'MINERALES; ESCORIAS Y CENIZAS; MINERALES DE PLOMO Y SUS CONCENTRADOS',\n",
              "       'SUSTANCIAS CORROSIVAS 2079 - 8 - DIETILENTRIAMINA',\n",
              "       'SÓLIDOS INFLAMABLES; SUSTANCIAS QUE PUEDEN EXPERIMENTAR COMBUSTIÓN ESPONTÁNEA; S 1384 - 4.2 - DITIONITO SÓDICO (HIDROSULFITO SÓDICO)',\n",
              "       'SÓLIDOS INFLAMABLES; SUSTANCIAS QUE PUEDEN EXPERIMENTAR COMBUSTIÓN ESPONTÁNEA; S 1390 - 4.3 - AMIDAS DE METALES ALCALINOS',\n",
              "       'SUSTANCIAS COMBURENTES Y PERÓXIDOS ORGÁNICOS 3375 - 5.1 - EMULSIÓN DE NITRATO DE AMONIO o SUSPENSIÓN o GEL; explosivos interm',\n",
              "       'SAL; AZUFRE; TIERRAS Y PIEDRAS; YESOS; CALES Y CEMENTOS; MICA;  INCLUIDA LA MICA EXFOLIADA EN LAMINILLAS IRREGULARES; DESPERDICIOS DE M'],\n",
              "      dtype=object)"
            ]
          },
          "metadata": {
            "tags": []
          },
          "execution_count": 14
        }
      ]
    },
    {
      "cell_type": "code",
      "metadata": {
        "id": "TkMPKEQMqB4R",
        "outputId": "659bb4fc-9068-4da2-cec4-adf2bcb3a876",
        "colab": {
          "background_save": true,
          "base_uri": "https://localhost:8080/",
          "height": 224
        }
      },
      "source": [
        "df_rndc['product'].unique()[10:20]"
      ],
      "execution_count": null,
      "outputs": [
        {
          "output_type": "execute_result",
          "data": {
            "text/plain": [
              "array(['MATERIAS PLÁSTICAS Y MANUFACTURAS DE ESTAS MATERIAS; POLIACETALES;  LOS DEMAS POLIETERES Y RESINAS EPOXI;  EN FORMAS PRIMARIAS; POL',\n",
              "       'MATERIAS PLÁSTICAS Y MANUFACTURAS DE ESTAS MATERIAS; RESINAS AMINICAS;  RESINAS FENOLICAS Y POLIURETANOS;  EN FORMAS PRIMARIAS',\n",
              "       'MANUFACTURAS DIVERSAS DE METALES COMUNES; GUARNICIONES;  HERRAJES Y ARTICULOS SIMILARES DE METALCOMUN;  PARA MUEBLES;  P',\n",
              "       'SAL; AZUFRE; TIERRAS Y PIEDRAS; YESOS; CALES Y CEMENTOS; CEMENTOS HIDRAULICOS (INCLUIDOS LOS CEMENTOS SIN PULVERIZAR O CLINKER);  AUNQU',\n",
              "       'PRODUCTOS DIVERSOS DE LAS INDUSTRIAS QUÍMICAS; INSECTICIDAS;  RATICIDAS;  FUNGICIDAS;  HERBICIDAS;  INHIBIDORES DE GERMINACIO',\n",
              "       'MADERA; CARBÓN VEGETAL Y MANUFACTURAS DE MADERA; MADERA EN BRUTO;  INCLUSO DESCORTEZADA;  DESALBURADA O ESCUADRADA',\n",
              "       'PRODUCTOS EDITORIALES; DE LA PRENSA O DE OTRAS INDUSTRIAS GRÁFICAS; TEXTOS DIARIOS Y PUBLICACIONES PERIODICAS;  IMPRESOS;  INCLUSO ILUSTRADOS O CON PUBLI',\n",
              "       'MANUFACTURAS DIVERSAS DE METALES COMUNES; ALAMBRES;  VARILLAS;  TUBOS;  PLACAS;  ELECTRODOS Y ARTICULOS SIMILARES;  DE M',\n",
              "       'LOS DEMÁS ARTÍCULOS TEXTILES CONFECCIONADOS; CONJUNTOS O SURTIDOS; SACOS  (BOLSAS) Y TALEGAS;  PARA ENVASAR',\n",
              "       'OTROS MISCELANEOS CONTENIDOS EN PAQUETES ( PAQUETEO )'],\n",
              "      dtype=object)"
            ]
          },
          "metadata": {
            "tags": []
          },
          "execution_count": 0
        }
      ]
    },
    {
      "cell_type": "code",
      "metadata": {
        "id": "Sj0p_D2RPzNk"
      },
      "source": [
        "# Construccion"
      ],
      "execution_count": null,
      "outputs": []
    },
    {
      "cell_type": "code",
      "metadata": {
        "id": "AnXrm-UzP2qm"
      },
      "source": [
        "#Bebidas\n",
        "'LECHE Y PRODUCTOS LÁCTEOS; HUEVOS DE AVE; MIEL NATURAL; PRODUCTOS SUERO DE MANTEQUILLA (DE MANTECA);  LECHE Y NATA (CREMA) CUAJADAS; YOGUR; KEFI',\n",
        "       "
      ],
      "execution_count": null,
      "outputs": []
    },
    {
      "cell_type": "code",
      "metadata": {
        "id": "oJOyjYLlP3qF"
      },
      "source": [
        "# Papel y carton\n",
        "'PAPEL Y CARTÓN; MANUFACTURAS DE PASTA DE CELULOSA; DE PAPEL O DE CARTÓN; PAPEL Y CARTON KRAFT;  SIN ESTUCAR NI RECUBRIR;  EN BOBINAS O EN HOJAS;  EXCEP',\n",
        "'MADERA; CARBÓN VEGETAL Y MANUFACTURAS DE MADERA; CAJONES;  CAJAS;  JAULAS;  TAMBORES Y ENVASES SIMILARES;  DE MADERA; CARRETES',\n"
      ],
      "execution_count": null,
      "outputs": []
    },
    {
      "cell_type": "code",
      "metadata": {
        "id": "-DuFpHEtP9Ou"
      },
      "source": [
        "# Combustibles\n",
        "'LÍQUIDOS INFLAMABLES 1203 - 3 - COMBUSTIBLE PARA MOTORES o GASOLINA',\n",
        "       "
      ],
      "execution_count": null,
      "outputs": []
    },
    {
      "cell_type": "code",
      "metadata": {
        "id": "7tNakKu0PlhY"
      },
      "source": [
        "# Alimentos\n",
        "'SAL; AZUFRE; TIERRAS Y PIEDRAS; YESOS; CALES Y CEMENTOS; YESO NATURAL; ANHIDRITA; YESOS CALCINADOS;  INCLUSO COLOREADOS O CON PEQUE?AS',             \n",
        "'CARNES Y DESPOJOS COMESTIBLES LAS DEMAS CARNES Y DESPOJOS COMESTIBLES; FRESCOS; REFRIGERADOS O CONGELADOS',\n",
        "'CARNES Y DESPOJOS COMESTIBLES CARNE Y DESPOJOS COMESTIBLES; SALADOS O EN SALMUERA; SECOS O AHUMADOS;  HARIN',\n",
        "'SAL; AZUFRE; TIERRAS Y PIEDRAS; YESOS; CALES Y CEMENTOS; YESO NATURAL; ANHIDRITA; YESOS CALCINADOS;  INCLUSO COLOREADOS O CON PEQUE?AS',\n",
        "'CARNES Y DESPOJOS COMESTIBLES LAS DEMAS CARNES Y DESPOJOS COMESTIBLES; FRESCOS; REFRIGERADOS O CONGELADOS', \n",
        "'SAL; AZUFRE; TIERRAS Y PIEDRAS; YESOS; CALES Y CEMENTOS; MICA;  INCLUIDA LA MICA EXFOLIADA EN LAMINILLAS IRREGULARES; DESPERDICIOS DE M',"
      ],
      "execution_count": null,
      "outputs": []
    },
    {
      "cell_type": "code",
      "metadata": {
        "id": "F5vhdNdOP_Cw"
      },
      "source": [
        "# Paqueteo"
      ],
      "execution_count": null,
      "outputs": []
    },
    {
      "cell_type": "code",
      "metadata": {
        "id": "AYLT4iPGQA8K"
      },
      "source": [
        "# Construccion\n",
        "'PRODUCTOS CERÁMICOS; LADRILLOS;  PLACAS;  BALDOSAS Y PIEZAS CERAMICAS ANALOGAS DE CONSTRUCCION;  RE',\n",
        "\n"
      ],
      "execution_count": null,
      "outputs": []
    },
    {
      "cell_type": "code",
      "metadata": {
        "id": "KMYHcdfIQClf"
      },
      "source": [
        "# Mineria\n",
        "'FUNDICIÓN; HIERRO Y ACERO; FUNDICION EN BRUTO Y FUNDICION ESPECULAR;  EN LINGOTES;  BLOQUES U OTRAS FORMA',\n",
        "'FUNDICIÓN; HIERRO Y ACERO; PRODUCTOS FERREOS OBTENIDOS POR REDUCCION DIRECTA DE MINERALES DE HIERRO Y DEM',\n",
        "'MINERALES; ESCORIAS Y CENIZAS; MINERALES DE PLOMO Y SUS CONCENTRADOS',"
      ],
      "execution_count": null,
      "outputs": []
    },
    {
      "cell_type": "code",
      "metadata": {
        "id": "OzlzfDgcQE8U"
      },
      "source": [
        "# Plasticos y polimeros\n",
        "'MATERIAS PLÁSTICAS Y MANUFACTURAS DE ESTAS MATERIAS; POLIMEROS DE ETILENO EN FORMAS PRIMARIAS',\n",
        "'MATERIAS PLÁSTICAS Y MANUFACTURAS DE ESTAS MATERIAS; POLIMEROS ACRILICOS EN FORMAS PRIMARIAS',\n",
        "       "
      ],
      "execution_count": null,
      "outputs": []
    },
    {
      "cell_type": "code",
      "metadata": {
        "id": "2y4hH0HBRWPx"
      },
      "source": [
        "# Quimicos\n",
        "'PRODUCTOS QUÍMICOS INORGÁNICOS; COMPUESTOS INORGÁNICOS U ORGÁNICOS DE SILICATOS; SILICATOS COMERCIALES DE LOS METALES ALCALINOS',\n",
        "'SÓLIDOS INFLAMABLES; SUSTANCIAS QUE PUEDEN EXPERIMENTAR COMBUSTIÓN ESPONTÁNEA; S 1390 - 4.3 - AMIDAS DE METALES ALCALINOS',\n",
        "'SUSTANCIAS COMBURENTES Y PERÓXIDOS ORGÁNICOS 3375 - 5.1 - EMULSIÓN DE NITRATO DE AMONIO o SUSPENSIÓN o GEL; explosivos interm',\n",
        "'SÓLIDOS INFLAMABLES; SUSTANCIAS QUE PUEDEN EXPERIMENTAR COMBUSTIÓN ESPONTÁNEA; S 1332 - 4.1 - METALDEHIDO',\n",
        "'SÓLIDOS INFLAMABLES; SUSTANCIAS QUE PUEDEN EXPERIMENTAR COMBUSTIÓN ESPONTÁNEA; S 2793 - 4.2 - VIRUTAS; TORNEADURAS o RASPADURAS DE METALES FERROSOS en una forma',\n",
        "'LOS DEMÁS METALES COMUNES; <<CERMETS>>; MANUFACTURAS DE ESTAS MANGANESO YSUS MANUFACTURAS;  INCLUIDOS LOS DESPERDICIOS Y DESECHOS',"
      ],
      "execution_count": null,
      "outputs": []
    },
    {
      "cell_type": "code",
      "metadata": {
        "id": "iO8KMJaJQUeX"
      },
      "source": [
        "# Manufacturas\n",
        "'CALZADO; POLAINAS; BOTINES Y ARTÍCULOS ANÁLOGOS; PARTES DE ESTOS ARTÍCULOS; PARTES DE CALZADO ( INCLUSO LAS PARTES SUPERIORES FIJADAS A LAS PALMILLAS DIST',\n",
        "'VIDRIO Y MANUFACTURAS DE VIDRIO; VIDRIO FLOTADO Y VIDRIO DESBASTADO O PULIDO POR UNA DE LAS DOS CARAS;  EN PLAC',\n",
        " 'PRENDAS Y COMPLEMENTOS DE VESTIR; DE PUNTO; PRENDAS CONFECCIONADAS CON TEJIDOS DE PUNTO DE LAS PARTIDAS 5903;  5906 O 5907',\n",
        " 'ALFOMBRAS Y DEMÁS REVESTIMIENTOS PARA EL SUELO; DE MATERIAS TEXTILES; ALFOMBRAS Y DEMAS REVESTIMIENTOS PARA EL SUELO;  DE FIELTRO;  EXCEPTO LOS DE M',\n",
        "'RELOJERÍA; PEQUE?OS MECANISMOS DE RELOJERIA COMPLETOS Y MONTADOS',\n"
      ],
      "execution_count": null,
      "outputs": []
    },
    {
      "cell_type": "code",
      "metadata": {
        "id": "bUeIX87lM-se"
      },
      "source": [
        "product_group = {'':'Construccion',\n",
        "    'SAL; AZUFRE; TIERRAS Y PIEDRAS; YESOS; CALES Y CEMENTOS; YESO NATURAL; ANHIDRITA; YESOS CALCINADOS;  INCLUSO COLOREADOS O CON PEQUE?AS':'Alimentos'              \n",
        "  'CARNES Y DESPOJOS COMESTIBLES LAS DEMAS CARNES Y DESPOJOS COMESTIBLES; FRESCOS; REFRIGERADOS O CONGELADOS':'Alimentos',\n",
        "                 '':'Bebidas',\n",
        "                 '':'Papel y carton',\n",
        "                 '':'Combustibles',\n",
        "                 '':'Paqueteo',\n",
        "                 '':'Construccion',\n",
        "                 '':'Mineria',\n",
        "                 '':'Plasticos y polimeros'\n",
        "                 '':'Manufacturas',\n",
        "\n",
        "                 }"
      ],
      "execution_count": null,
      "outputs": []
    },
    {
      "cell_type": "code",
      "metadata": {
        "id": "2DE3IuYZNHiN"
      },
      "source": [
        "df_rndc['product_group']= df_rndc['product'].map(product_group)"
      ],
      "execution_count": null,
      "outputs": []
    },
    {
      "cell_type": "code",
      "metadata": {
        "id": "0B57jU2XofO2",
        "outputId": "04ed6578-92ad-428b-af17-9af371f725cf",
        "colab": {
          "base_uri": "https://localhost:8080/",
          "height": 142
        }
      },
      "source": [
        "#Operation code. False: Llegando o descargue en Bogotá\n",
        "#Operation code. True: Saliendo o cargue en Bogotá\n",
        "df_rndc[df_rndc['product'] == 'VARIOS CONTENEDOR VACIO'][['weekday','operation_code']].groupby('operation_code').count() * 100 /(df_rndc[df_rndc['product'] == 'VARIOS CONTENEDOR VACIO'].shape[0])#.plot.pie(y = 'weekday')"
      ],
      "execution_count": null,
      "outputs": [
        {
          "output_type": "execute_result",
          "data": {
            "text/html": [
              "<div>\n",
              "<style scoped>\n",
              "    .dataframe tbody tr th:only-of-type {\n",
              "        vertical-align: middle;\n",
              "    }\n",
              "\n",
              "    .dataframe tbody tr th {\n",
              "        vertical-align: top;\n",
              "    }\n",
              "\n",
              "    .dataframe thead th {\n",
              "        text-align: right;\n",
              "    }\n",
              "</style>\n",
              "<table border=\"1\" class=\"dataframe\">\n",
              "  <thead>\n",
              "    <tr style=\"text-align: right;\">\n",
              "      <th></th>\n",
              "      <th>weekday</th>\n",
              "    </tr>\n",
              "    <tr>\n",
              "      <th>operation_code</th>\n",
              "      <th></th>\n",
              "    </tr>\n",
              "  </thead>\n",
              "  <tbody>\n",
              "    <tr>\n",
              "      <th>False</th>\n",
              "      <td>22.314779</td>\n",
              "    </tr>\n",
              "    <tr>\n",
              "      <th>True</th>\n",
              "      <td>77.685221</td>\n",
              "    </tr>\n",
              "  </tbody>\n",
              "</table>\n",
              "</div>"
            ],
            "text/plain": [
              "                  weekday\n",
              "operation_code           \n",
              "False           22.314779\n",
              "True            77.685221"
            ]
          },
          "metadata": {
            "tags": []
          },
          "execution_count": 46
        }
      ]
    },
    {
      "cell_type": "code",
      "metadata": {
        "id": "wtcf-6E2pBZw",
        "outputId": "c6a422ed-7b40-460b-b224-5b60c3ef1317",
        "colab": {
          "base_uri": "https://localhost:8080/",
          "height": 265
        }
      },
      "source": [
        "df_rndc[df_rndc['product'] == 'VARIOS CONTENEDOR VACIO'][['weekday','operation_code']].groupby('operation_code').count().plot.pie(y = 'weekday')"
      ],
      "execution_count": null,
      "outputs": [
        {
          "output_type": "execute_result",
          "data": {
            "text/plain": [
              "<matplotlib.axes._subplots.AxesSubplot at 0x7fd79dfaa940>"
            ]
          },
          "metadata": {
            "tags": []
          },
          "execution_count": 47
        },
        {
          "output_type": "display_data",
          "data": {
            "image/png": "[encoded data removed]",
            "text/plain": [
              "<Figure size 432x288 with 1 Axes>"
            ]
          },
          "metadata": {
            "tags": []
          }
        }
      ]
    },
    {
      "cell_type": "code",
      "metadata": {
        "id": "iSyRLGE0-556"
      },
      "source": [
        ""
      ],
      "execution_count": null,
      "outputs": []
    }
  ]
}